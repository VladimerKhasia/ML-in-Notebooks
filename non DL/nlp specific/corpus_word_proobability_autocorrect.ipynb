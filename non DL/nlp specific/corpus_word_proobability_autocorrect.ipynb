{
  "cells": [
    {
      "attachments": {},
      "cell_type": "markdown",
      "id": "r_yT1c5CUM54",
      "metadata": {
        "id": "r_yT1c5CUM54"
      },
      "source": [
        "Dataset:\n",
        "\n",
        "you can take any .txt file format, create it yourself or download it from any source, e.g. from project gutenberg https://www.gutenberg.org/\n",
        "\n",
        "I created Rustavely.txt file, which you can download here and use: https://1drv.ms/t/s!AhnVhbVlzYkKgQmnRS7FrC4QrQNM?e=800gvv\n",
        "\n",
        "References:\n",
        "\n",
        "Peter Norvig in 2007 https://norvig.com/spell-correct.html also reference to deeplearning.ai for this one and some others in this folder"
      ]
    },
    {
      "cell_type": "code",
      "execution_count": 67,
      "id": "FLeSl86L88KS",
      "metadata": {
        "id": "FLeSl86L88KS"
      },
      "outputs": [],
      "source": [
        "import re\n",
        "import collections\n",
        "from collections import Counter\n",
        "import numpy as np\n",
        "import pandas as pd"
      ]
    },
    {
      "cell_type": "code",
      "execution_count": 69,
      "id": "CiedE5Z088KY",
      "metadata": {
        "id": "CiedE5Z088KY"
      },
      "outputs": [],
      "source": [
        "def process_data(file_name):\n",
        "    \"\"\"\n",
        "    Input: \n",
        "        A file_name which is found in your current directory. You just have to read it in. \n",
        "    Output: \n",
        "        words: a list containing all the words in the corpus (text file you read) in lower case. \n",
        "    \"\"\"\n",
        "    words = [] # return this variable correctly\n",
        "\n",
        "    with open(file_name) as f:\n",
        "        file_name_data = f.read()\n",
        "    file_name_data=file_name_data.lower()\n",
        "    words = re.findall('\\w+',file_name_data)\n",
        "    \n",
        "    return words"
      ]
    },
    {
      "cell_type": "code",
      "execution_count": 70,
      "id": "xc3mmqlu88Ka",
      "metadata": {
        "colab": {
          "base_uri": "https://localhost:8080/"
        },
        "deletable": false,
        "editable": false,
        "id": "xc3mmqlu88Ka",
        "outputId": "8e3c0883-eff9-471f-b68b-cc667a627dfd"
      },
      "outputs": [
        {
          "name": "stdout",
          "output_type": "stream",
          "text": [
            "The first ten words in the text are: \n",
            "['shota', 'rustaveli', 'introductory', 'quatrains', 'he', 'who', 'created', 'the', 'firmament', 'by']\n",
            "There are 5805 unique words in the vocabulary.\n"
          ]
        }
      ],
      "source": [
        "word_l = process_data('./Rustaveli.txt')\n",
        "vocab = set(word_l)  # this will be your new vocabulary\n",
        "print(f\"The first ten words in the text are: \\n{word_l[0:10]}\")\n",
        "print(f\"There are {len(vocab)} unique words in the vocabulary.\")"
      ]
    },
    {
      "cell_type": "code",
      "execution_count": 72,
      "id": "W2yJbNQM88Kc",
      "metadata": {
        "id": "W2yJbNQM88Kc"
      },
      "outputs": [],
      "source": [
        "def get_count(word_l):\n",
        "    '''\n",
        "    Input:\n",
        "        word_l: a set of words representing the corpus. \n",
        "    Output:\n",
        "        word_count_dict: The wordcount dictionary where key is the word and value is its frequency.\n",
        "    '''\n",
        "    \n",
        "    word_count_dict = {}  # fill this with word counts\n",
        "    word_count_dict = Counter(word_l)\n",
        "    \n",
        "    return word_count_dict"
      ]
    },
    {
      "cell_type": "code",
      "execution_count": 73,
      "id": "IIRg1P5388Kd",
      "metadata": {
        "colab": {
          "base_uri": "https://localhost:8080/"
        },
        "deletable": false,
        "editable": false,
        "id": "IIRg1P5388Kd",
        "outputId": "877b6f9b-1f10-4a8a-efaf-3683338acc8d"
      },
      "outputs": [
        {
          "name": "stdout",
          "output_type": "stream",
          "text": [
            "There are 5805 key values pairs\n",
            "The count for the word 'thee' is 708\n"
          ]
        }
      ],
      "source": [
        "word_count_dict = get_count(word_l)\n",
        "print(f\"There are {len(word_count_dict)} key values pairs\")\n",
        "print(f\"The count for the word 'thee' is {word_count_dict.get('thee',0)}\")"
      ]
    },
    {
      "cell_type": "code",
      "execution_count": 75,
      "id": "_eOOgQG488Kf",
      "metadata": {
        "id": "_eOOgQG488Kf"
      },
      "outputs": [],
      "source": [
        "def get_probs(word_count_dict):\n",
        "    '''\n",
        "    Input:\n",
        "        word_count_dict: The wordcount dictionary where key is the word and value is its frequency.\n",
        "    Output:\n",
        "        probs: A dictionary where keys are the words and the values are the probability that a word will occur. \n",
        "    '''\n",
        "    probs = {}  # return this variable correctly\n",
        "    \n",
        "    m = sum(word_count_dict.values())\n",
        "    for key in word_count_dict.keys():\n",
        "        probs[key] = word_count_dict[key] / m\n",
        "        \n",
        "    return probs"
      ]
    },
    {
      "cell_type": "code",
      "execution_count": 76,
      "id": "-XmQNI8k88Kf",
      "metadata": {
        "colab": {
          "base_uri": "https://localhost:8080/"
        },
        "deletable": false,
        "editable": false,
        "id": "-XmQNI8k88Kf",
        "outputId": "2cdda4be-c95f-459a-e740-3c21e99915a3"
      },
      "outputs": [
        {
          "name": "stdout",
          "output_type": "stream",
          "text": [
            "Length of probs is 5805\n",
            "P('thee') is 0.0093\n"
          ]
        }
      ],
      "source": [
        "probs = get_probs(word_count_dict)\n",
        "print(f\"Length of probs is {len(probs)}\")\n",
        "print(f\"P('thee') is {probs['thee']:.4f}\")"
      ]
    },
    {
      "cell_type": "code",
      "execution_count": 78,
      "id": "p-UQOmhd88Kk",
      "metadata": {
        "id": "p-UQOmhd88Kk"
      },
      "outputs": [],
      "source": [
        "def delete_letter(word, verbose=False):\n",
        "    '''\n",
        "    Input:\n",
        "        word: the string/word for which you will generate all possible words \n",
        "                in the vocabulary which have 1 missing character\n",
        "    Output:\n",
        "        delete_l: a list of all possible strings obtained by deleting 1 character from word\n",
        "    '''\n",
        "    \n",
        "    delete_l = []\n",
        "    split_l = []\n",
        "    \n",
        "    for c in range(len(word)):\n",
        "        split_l.append((word[:c],word[c:]))\n",
        "    for a,b in split_l:\n",
        "        delete_l.append(a+b[1:]) \n",
        "\n",
        "    if verbose: print(f\"input word {word}, \\nsplit_l = {split_l}, \\ndelete_l = {delete_l}\")\n",
        "\n",
        "    return  delete_l"
      ]
    },
    {
      "cell_type": "code",
      "execution_count": 79,
      "id": "TJdDawaq88Kk",
      "metadata": {
        "colab": {
          "base_uri": "https://localhost:8080/"
        },
        "id": "TJdDawaq88Kk",
        "outputId": "b1be9d38-a7b4-46e4-9b2a-c0cdd03fe6df"
      },
      "outputs": [
        {
          "name": "stdout",
          "output_type": "stream",
          "text": [
            "input word cans, \n",
            "split_l = [('', 'cans'), ('c', 'ans'), ('ca', 'ns'), ('can', 's')], \n",
            "delete_l = ['ans', 'cns', 'cas', 'can']\n"
          ]
        }
      ],
      "source": [
        "delete_word_l = delete_letter(word=\"cans\",\n",
        "                        verbose=True)"
      ]
    },
    {
      "cell_type": "code",
      "execution_count": 80,
      "id": "q6BIQYhu88Km",
      "metadata": {
        "colab": {
          "base_uri": "https://localhost:8080/"
        },
        "id": "q6BIQYhu88Km",
        "outputId": "d04f822b-8b8a-4365-e560-a2b593cc18cf"
      },
      "outputs": [
        {
          "name": "stdout",
          "output_type": "stream",
          "text": [
            "Number of outputs of delete_letter('at') is 2\n"
          ]
        }
      ],
      "source": [
        "print(f\"Number of outputs of delete_letter('at') is {len(delete_letter('at'))}\")"
      ]
    },
    {
      "cell_type": "code",
      "execution_count": 82,
      "id": "HdtWg0wf88Ko",
      "metadata": {
        "id": "HdtWg0wf88Ko",
        "lines_to_end_of_cell_marker": 2
      },
      "outputs": [],
      "source": [
        "def switch_letter(word, verbose=False):\n",
        "    '''\n",
        "    Input:\n",
        "        word: input string\n",
        "     Output:\n",
        "        switches: a list of all possible strings with one adjacent charater switched\n",
        "    ''' \n",
        "    \n",
        "    switch_l = []\n",
        "    split_l = []\n",
        "    len_word=len(word)\n",
        "    for c in range(len_word):\n",
        "        split_l.append((word[:c],word[c:]))\n",
        "    switch_l = [a + b[1] + b[0] + b[2:] for a,b in split_l if len(b) >= 2]\n",
        "    \n",
        "    if verbose: print(f\"Input word = {word} \\nsplit_l = {split_l} \\nswitch_l = {switch_l}\") \n",
        "    \n",
        "    return switch_l"
      ]
    },
    {
      "cell_type": "code",
      "execution_count": 83,
      "id": "7bU76IIm88Ko",
      "metadata": {
        "colab": {
          "base_uri": "https://localhost:8080/"
        },
        "id": "7bU76IIm88Ko",
        "outputId": "0bdb6731-d03c-48aa-f96f-275fc37e024c"
      },
      "outputs": [
        {
          "name": "stdout",
          "output_type": "stream",
          "text": [
            "Input word = eta \n",
            "split_l = [('', 'eta'), ('e', 'ta'), ('et', 'a')] \n",
            "switch_l = ['tea', 'eat']\n"
          ]
        }
      ],
      "source": [
        "switch_word_l = switch_letter(word=\"eta\",\n",
        "                         verbose=True)"
      ]
    },
    {
      "cell_type": "code",
      "execution_count": 84,
      "id": "YS9GOiIQ88Kp",
      "metadata": {
        "colab": {
          "base_uri": "https://localhost:8080/"
        },
        "id": "YS9GOiIQ88Kp",
        "outputId": "0b732c10-38cd-4343-995c-d4dc6c22fb41"
      },
      "outputs": [
        {
          "name": "stdout",
          "output_type": "stream",
          "text": [
            "Number of outputs of switch_letter('at') is 1\n"
          ]
        }
      ],
      "source": [
        "print(f\"Number of outputs of switch_letter('at') is {len(switch_letter('at'))}\")"
      ]
    },
    {
      "cell_type": "code",
      "execution_count": 86,
      "id": "ksS9TFkO88Kr",
      "metadata": {
        "id": "ksS9TFkO88Kr"
      },
      "outputs": [],
      "source": [
        "def replace_letter(word, verbose=False):\n",
        "    '''\n",
        "    Input:\n",
        "        word: the input string/word \n",
        "    Output:\n",
        "        replaces: a list of all possible strings where we replaced one letter from the original word. \n",
        "    ''' \n",
        "    \n",
        "    letters = 'abcdefghijklmnopqrstuvwxyz'\n",
        "    \n",
        "    replace_l = []\n",
        "    split_l = []\n",
        "    \n",
        "    for c in range(len(word)):\n",
        "        split_l.append((word[0:c],word[c:]))\n",
        "    replace_l = [a + l + (b[1:] if len(b)> 1 else '') for a,b in split_l if b for l in letters]\n",
        "    replace_set=set(replace_l)    \n",
        "    replace_set.remove(word)\n",
        "    \n",
        "    # turn the set back into a list and sort it, for easier viewing\n",
        "    replace_l = sorted(list(replace_set))\n",
        "    \n",
        "    if verbose: print(f\"Input word = {word} \\nsplit_l = {split_l} \\nreplace_l {replace_l}\")   \n",
        "    \n",
        "    return replace_l"
      ]
    },
    {
      "cell_type": "code",
      "execution_count": 87,
      "id": "cU8Y4V9o88Kr",
      "metadata": {
        "colab": {
          "base_uri": "https://localhost:8080/"
        },
        "id": "cU8Y4V9o88Kr",
        "outputId": "dd1a40e7-3408-41ac-86f5-d2f0cc9d11cc"
      },
      "outputs": [
        {
          "name": "stdout",
          "output_type": "stream",
          "text": [
            "Input word = can \n",
            "split_l = [('', 'can'), ('c', 'an'), ('ca', 'n')] \n",
            "replace_l ['aan', 'ban', 'caa', 'cab', 'cac', 'cad', 'cae', 'caf', 'cag', 'cah', 'cai', 'caj', 'cak', 'cal', 'cam', 'cao', 'cap', 'caq', 'car', 'cas', 'cat', 'cau', 'cav', 'caw', 'cax', 'cay', 'caz', 'cbn', 'ccn', 'cdn', 'cen', 'cfn', 'cgn', 'chn', 'cin', 'cjn', 'ckn', 'cln', 'cmn', 'cnn', 'con', 'cpn', 'cqn', 'crn', 'csn', 'ctn', 'cun', 'cvn', 'cwn', 'cxn', 'cyn', 'czn', 'dan', 'ean', 'fan', 'gan', 'han', 'ian', 'jan', 'kan', 'lan', 'man', 'nan', 'oan', 'pan', 'qan', 'ran', 'san', 'tan', 'uan', 'van', 'wan', 'xan', 'yan', 'zan']\n"
          ]
        }
      ],
      "source": [
        "replace_l = replace_letter(word='can',\n",
        "                              verbose=True)"
      ]
    },
    {
      "cell_type": "code",
      "execution_count": 88,
      "id": "YV1Zrztm88Kt",
      "metadata": {
        "colab": {
          "base_uri": "https://localhost:8080/"
        },
        "id": "YV1Zrztm88Kt",
        "outputId": "a192eb25-faba-4fa8-d206-c0b044ca87ad"
      },
      "outputs": [
        {
          "name": "stdout",
          "output_type": "stream",
          "text": [
            "Number of outputs of replace_letter('at') is 50\n"
          ]
        }
      ],
      "source": [
        "print(f\"Number of outputs of replace_letter('at') is {len(replace_letter('at'))}\")"
      ]
    },
    {
      "cell_type": "code",
      "execution_count": 90,
      "id": "sRqbyQKg88Ku",
      "metadata": {
        "id": "sRqbyQKg88Ku"
      },
      "outputs": [],
      "source": [
        "def insert_letter(word, verbose=False):\n",
        "    '''\n",
        "    Input:\n",
        "        word: the input string/word \n",
        "    Output:\n",
        "        inserts: a set of all possible strings with one new letter inserted at every offset\n",
        "    ''' \n",
        "    letters = 'abcdefghijklmnopqrstuvwxyz'\n",
        "    insert_l = []\n",
        "    split_l = []\n",
        "    \n",
        "    for c in range(len(word)+1):\n",
        "        split_l.append((word[0:c],word[c:]))\n",
        "    insert_l = [ a + l + b for a,b in split_l for l in letters]\n",
        "    \n",
        "    if verbose: print(f\"Input word {word} \\nsplit_l = {split_l} \\ninsert_l = {insert_l}\")\n",
        "    \n",
        "    return insert_l"
      ]
    },
    {
      "cell_type": "code",
      "execution_count": 91,
      "id": "024qZkJZ88Ku",
      "metadata": {
        "colab": {
          "base_uri": "https://localhost:8080/"
        },
        "id": "024qZkJZ88Ku",
        "outputId": "5aaaa346-1aae-49c9-ed9a-70a86d1925ca"
      },
      "outputs": [
        {
          "name": "stdout",
          "output_type": "stream",
          "text": [
            "Input word at \n",
            "split_l = [('', 'at'), ('a', 't'), ('at', '')] \n",
            "insert_l = ['aat', 'bat', 'cat', 'dat', 'eat', 'fat', 'gat', 'hat', 'iat', 'jat', 'kat', 'lat', 'mat', 'nat', 'oat', 'pat', 'qat', 'rat', 'sat', 'tat', 'uat', 'vat', 'wat', 'xat', 'yat', 'zat', 'aat', 'abt', 'act', 'adt', 'aet', 'aft', 'agt', 'aht', 'ait', 'ajt', 'akt', 'alt', 'amt', 'ant', 'aot', 'apt', 'aqt', 'art', 'ast', 'att', 'aut', 'avt', 'awt', 'axt', 'ayt', 'azt', 'ata', 'atb', 'atc', 'atd', 'ate', 'atf', 'atg', 'ath', 'ati', 'atj', 'atk', 'atl', 'atm', 'atn', 'ato', 'atp', 'atq', 'atr', 'ats', 'att', 'atu', 'atv', 'atw', 'atx', 'aty', 'atz']\n",
            "Number of strings output by insert_letter('at') is 78\n"
          ]
        }
      ],
      "source": [
        "insert_l = insert_letter('at', True)\n",
        "print(f\"Number of strings output by insert_letter('at') is {len(insert_l)}\")"
      ]
    },
    {
      "cell_type": "code",
      "execution_count": 93,
      "id": "_Pba4fH188Kx",
      "metadata": {
        "id": "_Pba4fH188Kx"
      },
      "outputs": [],
      "source": [
        "def edit_one_letter(word, allow_switches = True):\n",
        "    \"\"\"\n",
        "    Input:\n",
        "        word: the string/word for which we will generate all possible wordsthat are one edit away.\n",
        "    Output:\n",
        "        edit_one_set: a set of words with one possible edit. Please return a set. and not a list.\n",
        "    \"\"\"\n",
        "    \n",
        "    edit_one_set = set()\n",
        "    \n",
        "    edit_one_set.update(delete_letter(word))\n",
        "    if allow_switches:\n",
        "        edit_one_set.update(switch_letter(word))\n",
        "    edit_one_set.update(replace_letter(word))\n",
        "    edit_one_set.update(insert_letter(word))\n",
        "    \n",
        "    # return this as a set and not a list\n",
        "    return set(edit_one_set)"
      ]
    },
    {
      "cell_type": "code",
      "execution_count": null,
      "id": "u2U6qMUe88Kx",
      "metadata": {
        "colab": {
          "base_uri": "https://localhost:8080/"
        },
        "id": "u2U6qMUe88Kx",
        "outputId": "416cc711-bdc0-4300-a52c-bc74e22c59b6"
      },
      "outputs": [],
      "source": [
        "tmp_word = \"at\"\n",
        "tmp_edit_one_set = edit_one_letter(tmp_word)\n",
        "# turn this into a list to sort it, in order to view it\n",
        "tmp_edit_one_l = sorted(list(tmp_edit_one_set))\n",
        "\n",
        "print(f\"input word {tmp_word} \\nedit_one_l \\n{tmp_edit_one_l}\\n\")\n",
        "print(f\"The type of the returned object should be a set {type(tmp_edit_one_set)}\")\n",
        "print(f\"Number of outputs from edit_one_letter('at') is {len(edit_one_letter('at'))}\")"
      ]
    },
    {
      "cell_type": "code",
      "execution_count": 96,
      "id": "LGaVjc9t88Kz",
      "metadata": {
        "id": "LGaVjc9t88Kz"
      },
      "outputs": [],
      "source": [
        "def edit_two_letters(word, allow_switches = True):\n",
        "    '''\n",
        "    Input:\n",
        "        word: the input string/word \n",
        "    Output:\n",
        "        edit_two_set: a set of strings with all possible two edits\n",
        "    '''\n",
        "    \n",
        "    edit_two_set = set()\n",
        "    \n",
        "    edit_one = edit_one_letter(word,allow_switches=allow_switches)\n",
        "    for w in edit_one:\n",
        "        if w:\n",
        "            edit_two = edit_one_letter(w,allow_switches=allow_switches)\n",
        "            edit_two_set.update(edit_two)\n",
        "    \n",
        "    # return this as a set instead of a list\n",
        "    return set(edit_two_set)"
      ]
    },
    {
      "cell_type": "code",
      "execution_count": null,
      "id": "3gnBUXEv88Kz",
      "metadata": {
        "colab": {
          "base_uri": "https://localhost:8080/"
        },
        "id": "3gnBUXEv88Kz",
        "outputId": "a3465d4b-5e72-452b-c089-6ab81dac4cc5"
      },
      "outputs": [],
      "source": [
        "tmp_edit_two_set = edit_two_letters(\"a\")\n",
        "tmp_edit_two_l = sorted(list(tmp_edit_two_set))\n",
        "print(f\"Number of strings with edit distance of two: {len(tmp_edit_two_l)}\")\n",
        "print(f\"First 10 strings {tmp_edit_two_l[:10]}\")\n",
        "print(f\"Last 10 strings {tmp_edit_two_l[-10:]}\")\n",
        "print(f\"The data type of the returned object should be a set {type(tmp_edit_two_set)}\")\n",
        "print(f\"Number of strings that are 2 edit distances from 'at' is {len(edit_two_letters('at'))}\")"
      ]
    },
    {
      "cell_type": "code",
      "execution_count": 99,
      "id": "jcbenBbN88K1",
      "metadata": {
        "colab": {
          "base_uri": "https://localhost:8080/"
        },
        "id": "jcbenBbN88K1",
        "outputId": "79d91ca4-1ea0-4702-d6c3-8fa9d8d99bd3"
      },
      "outputs": [
        {
          "name": "stdout",
          "output_type": "stream",
          "text": [
            "[]\n",
            "['a', 'b']\n",
            "['Most', 'Likely']\n",
            "['least', 'of', 'all']\n"
          ]
        }
      ],
      "source": [
        "# example of logical operation on lists or sets\n",
        "print( [] and [\"a\",\"b\"] )\n",
        "print( [] or [\"a\",\"b\"] )\n",
        "#example of Short circuit behavior\n",
        "val1 =  [\"Most\",\"Likely\"] or [\"Less\",\"so\"] or [\"least\",\"of\",\"all\"]  # selects first, does not evalute remainder\n",
        "print(val1)\n",
        "val2 =  [] or [] or [\"least\",\"of\",\"all\"] # continues evaluation until there is a non-empty list\n",
        "print(val2)"
      ]
    },
    {
      "cell_type": "code",
      "execution_count": 100,
      "id": "7rsXu8cM88K2",
      "metadata": {
        "id": "7rsXu8cM88K2"
      },
      "outputs": [],
      "source": [
        "def get_corrections(word, probs, vocab, n=2, verbose = False):\n",
        "    '''\n",
        "    Input: \n",
        "        word: a user entered string to check for suggestions\n",
        "        probs: a dictionary that maps each word to its probability in the corpus\n",
        "        vocab: a set containing all the vocabulary\n",
        "        n: number of possible word corrections you want returned in the dictionary\n",
        "    Output: \n",
        "        n_best: a list of tuples with the most probable n corrected words and their probabilities.\n",
        "    '''\n",
        "    \n",
        "    suggestions = []\n",
        "    n_best = []\n",
        "    \n",
        "    suggestions = list((word in vocab and word) or edit_one_letter(word).intersection(vocab) or edit_two_letters(word).intersection(vocab))\n",
        "    dictionary = {s:probs[s] for s in list(reversed(suggestions))}\n",
        "    keys = list(dictionary.keys())\n",
        "    values = list(dictionary.values())\n",
        "    sorted_value_index = np.argsort(values)[::-1][:n] ## reversed order --> big to small\n",
        "    n_best = [(keys[i], values[i]) for i in sorted_value_index] ##{keys[i]: values[i] for i in sorted_value_index}\n",
        "    \n",
        "    if verbose: print(\"entered word = \", word, \"\\nsuggestions = \", suggestions)\n",
        "\n",
        "    return n_best"
      ]
    },
    {
      "cell_type": "code",
      "execution_count": 101,
      "id": "2VxCj0g388K2",
      "metadata": {
        "colab": {
          "base_uri": "https://localhost:8080/"
        },
        "id": "2VxCj0g388K2",
        "outputId": "a7eb8919-7254-4915-a0a1-1be62d4ab69b"
      },
      "outputs": [
        {
          "name": "stdout",
          "output_type": "stream",
          "text": [
            "entered word =  dys \n",
            "suggestions =  ['days', 'dye']\n",
            "word 0: dye, probability 0.000053\n",
            "word 1: days, probability 0.000620\n",
            "data type of corrections <class 'list'>\n"
          ]
        }
      ],
      "source": [
        "my_word = 'dys' \n",
        "tmp_corrections = get_corrections(my_word, probs, vocab, 2, verbose=True) # keep verbose=True\n",
        "for i, word_prob in enumerate(tmp_corrections):\n",
        "    print(f\"word {i}: {word_prob[0]}, probability {word_prob[1]:.6f}\")\n",
        "\n",
        "\n",
        "print(f\"data type of corrections {type(tmp_corrections)}\")"
      ]
    },
    {
      "cell_type": "code",
      "execution_count": 103,
      "id": "8DAwfRE988K7",
      "metadata": {
        "id": "8DAwfRE988K7"
      },
      "outputs": [],
      "source": [
        "def min_edit_distance(source, target, ins_cost = 1, del_cost = 1, rep_cost = 2):\n",
        "    '''\n",
        "    Input: \n",
        "        source: a string corresponding to the string you are starting with\n",
        "        target: a string corresponding to the string you want to end with\n",
        "        ins_cost: an integer setting the insert cost\n",
        "        del_cost: an integer setting the delete cost\n",
        "        rep_cost: an integer setting the replace cost\n",
        "    Output:\n",
        "        D: a matrix of len(source)+1 by len(target)+1 containing minimum edit distances\n",
        "        med: the minimum edit distance (med) required to convert the source string to the target\n",
        "    '''\n",
        "    # use deletion and insert cost as  1\n",
        "    m = len(source) \n",
        "    n = len(target) \n",
        "    #initialize cost matrix with zeros and dimensions (m+1,n+1) \n",
        "    D = np.zeros((m+1, n+1), dtype=int) \n",
        "    \n",
        "    # Fill in column 0, from row 1 to row m\n",
        "    for row in range(1,m+1): # Replace None with the proper range\n",
        "        D[row,0] = D[row-1,0] + del_cost\n",
        "        \n",
        "    # Fill in row 0, for all columns from 1 to n\n",
        "    for col in range(1,n+1): # Replace None with the proper range\n",
        "        D[0,col] = D[0,col-1] + ins_cost\n",
        "        \n",
        "    # Loop through row 1 to row m\n",
        "    for row in range(1,m+1): \n",
        "        \n",
        "        # Loop through column 1 to column n\n",
        "        for col in range(1,n+1):\n",
        "            \n",
        "            # Intialize r_cost to the 'replace' cost that is passed into this function\n",
        "            r_cost = rep_cost\n",
        "            \n",
        "            # Check to see if source character at the previous row\n",
        "            # matches the target character at the previous column, \n",
        "            if source[row-1] == target[col-1]:\n",
        "                # Update the replacement cost to 0 if source and target are the same\n",
        "                r_cost = 0\n",
        "                \n",
        "            # Update the cost at row, col based on previous entries in the cost matrix\n",
        "            # Refer to the equation calculate for D[i,j] (the minimum of three calculated costs)\n",
        "            D[row,col] = min([D[row-1,col]+del_cost, D[row,col-1]+ins_cost, D[row-1,col-1]+r_cost])\n",
        "          \n",
        "    # Set the minimum edit distance with the cost found at row m, column n\n",
        "    med = D[m,n]\n",
        "    \n",
        "    return D, med"
      ]
    },
    {
      "cell_type": "code",
      "execution_count": null,
      "id": "hv_tOjCf88K8",
      "metadata": {
        "colab": {
          "base_uri": "https://localhost:8080/"
        },
        "id": "hv_tOjCf88K8",
        "outputId": "0c801aea-9515-4dee-f86f-ea57b6b4fcdd"
      },
      "outputs": [],
      "source": [
        "source =  'play'\n",
        "target = 'stay'\n",
        "matrix, min_edits = min_edit_distance(source, target)\n",
        "print(\"minimum edits: \",min_edits, \"\\n\")\n",
        "idx = list('#' + source)\n",
        "cols = list('#' + target)\n",
        "df = pd.DataFrame(matrix, index=idx, columns= cols)\n",
        "print(df)"
      ]
    },
    {
      "cell_type": "code",
      "execution_count": null,
      "id": "dh8Kud3D88K8",
      "metadata": {
        "colab": {
          "base_uri": "https://localhost:8080/"
        },
        "deletable": false,
        "editable": false,
        "id": "dh8Kud3D88K8",
        "outputId": "4403d03e-12ed-408b-d533-4622dc155388"
      },
      "outputs": [],
      "source": [
        "source =  'eer'\n",
        "target = 'near'\n",
        "matrix, min_edits = min_edit_distance(source, target)\n",
        "print(\"minimum edits: \",min_edits, \"\\n\")\n",
        "idx = list(source)\n",
        "idx.insert(0, '#')\n",
        "cols = list(target)\n",
        "cols.insert(0, '#')\n",
        "df = pd.DataFrame(matrix, index=idx, columns= cols)\n",
        "print(df)"
      ]
    },
    {
      "cell_type": "code",
      "execution_count": 107,
      "id": "T8bNimV288LD",
      "metadata": {
        "id": "T8bNimV288LD"
      },
      "outputs": [],
      "source": [
        "source = \"eer\"\n",
        "targets = edit_one_letter(source,allow_switches = False)  #disable switches since min_edit_distance does not include them\n",
        "for t in targets:\n",
        "    _, min_edits = min_edit_distance(source, t,1,1,1)  # set ins, del, sub costs all to one\n",
        "    if min_edits != 1: print(source, t, min_edits)"
      ]
    },
    {
      "cell_type": "code",
      "execution_count": 108,
      "id": "RdYhNcT088LE",
      "metadata": {
        "colab": {
          "base_uri": "https://localhost:8080/"
        },
        "id": "RdYhNcT088LE",
        "outputId": "4eea104b-6719-442b-bd98-922df3e05106"
      },
      "outputs": [
        {
          "name": "stdout",
          "output_type": "stream",
          "text": [
            "eer eer 0\n"
          ]
        }
      ],
      "source": [
        "source = \"eer\"\n",
        "targets = edit_two_letters(source,allow_switches = False) #disable switches since min_edit_distance does not include them\n",
        "for t in targets:\n",
        "    _, min_edits = min_edit_distance(source, t,1,1,1)  # set ins, del, sub costs all to one\n",
        "    if min_edits != 2 and min_edits != 1: print(source, t, min_edits)"
      ]
    }
  ],
  "metadata": {
    "colab": {
      "provenance": []
    },
    "jupytext": {
      "encoding": "# -*- coding: utf-8 -*-"
    },
    "kernelspec": {
      "display_name": "Python 3",
      "language": "python",
      "name": "python3"
    },
    "language_info": {
      "codemirror_mode": {
        "name": "ipython",
        "version": 3
      },
      "file_extension": ".py",
      "mimetype": "text/x-python",
      "name": "python",
      "nbconvert_exporter": "python",
      "pygments_lexer": "ipython3",
      "version": "3.7.6"
    }
  },
  "nbformat": 4,
  "nbformat_minor": 5
}
