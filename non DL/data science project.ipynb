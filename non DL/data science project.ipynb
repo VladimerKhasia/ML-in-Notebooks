{
  "cells": [
    {
      "cell_type": "markdown",
      "metadata": {
        "id": "-v5k666L4iRd"
      },
      "source": [
        "**SpaceX first stage Landing Prediction**\n",
        "\n",
        "REFERENCE:\n",
        "\n",
        "Parts of this Data Science Project originaly were developed by IBM.\n",
        "\n",
        "Copyright © 2021 IBM Corporation. All rights reserved."
      ]
    },
    {
      "cell_type": "markdown",
      "metadata": {
        "id": "YMouQb-B0Ss5"
      },
      "source": [
        "Project encompasses:\n",
        "1. Data collection from API\n",
        "2. Data collection with webscraping\n",
        "3. Data wrangling\n",
        "4. Making and querying SQL database\n",
        "5. Exploratory data analysis and further data handling\n",
        "6. Folium based visualization and analysis\n",
        "7. Plotly visualizations\n",
        "8. Model development, evaluation and selection for landing success prediction"
      ]
    },
    {
      "cell_type": "markdown",
      "metadata": {
        "id": "CNOvJfJjBwgN"
      },
      "source": [
        "# 1. API Data\n"
      ]
    },
    {
      "cell_type": "markdown",
      "metadata": {
        "id": "QYwqUAXpBwgO"
      },
      "source": [
        "In this project you will predict if the Falcon 9 first stage will land successfully. SpaceX advertises Falcon 9 rocket launches on its website with a cost of 62 million dollars; other providers cost upward of 165 million dollars each, much of the savings is because SpaceX can reuse the first stage. Therefore if we can determine if the first stage will land, we can determine the cost of a launch. This information can be used if an alternate company wants to bid against SpaceX for a rocket launch. In this lab, you will collect and make sure the data is in the correct format from an API. The following is an example of a successful and launch.\n"
      ]
    },
    {
      "cell_type": "markdown",
      "metadata": {
        "id": "J8huPBu7BwgS"
      },
      "source": [
        "## Objectives\n"
      ]
    },
    {
      "cell_type": "markdown",
      "metadata": {
        "id": "lCdahydzBwgT"
      },
      "source": [
        "In this lab, you will make a get request to the SpaceX API. You will also do some basic data wrangling and formating.\n",
        "\n",
        "*   Request to the SpaceX API\n",
        "*   Clean the requested data\n"
      ]
    },
    {
      "cell_type": "markdown",
      "metadata": {
        "id": "_hsYkEnDBwgT"
      },
      "source": [
        "***\n"
      ]
    },
    {
      "cell_type": "markdown",
      "metadata": {
        "id": "GMnT8WEoBwgU"
      },
      "source": [
        "## Import Libraries and Define Auxiliary Functions\n"
      ]
    },
    {
      "cell_type": "markdown",
      "metadata": {
        "id": "smRDUp4aBwgU"
      },
      "source": [
        "We will import the following libraries into the lab\n"
      ]
    },
    {
      "cell_type": "code",
      "execution_count": null,
      "metadata": {
        "id": "_z6r2QcyBwgV"
      },
      "outputs": [],
      "source": [
        "# Requests allows us to make HTTP requests which we will use to get data from an API\n",
        "import requests\n",
        "# Pandas is a software library written for the Python programming language for data manipulation and analysis.\n",
        "import pandas as pd\n",
        "# NumPy is a library for the Python programming language, adding support for large, multi-dimensional arrays and matrices, along with a large collection of high-level mathematical functions to operate on these arrays\n",
        "import numpy as np\n",
        "# Datetime is a library that allows us to represent dates\n",
        "import datetime\n",
        "\n",
        "# Setting this option will print all collumns of a dataframe\n",
        "pd.set_option('display.max_columns', None)\n",
        "# Setting this option will print all of the data in a feature\n",
        "pd.set_option('display.max_colwidth', None)"
      ]
    },
    {
      "cell_type": "markdown",
      "metadata": {
        "id": "H_xZP_JcBwgX"
      },
      "source": [
        "Below we will define a series of helper functions that will help us use the API to extract information using identification numbers in the launch data.\n",
        "\n",
        "From the <code>rocket</code> column we would like to learn the booster name.\n"
      ]
    },
    {
      "cell_type": "code",
      "execution_count": null,
      "metadata": {
        "id": "6IH-BVZ3BwgX"
      },
      "outputs": [],
      "source": [
        "# Takes the dataset and uses the rocket column to call the API and append the data to the list\n",
        "def getBoosterVersion(data):\n",
        "    for x in data['rocket']:\n",
        "        response = requests.get(\"https://api.spacexdata.com/v4/rockets/\"+str(x)).json()\n",
        "        BoosterVersion.append(response['name'])"
      ]
    },
    {
      "cell_type": "markdown",
      "metadata": {
        "id": "H0ERXzBOBwgX"
      },
      "source": [
        "From the <code>launchpad</code> we would like to know the name of the launch site being used, the logitude, and the latitude.\n"
      ]
    },
    {
      "cell_type": "code",
      "execution_count": null,
      "metadata": {
        "id": "dD-gDy06BwgY"
      },
      "outputs": [],
      "source": [
        "# Takes the dataset and uses the launchpad column to call the API and append the data to the list\n",
        "def getLaunchSite(data):\n",
        "    for x in data['launchpad']:\n",
        "        response = requests.get(\"https://api.spacexdata.com/v4/launchpads/\"+str(x)).json()\n",
        "        Longitude.append(response['longitude'])\n",
        "        Latitude.append(response['latitude'])\n",
        "        LaunchSite.append(response['name'])"
      ]
    },
    {
      "cell_type": "markdown",
      "metadata": {
        "id": "abx7yGHNBwgY"
      },
      "source": [
        "From the <code>payload</code> we would like to learn the mass of the payload and the orbit that it is going to.\n"
      ]
    },
    {
      "cell_type": "code",
      "execution_count": null,
      "metadata": {
        "id": "G_lUYFmjBwgZ"
      },
      "outputs": [],
      "source": [
        "# Takes the dataset and uses the payloads column to call the API and append the data to the lists\n",
        "def getPayloadData(data):\n",
        "    for load in data['payloads']:\n",
        "        response = requests.get(\"https://api.spacexdata.com/v4/payloads/\"+load).json()\n",
        "        PayloadMass.append(response['mass_kg'])\n",
        "        Orbit.append(response['orbit'])"
      ]
    },
    {
      "cell_type": "markdown",
      "metadata": {
        "id": "a0xGCAdtBwgZ"
      },
      "source": [
        "From <code>cores</code> we would like to learn the outcome of the landing, the type of the landing, number of flights with that core, whether gridfins were used, wheter the core is reused, wheter legs were used, the landing pad used, the block of the core which is a number used to seperate version of cores, the number of times this specific core has been reused, and the serial of the core.\n"
      ]
    },
    {
      "cell_type": "code",
      "execution_count": null,
      "metadata": {
        "id": "vGJJ9tqJBwgZ"
      },
      "outputs": [],
      "source": [
        "# Takes the dataset and uses the cores column to call the API and append the data to the lists\n",
        "def getCoreData(data):\n",
        "    for core in data['cores']:\n",
        "            if core['core'] != None:\n",
        "                response = requests.get(\"https://api.spacexdata.com/v4/cores/\"+core['core']).json()\n",
        "                Block.append(response['block'])\n",
        "                ReusedCount.append(response['reuse_count'])\n",
        "                Serial.append(response['serial'])\n",
        "            else:\n",
        "                Block.append(None)\n",
        "                ReusedCount.append(None)\n",
        "                Serial.append(None)\n",
        "            Outcome.append(str(core['landing_success'])+' '+str(core['landing_type']))\n",
        "            Flights.append(core['flight'])\n",
        "            GridFins.append(core['gridfins'])\n",
        "            Reused.append(core['reused'])\n",
        "            Legs.append(core['legs'])\n",
        "            LandingPad.append(core['landpad'])"
      ]
    },
    {
      "cell_type": "markdown",
      "metadata": {
        "id": "SJfHDA_cBwga"
      },
      "source": [
        "Now let's start requesting rocket launch data from SpaceX API with the following URL:\n"
      ]
    },
    {
      "cell_type": "code",
      "execution_count": null,
      "metadata": {
        "id": "xxbgcsNiBwga"
      },
      "outputs": [],
      "source": [
        "spacex_url=\"https://api.spacexdata.com/v4/launches/past\""
      ]
    },
    {
      "cell_type": "code",
      "execution_count": null,
      "metadata": {
        "id": "P2Gepc53Bwga"
      },
      "outputs": [],
      "source": [
        "response = requests.get(spacex_url)"
      ]
    },
    {
      "cell_type": "markdown",
      "metadata": {
        "id": "Z0jTFMBxBwga"
      },
      "source": [
        "Check the content of the response\n"
      ]
    },
    {
      "cell_type": "code",
      "execution_count": null,
      "metadata": {
        "colab": {
          "base_uri": "https://localhost:8080/"
        },
        "id": "n9fyRuqHBwgb",
        "outputId": "bd8253ca-0d2c-426b-cce6-da38a30b9b8c"
      },
      "outputs": [],
      "source": [
        "print(response.content)"
      ]
    },
    {
      "cell_type": "markdown",
      "metadata": {
        "id": "nhA1BT1eBwgc"
      },
      "source": [
        "You should see the response contains massive information about SpaceX launches. Next, let's try to discover some more relevant information for this project.\n"
      ]
    },
    {
      "cell_type": "markdown",
      "metadata": {
        "id": "acmCWDjJBwgc"
      },
      "source": [
        "### Task 1: Request and parse the SpaceX launch data using the GET request\n"
      ]
    },
    {
      "cell_type": "markdown",
      "metadata": {
        "id": "4nF0OHzpBwgd"
      },
      "source": [
        "To make the requested JSON results more consistent, we will use the following static response object for this project:\n"
      ]
    },
    {
      "cell_type": "code",
      "execution_count": null,
      "metadata": {
        "id": "XYkfCH9OBwgd"
      },
      "outputs": [],
      "source": [
        "static_json_url='https://cf-courses-data.s3.us.cloud-object-storage.appdomain.cloud/IBM-DS0321EN-SkillsNetwork/datasets/API_call_spacex_api.json'"
      ]
    },
    {
      "cell_type": "markdown",
      "metadata": {
        "id": "RKItlVCKBwgd"
      },
      "source": [
        "We should see that the request was successfull with the 200 status response code\n"
      ]
    },
    {
      "cell_type": "code",
      "execution_count": null,
      "metadata": {
        "colab": {
          "base_uri": "https://localhost:8080/"
        },
        "id": "PHuJB0EQBwge",
        "outputId": "0e24f1f2-9cb0-4a88-9291-1b82ad8bb5a0"
      },
      "outputs": [],
      "source": [
        "response.status_code"
      ]
    },
    {
      "cell_type": "markdown",
      "metadata": {
        "id": "VeWzUbAwBwge"
      },
      "source": [
        "Now we decode the response content as a Json using <code>.json()</code> and turn it into a Pandas dataframe using <code>.json_normalize()</code>\n"
      ]
    },
    {
      "cell_type": "code",
      "execution_count": null,
      "metadata": {
        "id": "24GA8zgGBwge"
      },
      "outputs": [],
      "source": [
        "# Use json_normalize meethod to convert the json result into a dataframe\n",
        "data = pd.json_normalize(requests.get(static_json_url).json())\n"
      ]
    },
    {
      "cell_type": "markdown",
      "metadata": {
        "id": "nq_gQe3cBwgf"
      },
      "source": [
        "Using the dataframe <code>data</code> print the first 5 rows\n"
      ]
    },
    {
      "cell_type": "code",
      "execution_count": null,
      "metadata": {
        "colab": {
          "base_uri": "https://localhost:8080/",
          "height": 1000
        },
        "id": "FNbpQg29Bwgf",
        "outputId": "cf08203f-a5d4-4645-84b5-f54dda4627a0",
        "scrolled": true
      },
      "outputs": [],
      "source": [
        "# Get the head of the dataframe\n",
        "data.head()"
      ]
    },
    {
      "cell_type": "markdown",
      "metadata": {
        "id": "0BmfsszlBwgf"
      },
      "source": [
        "You will notice that a lot of the data are IDs. For example the rocket column has no information about the rocket just an identification number.\n",
        "\n",
        "We will now use the API again to get information about the launches using the IDs given for each launch. Specifically we will be using columns <code>rocket</code>, <code>payloads</code>, <code>launchpad</code>, and <code>cores</code>.\n"
      ]
    },
    {
      "cell_type": "code",
      "execution_count": null,
      "metadata": {
        "id": "f5nRlbPGBwgm"
      },
      "outputs": [],
      "source": [
        "# Lets take a subset of our dataframe keeping only the features we want and the flight number, and date_utc.\n",
        "data = data[['rocket', 'payloads', 'launchpad', 'cores', 'flight_number', 'date_utc']]\n",
        "\n",
        "# We will remove rows with multiple cores because those are falcon rockets with 2 extra rocket boosters and rows that have multiple payloads in a single rocket.\n",
        "data = data[data['cores'].map(len)==1]\n",
        "data = data[data['payloads'].map(len)==1]\n",
        "\n",
        "# Since payloads and cores are lists of size 1 we will also extract the single value in the list and replace the feature.\n",
        "data['cores'] = data['cores'].map(lambda x : x[0])\n",
        "data['payloads'] = data['payloads'].map(lambda x : x[0])\n",
        "\n",
        "# We also want to convert the date_utc to a datetime datatype and then extracting the date leaving the time\n",
        "data['date'] = pd.to_datetime(data['date_utc']).dt.date\n",
        "\n",
        "# Using the date we will restrict the dates of the launches\n",
        "data = data[data['date'] <= datetime.date(2020, 11, 13)]"
      ]
    },
    {
      "cell_type": "markdown",
      "metadata": {
        "id": "fqbX3VNkBwgn"
      },
      "source": [
        "*   From the <code>rocket</code> we would like to learn the booster name\n",
        "\n",
        "*   From the <code>payload</code> we would like to learn the mass of the payload and the orbit that it is going to\n",
        "\n",
        "*   From the <code>launchpad</code> we would like to know the name of the launch site being used, the longitude, and the latitude.\n",
        "\n",
        "*   From <code>cores</code> we would like to learn the outcome of the landing, the type of the landing, number of flights with that core, whether gridfins were used, whether the core is reused, whether legs were used, the landing pad used, the block of the core which is a number used to seperate version of cores, the number of times this specific core has been reused, and the serial of the core.\n",
        "\n",
        "The data from these requests will be stored in lists and will be used to create a new dataframe.\n"
      ]
    },
    {
      "cell_type": "code",
      "execution_count": null,
      "metadata": {
        "id": "7S0P3CrDBwgn"
      },
      "outputs": [],
      "source": [
        "#Global variables\n",
        "BoosterVersion = []\n",
        "PayloadMass = []\n",
        "Orbit = []\n",
        "LaunchSite = []\n",
        "Outcome = []\n",
        "Flights = []\n",
        "GridFins = []\n",
        "Reused = []\n",
        "Legs = []\n",
        "LandingPad = []\n",
        "Block = []\n",
        "ReusedCount = []\n",
        "Serial = []\n",
        "Longitude = []\n",
        "Latitude = []"
      ]
    },
    {
      "cell_type": "markdown",
      "metadata": {
        "id": "A3Vhay1ZBwgo"
      },
      "source": [
        "These functions will apply the outputs globally to the above variables. Let's take a looks at <code>BoosterVersion</code> variable. Before we apply  <code>getBoosterVersion</code> the list is empty:\n"
      ]
    },
    {
      "cell_type": "code",
      "execution_count": null,
      "metadata": {
        "colab": {
          "base_uri": "https://localhost:8080/"
        },
        "id": "I7rAjU3HBwgo",
        "outputId": "4307189e-ff17-400b-ae45-b851d4834383"
      },
      "outputs": [],
      "source": [
        "BoosterVersion"
      ]
    },
    {
      "cell_type": "markdown",
      "metadata": {
        "id": "WLqpQYu2Bwgo"
      },
      "source": [
        "Now, let's apply <code> getBoosterVersion</code> function method to get the booster version\n"
      ]
    },
    {
      "cell_type": "code",
      "execution_count": null,
      "metadata": {
        "id": "k5C3F36uBwgp"
      },
      "outputs": [],
      "source": [
        "# Call getBoosterVersion\n",
        "getBoosterVersion(data)"
      ]
    },
    {
      "cell_type": "markdown",
      "metadata": {
        "id": "sikurHMbBwgp"
      },
      "source": [
        "the list has now been update\n"
      ]
    },
    {
      "cell_type": "code",
      "execution_count": null,
      "metadata": {
        "colab": {
          "base_uri": "https://localhost:8080/"
        },
        "id": "QKbyjrFDBwgp",
        "outputId": "3f8636ca-980d-47e7-b43d-e6b74c0a8d00"
      },
      "outputs": [],
      "source": [
        "BoosterVersion[0:5]"
      ]
    },
    {
      "cell_type": "markdown",
      "metadata": {
        "id": "ULbA-xpFBwgq"
      },
      "source": [
        "we can apply the rest of the  functions here:\n"
      ]
    },
    {
      "cell_type": "code",
      "execution_count": null,
      "metadata": {
        "id": "uL9GuBGVBwgq"
      },
      "outputs": [],
      "source": [
        "# Call getLaunchSite\n",
        "getLaunchSite(data)"
      ]
    },
    {
      "cell_type": "code",
      "execution_count": null,
      "metadata": {
        "id": "welMITThBwgq"
      },
      "outputs": [],
      "source": [
        "# Call getPayloadData\n",
        "getPayloadData(data)"
      ]
    },
    {
      "cell_type": "code",
      "execution_count": null,
      "metadata": {
        "id": "EJR_cTF_Bwgr"
      },
      "outputs": [],
      "source": [
        "# Call getCoreData\n",
        "getCoreData(data)"
      ]
    },
    {
      "cell_type": "markdown",
      "metadata": {
        "id": "5HaX_henBwgr"
      },
      "source": [
        "Finally lets construct our dataset using the data we have obtained. We we combine the columns into a dictionary.\n"
      ]
    },
    {
      "cell_type": "code",
      "execution_count": null,
      "metadata": {
        "id": "ePO4yiRoBwgr"
      },
      "outputs": [],
      "source": [
        "launch_dict = {'FlightNumber': list(data['flight_number']),\n",
        "'Date': list(data['date']),\n",
        "'BoosterVersion':BoosterVersion,\n",
        "'PayloadMass':PayloadMass,\n",
        "'Orbit':Orbit,\n",
        "'LaunchSite':LaunchSite,\n",
        "'Outcome':Outcome,\n",
        "'Flights':Flights,\n",
        "'GridFins':GridFins,\n",
        "'Reused':Reused,\n",
        "'Legs':Legs,\n",
        "'LandingPad':LandingPad,\n",
        "'Block':Block,\n",
        "'ReusedCount':ReusedCount,\n",
        "'Serial':Serial,\n",
        "'Longitude': Longitude,\n",
        "'Latitude': Latitude}\n"
      ]
    },
    {
      "cell_type": "markdown",
      "metadata": {
        "id": "IhVVZqQkBwgs"
      },
      "source": [
        "Then, we need to create a Pandas data frame from the dictionary launch_dict.\n"
      ]
    },
    {
      "cell_type": "code",
      "execution_count": null,
      "metadata": {
        "id": "PhsVzurtBwgs"
      },
      "outputs": [],
      "source": [
        "# Create a data from launch_dict\n",
        "data=pd.DataFrame.from_dict(launch_dict,orient='index').transpose()"
      ]
    },
    {
      "cell_type": "markdown",
      "metadata": {
        "id": "oBYiR_pYBwgs"
      },
      "source": [
        "Show the summary of the dataframe\n"
      ]
    },
    {
      "cell_type": "code",
      "execution_count": null,
      "metadata": {
        "colab": {
          "base_uri": "https://localhost:8080/",
          "height": 313
        },
        "id": "po_94PXGBwgt",
        "outputId": "1735e655-f32c-4a5d-b970-c6729727966b"
      },
      "outputs": [],
      "source": [
        "# Show the head of the dataframe\n",
        "data.head()"
      ]
    },
    {
      "cell_type": "markdown",
      "metadata": {
        "id": "4xr4AorFBwgt"
      },
      "source": [
        "### Task 2: Filter the dataframe to only include `Falcon 9` launches\n"
      ]
    },
    {
      "cell_type": "markdown",
      "metadata": {
        "id": "t4rKBQKxBwgt"
      },
      "source": [
        "Finally we will remove the Falcon 1 launches keeping only the Falcon 9 launches. Filter the data dataframe using the <code>BoosterVersion</code> column to only keep the Falcon 9 launches. Save the filtered data to a new dataframe called <code>data_falcon9</code>.\n"
      ]
    },
    {
      "cell_type": "code",
      "execution_count": null,
      "metadata": {
        "id": "8J3ad41ABwgu"
      },
      "outputs": [],
      "source": [
        "# Hint data['BoosterVersion']!='Falcon 1'\n",
        "data_falcon9 = data[data['BoosterVersion']!='Falcon 1']"
      ]
    },
    {
      "cell_type": "markdown",
      "metadata": {
        "id": "Y2dLoJx4Bwgu"
      },
      "source": [
        "Now that we have removed some values we should reset the FlgihtNumber column\n"
      ]
    },
    {
      "cell_type": "code",
      "execution_count": null,
      "metadata": {
        "colab": {
          "base_uri": "https://localhost:8080/",
          "height": 756
        },
        "id": "lumVxqmABwgu",
        "outputId": "283b5c37-2e1d-4083-a58e-583a5958e66e"
      },
      "outputs": [],
      "source": [
        "data_falcon9.loc[:,'FlightNumber'] = list(range(1, data_falcon9.shape[0]+1))\n",
        "data_falcon9"
      ]
    },
    {
      "cell_type": "markdown",
      "metadata": {
        "id": "oBf6GWNXBwgv"
      },
      "source": [
        "## Data Wrangling\n"
      ]
    },
    {
      "cell_type": "markdown",
      "metadata": {
        "id": "SqPhm7AqBwgv"
      },
      "source": [
        "We can see below that some of the rows are missing values in our dataset.\n"
      ]
    },
    {
      "cell_type": "code",
      "execution_count": null,
      "metadata": {
        "colab": {
          "base_uri": "https://localhost:8080/"
        },
        "id": "vlu8kvtcBwgv",
        "outputId": "48a4c82d-6b9f-4864-df2c-85953eb6b3a4"
      },
      "outputs": [],
      "source": [
        "data_falcon9.isnull().sum()"
      ]
    },
    {
      "cell_type": "markdown",
      "metadata": {
        "id": "wSrXGGFUBwgv"
      },
      "source": [
        "Before we can continue we must deal with these missing values. The <code>LandingPad</code> column will retain None values to represent when landing pads were not used.\n"
      ]
    },
    {
      "cell_type": "markdown",
      "metadata": {
        "id": "pGeYmzmvBwgw"
      },
      "source": [
        "### Task 3: Dealing with Missing Values\n"
      ]
    },
    {
      "cell_type": "markdown",
      "metadata": {
        "id": "XlAukNl0Bwgw"
      },
      "source": [
        "Calculate below the mean for the <code>PayloadMass</code> using the <code>.mean()</code>. Then use the mean and the <code>.replace()</code> function to replace `np.nan` values in the data with the mean you calculated.\n"
      ]
    },
    {
      "cell_type": "code",
      "execution_count": null,
      "metadata": {
        "colab": {
          "base_uri": "https://localhost:8080/"
        },
        "id": "eebkQa9TBwgw",
        "outputId": "b2ac7258-b9bf-4e23-f0bc-3e208d4ec2ab"
      },
      "outputs": [],
      "source": [
        "# Calculate the mean value of PayloadMass column\n",
        "m_plm = data_falcon9['PayloadMass'].mean()\n",
        "# Replace the np.nan values with its mean value\n",
        "data_falcon9['PayloadMass'] = data_falcon9['PayloadMass'].replace(np.nan, m_plm)"
      ]
    },
    {
      "cell_type": "code",
      "execution_count": null,
      "metadata": {
        "colab": {
          "base_uri": "https://localhost:8080/"
        },
        "id": "K7eXGvzZBwgx",
        "outputId": "e2a27aec-e364-4e08-fcd3-728f251c06a7"
      },
      "outputs": [],
      "source": [
        "data_falcon9.isnull().sum()"
      ]
    },
    {
      "cell_type": "markdown",
      "metadata": {
        "id": "ypmbWcGEBwgx"
      },
      "source": [
        "You should see the number of missing values of the <code>PayLoadMass</code> change to zero.\n"
      ]
    },
    {
      "cell_type": "markdown",
      "metadata": {
        "id": "0-E3maOCBwgy"
      },
      "source": [
        "Now we should have no missing values in our dataset except for in <code>LandingPad</code>.\n"
      ]
    },
    {
      "cell_type": "markdown",
      "metadata": {
        "id": "9APhJeUoBwgy"
      },
      "source": [
        "We can now export it to a <b>CSV</b> for the next section,but to make the answers consistent, in the next lab we will provide data in a pre-selected date range.\n"
      ]
    },
    {
      "cell_type": "markdown",
      "metadata": {
        "id": "eiv_rKsbBwgy"
      },
      "source": [
        "<code>data_falcon9.to_csv('dataset_part\\_1.csv', index=False)</code>\n"
      ]
    },
    {
      "cell_type": "markdown",
      "metadata": {
        "id": "j1n0SjNJCfgJ"
      },
      "source": [
        "# 2. Web Scraped Data\n"
      ]
    },
    {
      "cell_type": "markdown",
      "metadata": {
        "id": "K9884mp2CfgK"
      },
      "source": [
        "[link text](https://)## Web scraping Falcon 9 and Falcon Heavy Launches Records from Wikipedia\n"
      ]
    },
    {
      "cell_type": "markdown",
      "metadata": {
        "id": "eLmJo6W2CfgM"
      },
      "source": [
        "In this lab, you will be performing web scraping to collect Falcon 9 historical launch records from a Wikipedia page titled `List of Falcon 9 and Falcon Heavy launches`\n",
        "\n",
        "[https://en.wikipedia.org/wiki/List_of_Falcon\\_9\\_and_Falcon_Heavy_launches](https://en.wikipedia.org/wiki/List_of_Falcon\\_9\\_and_Falcon_Heavy_launches?utm_medium=Exinfluencer&utm_source=Exinfluencer&utm_content=000026UJ&utm_term=10006555&utm_id=NA-SkillsNetwork-Channel-SkillsNetworkCoursesIBMDS0321ENSkillsNetwork26802033-2021-01-01)\n"
      ]
    },
    {
      "cell_type": "markdown",
      "metadata": {
        "id": "HczvM1WfCfgM"
      },
      "source": [
        "![](https://cf-courses-data.s3.us.cloud-object-storage.appdomain.cloud/IBM-DS0321EN-SkillsNetwork/labs/module\\_1\\_L2/images/Falcon9\\_rocket_family.svg)\n"
      ]
    },
    {
      "cell_type": "markdown",
      "metadata": {
        "id": "W1xy_oRrCfgO"
      },
      "source": [
        "More specifically, the launch records are stored in a HTML table shown below:\n"
      ]
    },
    {
      "cell_type": "markdown",
      "metadata": {
        "id": "TmiF5KnvCfgO"
      },
      "source": [
        "![](https://cf-courses-data.s3.us.cloud-object-storage.appdomain.cloud/IBM-DS0321EN-SkillsNetwork/labs/module\\_1\\_L2/images/falcon9-launches-wiki.png)\n"
      ]
    },
    {
      "cell_type": "markdown",
      "metadata": {
        "id": "cJNy02OwCfgP"
      },
      "source": [
        "## Objectives\n",
        "\n",
        "Web scrap Falcon 9 launch records with `BeautifulSoup`:\n",
        "\n",
        "*   Extract a Falcon 9 launch records HTML table from Wikipedia\n",
        "*   Parse the table and convert it into a Pandas data frame\n"
      ]
    },
    {
      "cell_type": "markdown",
      "metadata": {
        "id": "LCiIYQ1FCfgP"
      },
      "source": [
        "First let's import required packages for this lab\n"
      ]
    },
    {
      "cell_type": "code",
      "execution_count": null,
      "metadata": {
        "colab": {
          "base_uri": "https://localhost:8080/"
        },
        "id": "GeLeCN1xCfgP",
        "outputId": "c8edc4a2-ca61-4b4a-f17f-14df174eee0a"
      },
      "outputs": [],
      "source": [
        "!pip3 install beautifulsoup4\n",
        "!pip3 install requests"
      ]
    },
    {
      "cell_type": "code",
      "execution_count": null,
      "metadata": {
        "id": "J1g8dX2nCfgT"
      },
      "outputs": [],
      "source": [
        "import sys\n",
        "\n",
        "import requests\n",
        "from bs4 import BeautifulSoup\n",
        "import re\n",
        "import unicodedata\n",
        "import pandas as pd"
      ]
    },
    {
      "cell_type": "markdown",
      "metadata": {
        "id": "2SK0tU_tCfgU"
      },
      "source": [
        "and we will provide some helper functions for you to process web scraped HTML table\n"
      ]
    },
    {
      "cell_type": "code",
      "execution_count": null,
      "metadata": {
        "id": "z0mwhXmTCfgU"
      },
      "outputs": [],
      "source": [
        "def date_time(table_cells):\n",
        "    \"\"\"\n",
        "    This function returns the data and time from the HTML  table cell\n",
        "    Input: the  element of a table data cell extracts extra row\n",
        "    \"\"\"\n",
        "    return [data_time.strip() for data_time in list(table_cells.strings)][0:2]\n",
        "\n",
        "def booster_version(table_cells):\n",
        "    \"\"\"\n",
        "    This function returns the booster version from the HTML  table cell\n",
        "    Input: the  element of a table data cell extracts extra row\n",
        "    \"\"\"\n",
        "    out=''.join([booster_version for i,booster_version in enumerate( table_cells.strings) if i%2==0][0:-1])\n",
        "    return out\n",
        "\n",
        "def landing_status(table_cells):\n",
        "    \"\"\"\n",
        "    This function returns the landing status from the HTML table cell\n",
        "    Input: the  element of a table data cell extracts extra row\n",
        "    \"\"\"\n",
        "    out=[i for i in table_cells.strings][0]\n",
        "    return out\n",
        "\n",
        "\n",
        "def get_mass(table_cells):\n",
        "    mass=unicodedata.normalize(\"NFKD\", table_cells.text).strip()\n",
        "    if mass:\n",
        "        mass.find(\"kg\")\n",
        "        new_mass=mass[0:mass.find(\"kg\")+2]\n",
        "    else:\n",
        "        new_mass=0\n",
        "    return new_mass\n",
        "\n",
        "\n",
        "def extract_column_from_header(row):\n",
        "    \"\"\"\n",
        "    This function returns the landing status from the HTML table cell\n",
        "    Input: the  element of a table data cell extracts extra row\n",
        "    \"\"\"\n",
        "    if (row.br):\n",
        "        row.br.extract()\n",
        "    if row.a:\n",
        "        row.a.extract()\n",
        "    if row.sup:\n",
        "        row.sup.extract()\n",
        "\n",
        "    colunm_name = ' '.join(row.contents)\n",
        "\n",
        "    # Filter the digit and empty names\n",
        "    if not(colunm_name.strip().isdigit()):\n",
        "        colunm_name = colunm_name.strip()\n",
        "        return colunm_name\n"
      ]
    },
    {
      "cell_type": "markdown",
      "metadata": {
        "id": "RVhRWmzRCfgU"
      },
      "source": [
        "To keep the lab tasks consistent, you will be asked to scrape the data from a snapshot of the  `List of Falcon 9 and Falcon Heavy launches` Wikipage updated on\n",
        "`9th June 2021`\n"
      ]
    },
    {
      "cell_type": "code",
      "execution_count": null,
      "metadata": {
        "id": "q2HkFjB3CfgV"
      },
      "outputs": [],
      "source": [
        "static_url = \"https://en.wikipedia.org/w/index.php?title=List_of_Falcon_9_and_Falcon_Heavy_launches&oldid=1027686922\""
      ]
    },
    {
      "cell_type": "markdown",
      "metadata": {
        "id": "98xFTkXDCfgV"
      },
      "source": [
        "Next, request the HTML page from the above URL and get a `response` object\n"
      ]
    },
    {
      "cell_type": "markdown",
      "metadata": {
        "id": "ODLzzDdJCfgV"
      },
      "source": [
        "### TASK 1: Request the Falcon9 Launch Wiki page from its URL\n"
      ]
    },
    {
      "cell_type": "markdown",
      "metadata": {
        "id": "8C5h3bXaCfgV"
      },
      "source": [
        "First, let's perform an HTTP GET method to request the Falcon9 Launch HTML page, as an HTTP response.\n"
      ]
    },
    {
      "cell_type": "code",
      "execution_count": null,
      "metadata": {
        "id": "mfJYs5liCfgW"
      },
      "outputs": [],
      "source": [
        "# use requests.get() method with the provided static_url\n",
        "# assign the response to a object\n",
        "response = requests.get(static_url)"
      ]
    },
    {
      "cell_type": "markdown",
      "metadata": {
        "id": "4JZ4e4saCfgW"
      },
      "source": [
        "Create a `BeautifulSoup` object from the HTML `response`\n"
      ]
    },
    {
      "cell_type": "code",
      "execution_count": null,
      "metadata": {
        "id": "3-k7OotICfgW"
      },
      "outputs": [],
      "source": [
        "# Use BeautifulSoup() to create a BeautifulSoup object from a response text content\n",
        "soup = BeautifulSoup(response.text,\"html.parser\")"
      ]
    },
    {
      "cell_type": "markdown",
      "metadata": {
        "id": "JBn80SnMCfgX"
      },
      "source": [
        "Print the page title to verify if the `BeautifulSoup` object was created properly\n"
      ]
    },
    {
      "cell_type": "code",
      "execution_count": null,
      "metadata": {
        "colab": {
          "base_uri": "https://localhost:8080/"
        },
        "id": "LUEzINSOCfgX",
        "outputId": "033c20f4-fe84-49bf-8067-79a91cd78d50"
      },
      "outputs": [],
      "source": [
        "# Use soup.title attribute\n",
        "print(soup.title)"
      ]
    },
    {
      "cell_type": "markdown",
      "metadata": {
        "id": "E2Y77UFVCfgX"
      },
      "source": [
        "### TASK 2: Extract all column/variable names from the HTML table header\n"
      ]
    },
    {
      "cell_type": "markdown",
      "metadata": {
        "id": "2sysKznECfgY"
      },
      "source": [
        "Next, we want to collect all relevant column names from the HTML table header\n"
      ]
    },
    {
      "cell_type": "markdown",
      "metadata": {
        "id": "z8Gsq_oECfgY"
      },
      "source": [
        "Let's try to find all tables on the wiki page first. If you need to refresh your memory about `BeautifulSoup`, please check the external reference link towards the end of this lab\n"
      ]
    },
    {
      "cell_type": "code",
      "execution_count": null,
      "metadata": {
        "id": "TeCYw81oCfgY"
      },
      "outputs": [],
      "source": [
        "# Use the find_all function in the BeautifulSoup object, with element type `table`\n",
        "# Assign the result to a list called `html_tables`\n",
        "html_tables=soup.find_all('tr')"
      ]
    },
    {
      "cell_type": "markdown",
      "metadata": {
        "id": "uerw2_ErCfgY"
      },
      "source": [
        "Starting from the third table is our target table contains the actual launch records.\n"
      ]
    },
    {
      "cell_type": "code",
      "execution_count": null,
      "metadata": {
        "colab": {
          "base_uri": "https://localhost:8080/"
        },
        "id": "Fuj1VllgCfgZ",
        "outputId": "333adea2-e77a-4253-eae5-498dd6d1ad0e"
      },
      "outputs": [],
      "source": [
        "# Let's print the third table and check its content\n",
        "first_launch_table = html_tables[2]\n",
        "print(first_launch_table)"
      ]
    },
    {
      "cell_type": "markdown",
      "metadata": {
        "id": "bYgsjFBBCfgZ"
      },
      "source": [
        "You should able to see the columns names embedded in the table header elements `<th>` as follows:\n"
      ]
    },
    {
      "cell_type": "markdown",
      "metadata": {
        "id": "3v391pqpCfgZ"
      },
      "source": [
        "```\n",
        "<tr>\n",
        "<th scope=\"col\">Flight No.\n",
        "</th>\n",
        "<th scope=\"col\">Date and<br/>time (<a href=\"/wiki/Coordinated_Universal_Time\" title=\"Coordinated Universal Time\">UTC</a>)\n",
        "</th>\n",
        "<th scope=\"col\"><a href=\"/wiki/List_of_Falcon_9_first-stage_boosters\" title=\"List of Falcon 9 first-stage boosters\">Version,<br/>Booster</a> <sup class=\"reference\" id=\"cite_ref-booster_11-0\"><a href=\"#cite_note-booster-11\">[b]</a></sup>\n",
        "</th>\n",
        "<th scope=\"col\">Launch site\n",
        "</th>\n",
        "<th scope=\"col\">Payload<sup class=\"reference\" id=\"cite_ref-Dragon_12-0\"><a href=\"#cite_note-Dragon-12\">[c]</a></sup>\n",
        "</th>\n",
        "<th scope=\"col\">Payload mass\n",
        "</th>\n",
        "<th scope=\"col\">Orbit\n",
        "</th>\n",
        "<th scope=\"col\">Customer\n",
        "</th>\n",
        "<th scope=\"col\">Launch<br/>outcome\n",
        "</th>\n",
        "<th scope=\"col\"><a href=\"/wiki/Falcon_9_first-stage_landing_tests\" title=\"Falcon 9 first-stage landing tests\">Booster<br/>landing</a>\n",
        "</th></tr>\n",
        "```\n"
      ]
    },
    {
      "cell_type": "markdown",
      "metadata": {
        "id": "ifMysjdcCfga"
      },
      "source": [
        "Next, we just need to iterate through the `<th>` elements and apply the provided `extract_column_from_header()` to extract column name one by one\n"
      ]
    },
    {
      "cell_type": "code",
      "execution_count": null,
      "metadata": {
        "id": "Wkyh9YsQCfga"
      },
      "outputs": [],
      "source": [
        "column_names = []\n",
        "\n",
        "# Apply find_all() function with `th` element on first_launch_table\n",
        "# Iterate each th element and apply the provided extract_column_from_header() to get a column name\n",
        "# Append the Non-empty column name (`if name is not None and len(name) > 0`) into a list called column_names\n",
        "ths = first_launch_table.find_all('th')\n",
        "for i in range(0,len(ths)-1):\n",
        "    name = extract_column_from_header(ths[i])\n",
        "    if (name is not None and len(name) > 0):\n",
        "        column_names.append(name)"
      ]
    },
    {
      "cell_type": "markdown",
      "metadata": {
        "id": "ElJlyzBrCfga"
      },
      "source": [
        "Check the extracted column names\n"
      ]
    },
    {
      "cell_type": "code",
      "execution_count": null,
      "metadata": {
        "colab": {
          "base_uri": "https://localhost:8080/"
        },
        "id": "5M7nRttfCfgp",
        "outputId": "a7dfd1ce-3471-48b8-dfbe-58283cf3f18b"
      },
      "outputs": [],
      "source": [
        "print(column_names)"
      ]
    },
    {
      "cell_type": "markdown",
      "metadata": {
        "id": "Q77pDRURCfgq"
      },
      "source": [
        "## TASK 3: Create a data frame by parsing the launch HTML tables\n"
      ]
    },
    {
      "cell_type": "markdown",
      "metadata": {
        "id": "tBp2eu5sCfgq"
      },
      "source": [
        "We will create an empty dictionary with keys from the extracted column names in the previous task. Later, this dictionary will be converted into a Pandas dataframe\n"
      ]
    },
    {
      "cell_type": "code",
      "execution_count": null,
      "metadata": {
        "id": "28yIN_sgCfgr"
      },
      "outputs": [],
      "source": [
        "launch_dict= dict.fromkeys(column_names)\n",
        "\n",
        "# Remove an irrelvant column\n",
        "del launch_dict['Date and time ( )']\n",
        "\n",
        "# Let's initial the launch_dict with each value to be an empty list\n",
        "launch_dict['Flight No.'] = []\n",
        "launch_dict['Launch site'] = []\n",
        "launch_dict['Payload'] = []\n",
        "launch_dict['Payload mass'] = []\n",
        "launch_dict['Orbit'] = []\n",
        "launch_dict['Customer'] = []\n",
        "launch_dict['Launch outcome'] = []\n",
        "# Added some new columns\n",
        "launch_dict['Version Booster']=[]\n",
        "launch_dict['Booster landing']=[]\n",
        "launch_dict['Date']=[]\n",
        "launch_dict['Time']=[]"
      ]
    },
    {
      "cell_type": "markdown",
      "metadata": {
        "id": "0w0357iFCfgr"
      },
      "source": [
        "Next, we just need to fill up the `launch_dict` with launch records extracted from table rows.\n"
      ]
    },
    {
      "cell_type": "markdown",
      "metadata": {
        "id": "zU_adg7fCfgr"
      },
      "source": [
        "Usually, HTML tables in Wiki pages are likely to contain unexpected annotations and other types of noises, such as reference links `B0004.1[8]`, missing values `N/A [e]`, inconsistent formatting, etc.\n"
      ]
    },
    {
      "cell_type": "markdown",
      "metadata": {
        "id": "yUMj7ZEyCfgs"
      },
      "source": [
        "To simplify the parsing process, we have provided an incomplete code snippet below to help you to fill up the `launch_dict`. Please complete the following code snippet with TODOs or you can choose to write your own logic to parse all launch tables:\n"
      ]
    },
    {
      "cell_type": "code",
      "execution_count": null,
      "metadata": {
        "id": "jTmT0_LECfgs"
      },
      "outputs": [],
      "source": [
        "extracted_row = 0\n",
        "#Extract each table\n",
        "for table_number,table in enumerate(soup.find_all('table',\"wikitable plainrowheaders collapsible\")):\n",
        "   # get table row\n",
        "    for rows in table.find_all(\"tr\"):\n",
        "        #check to see if first table heading is as number corresponding to launch a number\n",
        "        if rows.th:\n",
        "            if rows.th.string:\n",
        "                flight_number=rows.th.string.strip()\n",
        "                flag=flight_number.isdigit()\n",
        "        else:\n",
        "            flag=False\n",
        "        #get table element\n",
        "        row=rows.find_all('td')\n",
        "        #if it is number save cells in a dictonary\n",
        "        if flag:\n",
        "            extracted_row += 1\n",
        "            # Flight Number value\n",
        "\n",
        "            launch_dict['Flight No.'].append(flight_number)\n",
        "\n",
        "            datatimelist=date_time(row[0])\n",
        "            # Date value\n",
        "\n",
        "            date = datatimelist[0].strip(',')\n",
        "            launch_dict['Date'].append(date)\n",
        "\n",
        "\n",
        "            # Time value\n",
        "\n",
        "            time = datatimelist[1]\n",
        "            launch_dict['Time'].append(time)\n",
        "\n",
        "\n",
        "            # Booster version\n",
        "\n",
        "            bv=booster_version(row[1])\n",
        "            if not(bv):\n",
        "                bv=row[1].a.string\n",
        "            launch_dict['Version Booster'].append(bv)\n",
        "\n",
        "\n",
        "            # Launch Site\n",
        "\n",
        "            launch_site = row[2].a.string\n",
        "            launch_dict['Launch site'].append(launch_site)\n",
        "\n",
        "\n",
        "            # Payload\n",
        "\n",
        "            payload = row[3].a.string\n",
        "            launch_dict['Payload'].append(payload)\n",
        "\n",
        "\n",
        "            # Payload Mass\n",
        "\n",
        "            payload_mass = get_mass(row[4])\n",
        "            launch_dict['Payload mass'].append(payload_mass)\n",
        "\n",
        "\n",
        "            # Orbit\n",
        "\n",
        "            orbit = row[5].a.string\n",
        "            launch_dict['Orbit'].append(orbit)\n",
        "\n",
        "            # Customer\n",
        "\n",
        "            customer = row[6]\n",
        "            launch_dict['Customer'].append(customer)\n",
        "\n",
        "            # Launch outcome\n",
        "\n",
        "            launch_outcome = list(row[7].strings)[0]\n",
        "            launch_dict['Launch outcome'].append(launch_outcome)\n",
        "\n",
        "\n",
        "            # Booster landing\n",
        "\n",
        "            booster_landing = landing_status(row[8])\n",
        "            launch_dict['Booster landing'].append(booster_landing)"
      ]
    },
    {
      "cell_type": "markdown",
      "metadata": {
        "id": "S3BZI1FFCfgs"
      },
      "source": [
        "After you have fill in the parsed launch record values into `launch_dict`, you can create a dataframe from it.\n"
      ]
    },
    {
      "cell_type": "code",
      "execution_count": null,
      "metadata": {
        "colab": {
          "base_uri": "https://localhost:8080/",
          "height": 539
        },
        "id": "3_QDtqvuCfgt",
        "outputId": "2b827ef1-3660-4cd7-c644-44324acf0020"
      },
      "outputs": [],
      "source": [
        "df=pd.DataFrame(launch_dict)\n",
        "df.head()"
      ]
    },
    {
      "cell_type": "markdown",
      "metadata": {
        "id": "nnXACug7Cfgt"
      },
      "source": [
        "We can now export it to a <b>CSV</b> for the next section, but to make the answers consistent and in case you have difficulties finishing this lab.\n",
        "\n",
        "Following labs will be using a provided dataset to make each lab independent.\n"
      ]
    },
    {
      "cell_type": "markdown",
      "metadata": {
        "id": "647mpKqfCfgu"
      },
      "source": [
        "<code>df.to_csv('spacex_web_scraped.csv', index=False)</code>\n"
      ]
    },
    {
      "cell_type": "markdown",
      "metadata": {
        "id": "se20XQyrDEH0"
      },
      "source": [
        "# 3. Data Wrangling\n"
      ]
    },
    {
      "cell_type": "markdown",
      "metadata": {
        "id": "EwwOvJt8DEH2"
      },
      "source": [
        "In this lab, we will perform some Exploratory Data Analysis (EDA) to find some patterns in the data and determine what would be the label for training supervised models.\n",
        "\n",
        "In the data set, there are several different cases where the booster did not land successfully. Sometimes a landing was attempted but failed due to an accident; for example, <code>True Ocean</code> means the mission outcome was successfully  landed to a specific region of the ocean while <code>False Ocean</code> means the mission outcome was unsuccessfully landed to a specific region of the ocean. <code>True RTLS</code> means the mission outcome was successfully  landed to a ground pad <code>False RTLS</code> means the mission outcome was unsuccessfully landed to a ground pad.<code>True ASDS</code> means the mission outcome was successfully landed on  a drone ship <code>False ASDS</code> means the mission outcome was unsuccessfully landed on a drone ship.\n",
        "\n",
        "In this lab we will mainly convert those outcomes into Training Labels with `1` means the booster successfully landed `0` means it was unsuccessful.\n"
      ]
    },
    {
      "cell_type": "markdown",
      "metadata": {
        "id": "ZBgnAcepDEH5"
      },
      "source": [
        "## Objectives\n",
        "\n",
        "Perform exploratory  Data Analysis and determine Training Labels\n",
        "\n",
        "*   Exploratory Data Analysis\n",
        "*   Determine Training Labels\n"
      ]
    },
    {
      "cell_type": "markdown",
      "metadata": {
        "id": "rRqNRP4ZDEH6"
      },
      "source": [
        "***\n"
      ]
    },
    {
      "cell_type": "markdown",
      "metadata": {
        "id": "oC44ptXXDEH6"
      },
      "source": [
        "## Import Libraries and Define Auxiliary Functions\n"
      ]
    },
    {
      "cell_type": "markdown",
      "metadata": {
        "id": "ZSPFeJhBDEH6"
      },
      "source": [
        "We will import the following libraries.\n"
      ]
    },
    {
      "cell_type": "code",
      "execution_count": null,
      "metadata": {
        "id": "jE_eHnGIDEH7"
      },
      "outputs": [],
      "source": [
        "# Pandas is a software library written for the Python programming language for data manipulation and analysis.\n",
        "import pandas as pd\n",
        "#NumPy is a library for the Python programming language, adding support for large, multi-dimensional arrays and matrices, along with a large collection of high-level mathematical functions to operate on these arrays\n",
        "import numpy as np"
      ]
    },
    {
      "cell_type": "markdown",
      "metadata": {
        "id": "IOMDsiAaDEH9"
      },
      "source": [
        "### Data Analysis\n"
      ]
    },
    {
      "cell_type": "markdown",
      "metadata": {
        "id": "oTNVirHiDEH9"
      },
      "source": [
        "Load Space X dataset, from last section.\n"
      ]
    },
    {
      "cell_type": "code",
      "execution_count": null,
      "metadata": {
        "colab": {
          "base_uri": "https://localhost:8080/",
          "height": 557
        },
        "id": "WX1tJafeDEH9",
        "outputId": "223c084a-9c63-47fd-8f7b-155ec73ebd14"
      },
      "outputs": [],
      "source": [
        "df=pd.read_csv(\"https://cf-courses-data.s3.us.cloud-object-storage.appdomain.cloud/IBM-DS0321EN-SkillsNetwork/datasets/dataset_part_1.csv\")\n",
        "df.head(10)"
      ]
    },
    {
      "cell_type": "markdown",
      "metadata": {
        "id": "oTeBEHO3DEH_"
      },
      "source": [
        "Identify and calculate the percentage of the missing values in each attribute\n"
      ]
    },
    {
      "cell_type": "code",
      "execution_count": null,
      "metadata": {
        "colab": {
          "base_uri": "https://localhost:8080/"
        },
        "id": "uWV-86fnDEH_",
        "outputId": "c458fefd-e136-4434-d8b4-060ebd5924c3"
      },
      "outputs": [],
      "source": [
        "df.isnull().sum()/df.count()*100"
      ]
    },
    {
      "cell_type": "markdown",
      "metadata": {
        "id": "9I0XOlraDEIA"
      },
      "source": [
        "Identify which columns are numerical and categorical:\n"
      ]
    },
    {
      "cell_type": "code",
      "execution_count": null,
      "metadata": {
        "colab": {
          "base_uri": "https://localhost:8080/"
        },
        "id": "MqJJPgvDDEIA",
        "outputId": "883abccd-0bb1-478d-fd56-38c4c12e7d9a"
      },
      "outputs": [],
      "source": [
        "df.dtypes"
      ]
    },
    {
      "cell_type": "markdown",
      "metadata": {
        "id": "s_LWNtIqDEIA"
      },
      "source": [
        "### TASK 1: Calculate the number of launches on each site\n",
        "\n",
        "The data contains several Space X  launch facilities: <a href='https://en.wikipedia.org/wiki/List_of_Cape_Canaveral_and_Merritt_Island_launch_sites?utm_medium=Exinfluencer&utm_source=Exinfluencer&utm_content=000026UJ&utm_term=10006555&utm_id=NA-SkillsNetwork-Channel-SkillsNetworkCoursesIBMDS0321ENSkillsNetwork26802033-2021-01-01'>Cape Canaveral Space</a> Launch Complex 40  <b>VAFB SLC 4E </b> , Vandenberg Air Force Base Space Launch Complex 4E <b>(SLC-4E)</b>, Kennedy Space Center Launch Complex 39A <b>KSC LC 39A </b>.The location of each Launch Is placed in the column <code>LaunchSite</code>\n"
      ]
    },
    {
      "cell_type": "markdown",
      "metadata": {
        "id": "G7BmEuAFDEIA"
      },
      "source": [
        "Next, let's see the number of launches for each site.\n",
        "\n",
        "Use the method  <code>value_counts()</code> on the column <code>LaunchSite</code> to determine the number of launches  on each site:\n"
      ]
    },
    {
      "cell_type": "code",
      "execution_count": null,
      "metadata": {
        "colab": {
          "base_uri": "https://localhost:8080/"
        },
        "id": "_YXClRlzDEIB",
        "outputId": "03f55a56-480d-4455-8992-c50f982f03d2"
      },
      "outputs": [],
      "source": [
        "# Apply value_counts() on column LaunchSite\n",
        "df['LaunchSite'].value_counts()"
      ]
    },
    {
      "cell_type": "markdown",
      "metadata": {
        "id": "y3kDf-MhDEIB"
      },
      "source": [
        "Each launch aims to an dedicated orbit, and here are some common orbit types:\n"
      ]
    },
    {
      "cell_type": "markdown",
      "metadata": {
        "id": "tKbQQ7ycDEIB"
      },
      "source": [
        "*   <b>LEO</b>: Low Earth orbit (LEO)is an Earth-centred orbit with an altitude of 2,000 km (1,200 mi) or less (approximately one-third of the radius of Earth),\\[1] or with at least 11.25 periods per day (an orbital period of 128 minutes or less) and an eccentricity less than 0.25.\\[2] Most of the manmade objects in outer space are in LEO <a href='https://en.wikipedia.org/wiki/Low_Earth_orbit?utm_medium=Exinfluencer&utm_source=Exinfluencer&utm_content=000026UJ&utm_term=10006555&utm_id=NA-SkillsNetwork-Channel-SkillsNetworkCoursesIBMDS0321ENSkillsNetwork26802033-2021-01-01'>\\[1]</a>.\n",
        "\n",
        "*   <b>VLEO</b>: Very Low Earth Orbits (VLEO) can be defined as the orbits with a mean altitude below 450 km. Operating in these orbits can provide a number of benefits to Earth observation spacecraft as the spacecraft operates closer to the observation<a href='https://www.researchgate.net/publication/271499606_Very_Low_Earth_Orbit_mission_concepts_for_Earth_Observation_Benefits_and_challenges?utm_medium=Exinfluencer&utm_source=Exinfluencer&utm_content=000026UJ&utm_term=10006555&utm_id=NA-SkillsNetwork-Channel-SkillsNetworkCoursesIBMDS0321ENSkillsNetwork26802033-2021-01-01'>\\[2]</a>.\n",
        "\n",
        "*   <b>GTO</b> A geosynchronous orbit is a high Earth orbit that allows satellites to match Earth's rotation. Located at 22,236 miles (35,786 kilometers) above Earth's equator, this position is a valuable spot for monitoring weather, communications and surveillance. Because the satellite orbits at the same speed that the Earth is turning, the satellite seems to stay in place over a single longitude, though it may drift north to south,” NASA wrote on its Earth Observatory website <a  href=\"https://www.space.com/29222-geosynchronous-orbit.html?utm_medium=Exinfluencer&utm_source=Exinfluencer&utm_content=000026UJ&utm_term=10006555&utm_id=NA-SkillsNetwork-Channel-SkillsNetworkCoursesIBMDS0321ENSkillsNetwork26802033-2021-01-01\" >\\[3] </a>.\n",
        "\n",
        "*   <b>SSO (or SO)</b>: It is a Sun-synchronous orbit  also called a heliosynchronous orbit is a nearly polar orbit around a planet, in which the satellite passes over any given point of the planet's surface at the same local mean solar time <a href=\"https://en.wikipedia.org/wiki/Sun-synchronous_orbit?utm_medium=Exinfluencer&utm_source=Exinfluencer&utm_content=000026UJ&utm_term=10006555&utm_id=NA-SkillsNetwork-Channel-SkillsNetworkCoursesIBMDS0321ENSkillsNetwork26802033-2021-01-01\">\\[4] <a>.\n",
        "\n",
        "*   <b>ES-L1 </b>:At the Lagrange points the gravitational forces of the two large bodies cancel out in such a way that a small object placed in orbit there is in equilibrium relative to the center of mass of the large bodies. L1 is one such point between the sun and the earth <a href=\"https://en.wikipedia.org/wiki/Lagrange_point?utm_medium=Exinfluencer&utm_source=Exinfluencer&utm_content=000026UJ&utm_term=10006555&utm_id=NA-SkillsNetwork-Channel-SkillsNetworkCoursesIBMDS0321ENSkillsNetwork26802033-2021-01-01#L1_point\">\\[5]</a> .\n",
        "\n",
        "*   <b>HEO</b> A highly elliptical orbit, is an elliptic orbit with high eccentricity, usually referring to one around Earth <a href=\"https://en.wikipedia.org/wiki/Highly_elliptical_orbit?utm_medium=Exinfluencer&utm_source=Exinfluencer&utm_content=000026UJ&utm_term=10006555&utm_id=NA-SkillsNetwork-Channel-SkillsNetworkCoursesIBMDS0321ENSkillsNetwork26802033-2021-01-01\">\\[6]</a>.\n",
        "\n",
        "*   <b> ISS </b> A modular space station (habitable artificial satellite) in low Earth orbit. It is a multinational collaborative project between five participating space agencies: NASA (United States), Roscosmos (Russia), JAXA (Japan), ESA (Europe), and CSA (Canada)<a href=\"https://en.wikipedia.org/wiki/International_Space_Station?utm_medium=Exinfluencer&utm_source=Exinfluencer&utm_content=000026UJ&utm_term=10006555&utm_id=NA-SkillsNetwork-Channel-SkillsNetworkCoursesIBMDS0321ENSkillsNetwork26802033-2021-01-01\"> \\[7] </a>\n",
        "\n",
        "*   <b> MEO </b> Geocentric orbits ranging in altitude from 2,000 km (1,200 mi) to just below geosynchronous orbit at 35,786 kilometers (22,236 mi). Also known as an intermediate circular orbit. These are \"most commonly at 20,200 kilometers (12,600 mi), or 20,650 kilometers (12,830 mi), with an orbital period of 12 hours <a href=\"https://en.wikipedia.org/wiki/List_of_orbits?utm_medium=Exinfluencer&utm_source=Exinfluencer&utm_content=000026UJ&utm_term=10006555&utm_id=NA-SkillsNetwork-Channel-SkillsNetworkCoursesIBMDS0321ENSkillsNetwork26802033-2021-01-01\"> \\[8] </a>\n",
        "\n",
        "*   <b> HEO </b> Geocentric orbits above the altitude of geosynchronous orbit (35,786 km or 22,236 mi) <a href=\"https://en.wikipedia.org/wiki/List_of_orbits?utm_medium=Exinfluencer&utm_source=Exinfluencer&utm_content=000026UJ&utm_term=10006555&utm_id=NA-SkillsNetwork-Channel-SkillsNetworkCoursesIBMDS0321ENSkillsNetwork26802033-2021-01-01\"> \\[9] </a>\n",
        "\n",
        "*   <b> GEO </b> It is a circular geosynchronous orbit 35,786 kilometres (22,236 miles) above Earth's equator and following the direction of Earth's rotation <a href=\"https://en.wikipedia.org/wiki/Geostationary_orbit?utm_medium=Exinfluencer&utm_source=Exinfluencer&utm_content=000026UJ&utm_term=10006555&utm_id=NA-SkillsNetwork-Channel-SkillsNetworkCoursesIBMDS0321ENSkillsNetwork26802033-2021-01-01\"> \\[10] </a>\n",
        "\n",
        "*   <b> PO </b> It is one type of satellites in which a satellite passes above or nearly above both poles of the body being orbited (usually a planet such as the Earth <a href=\"https://en.wikipedia.org/wiki/Polar_orbit?utm_medium=Exinfluencer&utm_source=Exinfluencer&utm_content=000026UJ&utm_term=10006555&utm_id=NA-SkillsNetwork-Channel-SkillsNetworkCoursesIBMDS0321ENSkillsNetwork26802033-2021-01-01\"> \\[11] </a>\n",
        "\n",
        "some are shown in the following plot:\n"
      ]
    },
    {
      "cell_type": "markdown",
      "metadata": {
        "id": "Wyr2XyasDEIC"
      },
      "source": [
        "![](https://cf-courses-data.s3.us.cloud-object-storage.appdomain.cloud/IBMDeveloperSkillsNetwork-DS0701EN-SkillsNetwork/api/Images/Orbits.png)\n"
      ]
    },
    {
      "cell_type": "markdown",
      "metadata": {
        "id": "AwvUl70GDEIC"
      },
      "source": [
        "### TASK 2: Calculate the number and occurrence of each orbit\n"
      ]
    },
    {
      "cell_type": "markdown",
      "metadata": {
        "id": "vMMJ88rNDEID"
      },
      "source": [
        "Use the method  <code>.value_counts()</code> to determine the number and occurrence of each orbit in the  column <code>Orbit</code>\n"
      ]
    },
    {
      "cell_type": "code",
      "execution_count": null,
      "metadata": {
        "colab": {
          "base_uri": "https://localhost:8080/"
        },
        "id": "rEOLQDNrDEID",
        "outputId": "6c0392c4-80f3-420b-815e-5994302a3edc"
      },
      "outputs": [],
      "source": [
        "# Apply value_counts on Orbit column\n",
        "df['Orbit'].value_counts()"
      ]
    },
    {
      "cell_type": "markdown",
      "metadata": {
        "id": "6b1L8nQxDEID"
      },
      "source": [
        "### TASK 3: Calculate the number and occurence of mission outcome per orbit type\n"
      ]
    },
    {
      "cell_type": "markdown",
      "metadata": {
        "id": "RA0nmkw0DEIE"
      },
      "source": [
        "Use the method <code>.value_counts()</code> on the column <code>Outcome</code> to determine the number of <code>landing_outcomes</code>.Then assign it to a variable landing_outcomes.\n"
      ]
    },
    {
      "cell_type": "code",
      "execution_count": null,
      "metadata": {
        "colab": {
          "base_uri": "https://localhost:8080/"
        },
        "id": "olnri5KDDEIE",
        "outputId": "0ef94195-43bb-4008-9ec7-a983c2a8f069"
      },
      "outputs": [],
      "source": [
        "# landing_outcomes = values on Outcome column\n",
        "landing_outcomes=df['Outcome'].value_counts()\n",
        "landing_outcomes"
      ]
    },
    {
      "cell_type": "markdown",
      "metadata": {
        "id": "Chb89bD8DEIE"
      },
      "source": [
        "<code>True Ocean</code> means the mission outcome was successfully  landed to a specific region of the ocean while <code>False Ocean</code> means the mission outcome was unsuccessfully landed to a specific region of the ocean. <code>True RTLS</code> means the mission outcome was successfully  landed to a ground pad <code>False RTLS</code> means the mission outcome was unsuccessfully landed to a ground pad.<code>True ASDS</code> means the mission outcome was successfully  landed to a drone ship <code>False ASDS</code> means the mission outcome was unsuccessfully landed to a drone ship. <code>None ASDS</code> and <code>None None</code> these represent a failure to land.\n"
      ]
    },
    {
      "cell_type": "code",
      "execution_count": null,
      "metadata": {
        "colab": {
          "base_uri": "https://localhost:8080/"
        },
        "id": "vYsH8Nw9DEIF",
        "outputId": "4c433d71-597e-4ff8-9189-4bd058ac51ea"
      },
      "outputs": [],
      "source": [
        "for i,outcome in enumerate(landing_outcomes.keys()):\n",
        "    print(i,outcome)"
      ]
    },
    {
      "cell_type": "markdown",
      "metadata": {
        "id": "V2_3FP3pDEIF"
      },
      "source": [
        "We create a set of outcomes where the second stage did not land successfully:\n"
      ]
    },
    {
      "cell_type": "code",
      "execution_count": null,
      "metadata": {
        "colab": {
          "base_uri": "https://localhost:8080/"
        },
        "id": "t1M-mxchDEIF",
        "outputId": "50866adc-71d7-464b-913f-95d128abc077"
      },
      "outputs": [],
      "source": [
        "bad_outcomes=set(landing_outcomes.keys()[[1,3,5,6,7]])\n",
        "bad_outcomes"
      ]
    },
    {
      "cell_type": "markdown",
      "metadata": {
        "id": "ylzCkfKoDEIG"
      },
      "source": [
        "### TASK 4: Create a landing outcome label from Outcome column\n"
      ]
    },
    {
      "cell_type": "markdown",
      "metadata": {
        "id": "J050_i_pDEIG"
      },
      "source": [
        "Using the <code>Outcome</code>,  create a list where the element is zero if the corresponding  row  in  <code>Outcome</code> is in the set <code>bad_outcome</code>; otherwise, it's one. Then assign it to the variable <code>landing_class</code>:\n"
      ]
    },
    {
      "cell_type": "code",
      "execution_count": null,
      "metadata": {
        "id": "64cX1q6xDEIH"
      },
      "outputs": [],
      "source": [
        "# landing_class = 0 if bad_outcome\n",
        "# landing_class = 1 otherwise\n",
        "landing_class=[]\n",
        "for i in range(0,len(df['Outcome'])):\n",
        "    if df['Outcome'][i] in bad_outcomes:\n",
        "        landing_class.append(0)\n",
        "    else:\n",
        "        landing_class.append(1)"
      ]
    },
    {
      "cell_type": "markdown",
      "metadata": {
        "id": "4zNoBnEMDEIH"
      },
      "source": [
        "This variable will represent the classification variable that represents the outcome of each launch. If the value is zero, the  first stage did not land successfully; one means  the first stage landed Successfully\n"
      ]
    },
    {
      "cell_type": "code",
      "execution_count": null,
      "metadata": {
        "colab": {
          "base_uri": "https://localhost:8080/",
          "height": 300
        },
        "id": "Tir4PzEaDEII",
        "outputId": "a13b1e4a-b6a7-41b4-800a-593b61f229ca"
      },
      "outputs": [],
      "source": [
        "df['Class']=landing_class\n",
        "df[['Class']].head(8)"
      ]
    },
    {
      "cell_type": "code",
      "execution_count": null,
      "metadata": {
        "colab": {
          "base_uri": "https://localhost:8080/",
          "height": 313
        },
        "id": "zKv8dmlMDEIJ",
        "outputId": "a619a0d4-d133-4fdf-809e-9baf1f83aa66"
      },
      "outputs": [],
      "source": [
        "df.head(5)"
      ]
    },
    {
      "cell_type": "markdown",
      "metadata": {
        "id": "ONZywOYlDEIL"
      },
      "source": [
        "We can use the following line of code to determine  the success rate:\n"
      ]
    },
    {
      "cell_type": "code",
      "execution_count": null,
      "metadata": {
        "colab": {
          "base_uri": "https://localhost:8080/"
        },
        "id": "r33WXpVNDEIL",
        "outputId": "5fca2472-a862-492b-e00c-a814c41767f4"
      },
      "outputs": [],
      "source": [
        "df[\"Class\"].mean()"
      ]
    },
    {
      "cell_type": "markdown",
      "metadata": {
        "id": "rpC693ibDEIM"
      },
      "source": [
        "We can now export it to a CSV for the next section,but to make the answers consistent, in the next lab we will provide data in a pre-selected date range.\n"
      ]
    },
    {
      "cell_type": "markdown",
      "metadata": {
        "id": "AGwhD7oSDEIM"
      },
      "source": [
        "<code>df.to_csv(\"dataset_part\\_2.csv\", index=False)</code>\n"
      ]
    },
    {
      "cell_type": "markdown",
      "metadata": {
        "id": "pHLd5HVqDqrV"
      },
      "source": [
        "# 4. SQL database and queries\n"
      ]
    },
    {
      "cell_type": "markdown",
      "metadata": {
        "id": "keNPR4NFDqrc"
      },
      "source": [
        "### Download the datasets\n",
        "\n",
        "Now let's load the spacex dataset.\n",
        "\n",
        "In many cases the dataset to be analyzed is available as a .CSV (comma separated values) file, perhaps on the internet. Click on the link below to download and save the dataset (.CSV file):\n",
        "\n",
        "<a href=\"https://cf-courses-data.s3.us.cloud-object-storage.appdomain.cloud/IBM-DS0321EN-SkillsNetwork/labs/module_2/data/Spacex.csv?utm_medium=Exinfluencer&utm_source=Exinfluencer&utm_content=000026UJ&utm_term=10006555&utm_id=NA-SkillsNetwork-Channel-SkillsNetworkCoursesIBMDS0321ENSkillsNetwork26802033-2021-01-01\" target=\"_blank\">Spacex DataSet</a>\n"
      ]
    },
    {
      "cell_type": "markdown",
      "metadata": {
        "id": "3xb1i8NBDqrd"
      },
      "source": [
        "### Store the dataset in database table\n",
        "\n",
        "**it is highly recommended to manually load the table using the database console LOAD tool in DB2**.\n",
        "\n",
        "<img src = \"https://cf-courses-data.s3.us.cloud-object-storage.appdomain.cloud/IBM-DS0321EN-SkillsNetwork/labs/module_2/images/spacexload.png\">\n",
        "\n",
        "Now open the Db2 console, open the LOAD tool, Select / Drag the .CSV file for the  dataset, Next create a New Table, and then follow the steps on-screen instructions to load the data. Name the new table as follows:\n",
        "\n",
        "**SPACEXDATASET**\n",
        "\n",
        "**Follow these steps while using old DB2 UI which is having Open Console Screen**\n",
        "\n",
        "**Note:While loading Spacex dataset, ensure that detect datatypes is disabled. Later click on the pencil icon(edit option).**\n",
        "\n",
        "1.  Change the Date Format by manually typing DD-MM-YYYY and timestamp format as DD-MM-YYYY HH\\:MM:SS.\n",
        "\n",
        "    Here you should place the cursor at Date field and manually type as DD-MM-YYYY.\n",
        "\n",
        "2.  Change the PAYLOAD_MASS\\_\\_KG\\_  datatype  to INTEGER.\n",
        "\n",
        "<img src = \"https://cf-courses-data.s3.us.cloud-object-storage.appdomain.cloud/IBM-DS0321EN-SkillsNetwork/labs/module_2/images/spacexload2.png\">\n"
      ]
    },
    {
      "cell_type": "markdown",
      "metadata": {
        "id": "cSsmp1uoDqrd"
      },
      "source": [
        "**Changes to be considered when having DB2 instance with the new UI having Go to UI screen**\n",
        "\n",
        "*   Refer to this insruction in this <a href=\"https://cf-courses-data.s3.us.cloud-object-storage.appdomain.cloud/IBMDeveloperSkillsNetwork-DB0201EN-SkillsNetwork/labs/Labs_Coursera_V5/labs/Lab%20-%20Sign%20up%20for%20IBM%20Cloud%20-%20Create%20Db2%20service%20instance%20-%20Get%20started%20with%20the%20Db2%20console/instructional-labs.md.html?utm_medium=Exinfluencer&utm_source=Exinfluencer&utm_content=000026UJ&utm_term=10006555&utm_id=NA-SkillsNetwork-Channel-SkillsNetworkCoursesIBMDS0321ENSkillsNetwork26802033-2021-01-01\">link</a> for viewing  the new  Go to UI screen.\n",
        "\n",
        "*   Later click on **Data link(below SQL)**  in the Go to UI screen  and click on **Load Data** tab.\n",
        "\n",
        "*   Later browse for the downloaded spacex file.\n",
        "\n",
        "<img src=\"https://cf-courses-data.s3.us.cloud-object-storage.appdomain.cloud/IBM-DS0321EN-SkillsNetwork/labs/module_2/images/browsefile.png\" width=\"800\"/>\n",
        "\n",
        "*   Once done select the schema andload the file.\n",
        "\n",
        " <img src=\"https://cf-courses-data.s3.us.cloud-object-storage.appdomain.cloud/IBM-DS0321EN-SkillsNetwork/labs/module_2/images/spacexload3.png\" width=\"800\"/>\n"
      ]
    },
    {
      "cell_type": "code",
      "execution_count": null,
      "metadata": {
        "id": "m6tjX4XODqre"
      },
      "outputs": [],
      "source": [
        "#!pip install --force-reinstall ibm_db==3.1.0 ibm_db_sa==0.3.3\n",
        "#Ensure we don't load_ext with sqlalchemy>=1.4 (incompadible)\n",
        "#!pip uninstall sqlalchemy==1.4 -y && pip install sqlalchemy==1.3.24\n",
        "#!pip install ipython-sql"
      ]
    },
    {
      "cell_type": "markdown",
      "metadata": {
        "id": "Owy9rHgrDqrg"
      },
      "source": [
        "### Connect to the database\n",
        "\n",
        "Let us first load the SQL extension and establish a connection with the database\n"
      ]
    },
    {
      "cell_type": "code",
      "execution_count": null,
      "metadata": {
        "colab": {
          "base_uri": "https://localhost:8080/"
        },
        "id": "hFgEe5B2Dqrg",
        "outputId": "9f7e753c-e212-4a34-a860-afb273455a8c"
      },
      "outputs": [],
      "source": [
        "%load_ext sql"
      ]
    },
    {
      "cell_type": "markdown",
      "metadata": {
        "id": "1QwhrEdyDqrg"
      },
      "source": [
        "**DB2 magic in case of old UI service credentials.**\n",
        "\n",
        "In the next cell enter your db2 connection string. Recall you created Service Credentials for your Db2 instance before. From the **uri** field of your Db2 service credentials copy everything after db2:// (except the double quote at the end) and paste it in the cell below after ibm_db_sa://\n",
        "\n",
        "<img src =\"https://cf-courses-data.s3.us.cloud-object-storage.appdomain.cloud/IBMDeveloperSkillsNetwork-DB0201EN-SkillsNetwork/labs/FinalModule_edX/images/URI.jpg\">\n",
        "\n",
        "in the following format\n",
        "\n",
        "**%sql ibm_db_sa://my-username:my-password\\@my-hostname:my-port/my-db-name**\n",
        "\n",
        "**DB2 magic in case of new UI service credentials.**\n",
        "\n",
        "<img src =\"https://cf-courses-data.s3.us.cloud-object-storage.appdomain.cloud/IBM-DS0321EN-SkillsNetwork/labs/module_2/images/servicecredentials.png\" width=600>  \n",
        "\n",
        "*   Use the following format.\n",
        "\n",
        "*   Add security=SSL at the end\n",
        "\n",
        "**%sql ibm_db_sa://my-username:my-password\\@my-hostname:my-port/my-db-name?security=SSL**\n"
      ]
    },
    {
      "cell_type": "code",
      "execution_count": null,
      "metadata": {
        "id": "4u-19YI_Dqrh"
      },
      "outputs": [],
      "source": []
    },
    {
      "cell_type": "code",
      "execution_count": null,
      "metadata": {
        "id": "pBIHkZRADqrh"
      },
      "outputs": [],
      "source": []
    },
    {
      "cell_type": "code",
      "execution_count": null,
      "metadata": {
        "colab": {
          "base_uri": "https://localhost:8080/"
        },
        "id": "AaO6JeVqDqrh",
        "outputId": "b8f747c7-d7a4-47e1-be2a-4c748d886fb2"
      },
      "outputs": [],
      "source": [
        "%sql ibm_db_sa://xww99973:Vn9mNH2tDfEGaWLo@54a2f15b-5c0f-46df-8954-7e38e612c2bd.c1ogj3sd0tgtu0lqde00.databases.appdomain.cloud:32733/BLUDB?security=SSL"
      ]
    },
    {
      "cell_type": "markdown",
      "metadata": {
        "id": "Ct-bcO7mDqrj"
      },
      "source": [
        "## Tasks\n",
        "\n",
        "Now write and execute SQL queries to solve the assignment tasks.\n",
        "\n",
        "### Task 1\n",
        "\n",
        "##### Display the names of the unique launch sites  in the space mission\n"
      ]
    },
    {
      "cell_type": "code",
      "execution_count": null,
      "metadata": {
        "colab": {
          "base_uri": "https://localhost:8080/"
        },
        "id": "1agIAd8-Dqrk",
        "outputId": "232f6ce9-34d3-4ffd-b91c-74ff1ba38867"
      },
      "outputs": [],
      "source": [
        "%sql Select Unique Launch_Site from SpaceX"
      ]
    },
    {
      "cell_type": "markdown",
      "metadata": {
        "id": "0JzuXBn3Dqrl"
      },
      "source": [
        "### Task 2\n",
        "\n",
        "##### Display 5 records where launch sites begin with the string 'CCA'\n"
      ]
    },
    {
      "cell_type": "code",
      "execution_count": null,
      "metadata": {
        "colab": {
          "base_uri": "https://localhost:8080/"
        },
        "id": "xdkqClTPDqrm",
        "outputId": "ea831f9a-a96f-4e24-970b-96b4416ccb48"
      },
      "outputs": [],
      "source": [
        "%%sql Select * from SpaceX\n",
        "where Launch_Site like 'CCA%'\n",
        "limit 5"
      ]
    },
    {
      "cell_type": "markdown",
      "metadata": {
        "id": "lai0j_LPDqrn"
      },
      "source": [
        "### Task 3\n",
        "\n",
        "##### Display the total payload mass carried by boosters launched by NASA (CRS)\n"
      ]
    },
    {
      "cell_type": "code",
      "execution_count": null,
      "metadata": {
        "colab": {
          "base_uri": "https://localhost:8080/"
        },
        "id": "0sEhO4rMDqro",
        "outputId": "a3bd7e50-5c80-4774-dda7-5d140fc7ffee"
      },
      "outputs": [],
      "source": [
        "%%sql Select customer, sum(payload_mass_kg) as \"Total Payload Mass\" from\n",
        "        (Select customer, payload_mass_kg from SpaceX\n",
        "        where customer LIKE 'NASA (CRS)')\n",
        "        GROUP BY CUSTOMER"
      ]
    },
    {
      "cell_type": "markdown",
      "metadata": {
        "id": "E20Hg9R9Dqro"
      },
      "source": [
        "### Task 4\n",
        "\n",
        "##### Display average payload mass carried by booster version F9 v1.1\n"
      ]
    },
    {
      "cell_type": "code",
      "execution_count": null,
      "metadata": {
        "colab": {
          "base_uri": "https://localhost:8080/"
        },
        "id": "vodZqsI0Dqro",
        "outputId": "a7c4b9df-c5ed-4ab4-8dc1-0e9a21bef655"
      },
      "outputs": [],
      "source": [
        "%%sql Select BOOSTER_VERSION, AVG(payload_mass_kg) as \"AVERAGE Payload Mass\" from\n",
        "        (Select BOOSTER_VERSION, payload_mass_kg from SpaceX\n",
        "        where BOOSTER_VERSION LIKE 'F9 v1.1')\n",
        "        GROUP BY BOOSTER_VERSION"
      ]
    },
    {
      "cell_type": "markdown",
      "metadata": {
        "id": "8MnQKPIYDqrp"
      },
      "source": [
        "### Task 5\n",
        "\n",
        "##### List the date when the first successful landing outcome in ground pad was acheived.\n",
        "\n",
        "*Hint:Use min function*\n"
      ]
    },
    {
      "cell_type": "code",
      "execution_count": null,
      "metadata": {
        "colab": {
          "base_uri": "https://localhost:8080/"
        },
        "id": "voXD6slpDqrp",
        "outputId": "51b5d3c1-9004-4c26-fb55-6e7711ea56d5"
      },
      "outputs": [],
      "source": [
        "%%sql Select MIN(DATE) as \"FIRST SUCCESS\" FROM\n",
        "        (SELECT DATE FROM SPACEX\n",
        "        WHERE LANDING_OUTCOME LIKE 'Success%')"
      ]
    },
    {
      "cell_type": "markdown",
      "metadata": {
        "id": "1K7L_K6VDqrq"
      },
      "source": [
        "### Task 6\n",
        "\n",
        "##### List the names of the boosters which have success in drone ship and have payload mass greater than 4000 but less than 6000\n"
      ]
    },
    {
      "cell_type": "code",
      "execution_count": null,
      "metadata": {
        "colab": {
          "base_uri": "https://localhost:8080/"
        },
        "id": "GHsJGTLNDqrq",
        "outputId": "40f25270-dee5-4cb6-aae9-52cbc29d3cf8"
      },
      "outputs": [],
      "source": [
        "%%sql SELECT BOOSTER_VERSION, payload_mass_kg, Landing_Outcome  FROM SPACEX\n",
        "where 4000 < payload_mass_kg and payload_mass_kg < 6000 and Landing_Outcome = 'Success (drone ship)'"
      ]
    },
    {
      "cell_type": "markdown",
      "metadata": {
        "id": "fpQe-cmrDqrq"
      },
      "source": [
        "### Task 7\n",
        "\n",
        "##### List the total number of successful and failure mission outcomes\n"
      ]
    },
    {
      "cell_type": "code",
      "execution_count": null,
      "metadata": {
        "colab": {
          "base_uri": "https://localhost:8080/"
        },
        "id": "qXFup-0-Dqrq",
        "outputId": "065c8c1c-6ff1-4dab-f9dd-56448674d053"
      },
      "outputs": [],
      "source": [
        "%%sql SELECT Mission_Outcome, count(Mission_Outcome) as \"Total\" FROM SPACEX\n",
        "Group by Mission_Outcome\n"
      ]
    },
    {
      "cell_type": "markdown",
      "metadata": {
        "id": "rsSl9k8qDqrr"
      },
      "source": [
        "### Task 8\n",
        "\n",
        "##### List the   names of the booster_versions which have carried the maximum payload mass. Use a subquery\n"
      ]
    },
    {
      "cell_type": "code",
      "execution_count": null,
      "metadata": {
        "colab": {
          "base_uri": "https://localhost:8080/"
        },
        "id": "O9xhOrSBDqrr",
        "outputId": "535d5675-0dc5-403e-ae1e-79ece9e30991"
      },
      "outputs": [],
      "source": [
        "%%sql SELECT Unique Booster_version, payload_mass_kg FROM SPACEX\n",
        "where payload_mass_kg = (Select max(payload_mass_kg) from SPACEX)"
      ]
    },
    {
      "cell_type": "markdown",
      "metadata": {
        "id": "tjZ21gjaDqrr"
      },
      "source": [
        "### Task 9\n",
        "\n",
        "##### List the failed landing_outcomes in drone ship, their booster versions, and launch site names for in year 2015\n"
      ]
    },
    {
      "cell_type": "code",
      "execution_count": null,
      "metadata": {
        "colab": {
          "base_uri": "https://localhost:8080/"
        },
        "id": "bYztT7PYDqrs",
        "outputId": "b82edfc9-56dc-4cd2-ce97-d2b7e8139e72"
      },
      "outputs": [],
      "source": [
        "%%sql Select landing_outcome, booster_version, launch_site, DATE from SPACEX\n",
        "where landing_outcome = 'Failure (drone ship)' and Year(DATE) =  2015"
      ]
    },
    {
      "cell_type": "markdown",
      "metadata": {
        "id": "fPE8-ZkLDqrs"
      },
      "source": [
        "### Task 10\n",
        "\n",
        "##### Rank the count of landing outcomes (such as Failure (drone ship) or Success (ground pad)) between the date 2010-06-04 and 2017-03-20, in descending order\n"
      ]
    },
    {
      "cell_type": "code",
      "execution_count": null,
      "metadata": {
        "colab": {
          "base_uri": "https://localhost:8080/"
        },
        "id": "1gQ9KEmpDqrs",
        "outputId": "eb98ea7c-4036-4290-c338-c1ab46d69c93"
      },
      "outputs": [],
      "source": [
        "%%sql select landing_outcome, count(landing_outcome) as \"Total\" from Spacex\n",
        "where DATE between '2010-06-04' and '2017-03-20'\n",
        "group by landing_outcome\n",
        "order by \"Total\" desc"
      ]
    },
    {
      "cell_type": "markdown",
      "metadata": {
        "id": "372XTqg6Dqrt"
      },
      "source": [
        "### Reference Links\n",
        "\n",
        "*   <a href =\"https://cf-courses-data.s3.us.cloud-object-storage.appdomain.cloud/IBMDeveloperSkillsNetwork-DB0201EN-SkillsNetwork/labs/Labs_Coursera_V5/labs/Lab%20-%20String%20Patterns%20-%20Sorting%20-%20Grouping/instructional-labs.md.html?utm_medium=Exinfluencer&utm_source=Exinfluencer&utm_content=000026UJ&utm_term=10006555&utm_id=NA-SkillsNetwork-Channel-SkillsNetworkCoursesIBMDS0321ENSkillsNetwork26802033-2021-01-01&origin=www.coursera.org\">Hands-on Lab : String Patterns, Sorting and Grouping</a>\n",
        "\n",
        "*   <a  href=\"https://cf-courses-data.s3.us.cloud-object-storage.appdomain.cloud/IBMDeveloperSkillsNetwork-DB0201EN-SkillsNetwork/labs/Labs_Coursera_V5/labs/Lab%20-%20Built-in%20functions%20/Hands-on_Lab__Built-in_Functions.md.html?utm_medium=Exinfluencer&utm_source=Exinfluencer&utm_content=000026UJ&utm_term=10006555&utm_id=NA-SkillsNetwork-Channel-SkillsNetworkCoursesIBMDS0321ENSkillsNetwork26802033-2021-01-01&origin=www.coursera.org\">Hands-on Lab: Built-in functions</a>\n",
        "\n",
        "*   <a  href=\"https://cf-courses-data.s3.us.cloud-object-storage.appdomain.cloud/IBMDeveloperSkillsNetwork-DB0201EN-SkillsNetwork/labs/Labs_Coursera_V5/labs/Lab%20-%20Sub-queries%20and%20Nested%20SELECTs%20/instructional-labs.md.html?utm_medium=Exinfluencer&utm_source=Exinfluencer&utm_content=000026UJ&utm_term=10006555&utm_id=NA-SkillsNetwork-Channel-SkillsNetworkCoursesIBMDS0321ENSkillsNetwork26802033-2021-01-01&origin=www.coursera.org\">Hands-on Lab : Sub-queries and Nested SELECT Statements</a>\n",
        "\n",
        "*   <a href=\"https://cf-courses-data.s3.us.cloud-object-storage.appdomain.cloud/IBMDeveloperSkillsNetwork-DB0201EN-SkillsNetwork/labs/Module%205/DB0201EN-Week3-1-3-SQLmagic.ipynb?utm_medium=Exinfluencer&utm_source=Exinfluencer&utm_content=000026UJ&utm_term=10006555&utm_id=NA-SkillsNetwork-Channel-SkillsNetworkCoursesIBMDS0321ENSkillsNetwork26802033-2021-01-01\">Hands-on Tutorial: Accessing Databases with SQL magic</a>\n",
        "\n",
        "*   <a href= \"https://cf-courses-data.s3.us.cloud-object-storage.appdomain.cloud/IBMDeveloperSkillsNetwork-DB0201EN-SkillsNetwork/labs/Module%205/DB0201EN-Week3-1-4-Analyzing.ipynb?utm_medium=Exinfluencer&utm_source=Exinfluencer&utm_content=000026UJ&utm_term=10006555&utm_id=NA-SkillsNetwork-Channel-SkillsNetworkCoursesIBMDS0321ENSkillsNetwork26802033-2021-01-01\">Hands-on Lab: Analyzing a real World Data Set</a>\n"
      ]
    },
    {
      "cell_type": "markdown",
      "metadata": {
        "id": "6b_154DLFWTo"
      },
      "source": [
        "# 5. Exploring and Preparing Data\n"
      ]
    },
    {
      "cell_type": "markdown",
      "metadata": {
        "id": "iJ_Ix_4qFWTs"
      },
      "source": [
        "## Objectives\n",
        "\n",
        "Perform exploratory Data Analysis and Feature Engineering using `Pandas` and `Matplotlib`\n",
        "\n",
        "*   Exploratory Data Analysis\n",
        "*   Preparing Data  Feature Engineering\n"
      ]
    },
    {
      "cell_type": "markdown",
      "metadata": {
        "id": "vXED1ACoFWTt"
      },
      "source": [
        "***\n"
      ]
    },
    {
      "cell_type": "markdown",
      "metadata": {
        "id": "mtRFVKqiFWTt"
      },
      "source": [
        "### Import Libraries and Define Auxiliary Functions\n"
      ]
    },
    {
      "cell_type": "markdown",
      "metadata": {
        "id": "HPdYDnAHFWTu"
      },
      "source": [
        "We will import the following libraries the lab\n"
      ]
    },
    {
      "cell_type": "code",
      "execution_count": null,
      "metadata": {
        "id": "I98cWau8FWTv"
      },
      "outputs": [],
      "source": [
        "# andas is a software library written for the Python programming language for data manipulation and analysis.\n",
        "import pandas as pd\n",
        "#NumPy is a library for the Python programming language, adding support for large, multi-dimensional arrays and matrices, along with a large collection of high-level mathematical functions to operate on these arrays\n",
        "import numpy as np\n",
        "# Matplotlib is a plotting library for python and pyplot gives us a MatLab like plotting framework. We will use this in our plotter function to plot data.\n",
        "import matplotlib.pyplot as plt\n",
        "#Seaborn is a Python data visualization library based on matplotlib. It provides a high-level interface for drawing attractive and informative statistical graphics\n",
        "import seaborn as sns"
      ]
    },
    {
      "cell_type": "markdown",
      "metadata": {
        "id": "vWjAMqzqFWTx"
      },
      "source": [
        "## Exploratory Data Analysis\n"
      ]
    },
    {
      "cell_type": "markdown",
      "metadata": {
        "id": "sEkfAAbeFWTx"
      },
      "source": [
        "First, let's read the SpaceX dataset into a Pandas dataframe and print its summary\n"
      ]
    },
    {
      "cell_type": "code",
      "execution_count": null,
      "metadata": {
        "colab": {
          "base_uri": "https://localhost:8080/",
          "height": 313
        },
        "id": "KVgVjstlFWTy",
        "outputId": "7582a548-26c7-47de-e930-c99eb89324c6"
      },
      "outputs": [],
      "source": [
        "df=pd.read_csv(\"https://cf-courses-data.s3.us.cloud-object-storage.appdomain.cloud/IBM-DS0321EN-SkillsNetwork/datasets/dataset_part_2.csv\")\n",
        "\n",
        "# If you were unable to complete the previous lab correctly you can uncomment and load this csv\n",
        "\n",
        "# df = pd.read_csv('https://cf-courses-data.s3.us.cloud-object-storage.appdomain.cloud/IBMDeveloperSkillsNetwork-DS0701EN-SkillsNetwork/api/dataset_part_2.csv')\n",
        "\n",
        "df.head(5)"
      ]
    },
    {
      "cell_type": "markdown",
      "metadata": {
        "id": "RiXFGO8rFWTz"
      },
      "source": [
        "First, let's try to see how the `FlightNumber` (indicating the continuous launch attempts.) and `Payload` variables would affect the launch outcome.\n",
        "\n",
        "We can plot out the <code>FlightNumber</code> vs. <code>PayloadMass</code>and overlay the outcome of the launch. We see that as the flight number increases, the first stage is more likely to land successfully. The payload mass is also important; it seems the more massive the payload, the less likely the first stage will return.\n"
      ]
    },
    {
      "cell_type": "code",
      "execution_count": null,
      "metadata": {
        "colab": {
          "base_uri": "https://localhost:8080/",
          "height": 201
        },
        "id": "R2MX-qccFWTz",
        "outputId": "e77564f8-377b-4aaf-a7d9-c2f3292d7381"
      },
      "outputs": [],
      "source": [
        "sns.catplot(y=\"PayloadMass\", x=\"FlightNumber\", hue=\"Class\", data=df, aspect = 5)\n",
        "plt.xlabel(\"Flight Number\",fontsize=20)\n",
        "plt.ylabel(\"Pay load Mass (kg)\",fontsize=20)\n",
        "plt.show()"
      ]
    },
    {
      "cell_type": "markdown",
      "metadata": {
        "id": "2rhjJCdyFWT0"
      },
      "source": [
        "We see that different launch sites have different success rates.  <code>CCAFS LC-40</code>, has a success rate of 60 %, while  <code>KSC LC-39A</code> and <code>VAFB SLC 4E</code> has a success rate of 77%.\n"
      ]
    },
    {
      "cell_type": "markdown",
      "metadata": {
        "id": "4joruh8SFWT0"
      },
      "source": [
        "Next, let's drill down to each site visualize its detailed launch records.\n"
      ]
    },
    {
      "cell_type": "markdown",
      "metadata": {
        "id": "jQ0OJdhEFWT0"
      },
      "source": [
        "### TASK 1: Visualize the relationship between Flight Number and Launch Site\n"
      ]
    },
    {
      "cell_type": "markdown",
      "metadata": {
        "id": "gfyt77UNFWT1"
      },
      "source": [
        "Use the function <code>catplot</code> to plot <code>FlightNumber</code> vs <code>LaunchSite</code>, set the  parameter <code>x</code>  parameter to <code>FlightNumber</code>,set the  <code>y</code> to <code>Launch Site</code> and set the parameter <code>hue</code> to <code>'class'</code>\n"
      ]
    },
    {
      "cell_type": "code",
      "execution_count": null,
      "metadata": {
        "colab": {
          "base_uri": "https://localhost:8080/",
          "height": 459
        },
        "id": "u45cGiZUFWT1",
        "outputId": "0a3339e8-5b52-454d-8ad6-d269ac726d71"
      },
      "outputs": [],
      "source": [
        "# Plot a scatter point chart with x axis to be Flight Number and y axis to be the launch site, and hue to be the class value\n",
        "\n",
        "sns.catplot(y=\"LaunchSite\",x=\"FlightNumber\",hue=\"Class\", data=df, aspect = 2)\n",
        "\n",
        "plt.ylabel(\"Launch Site\",fontsize=15)\n",
        "\n",
        "plt.xlabel(\"Flight Number\",fontsize=15)\n",
        "\n",
        "plt.show()"
      ]
    },
    {
      "cell_type": "markdown",
      "metadata": {
        "id": "gQL1WtBNFWT1"
      },
      "source": [
        "Now try to explain the patterns you found in the Flight Number vs. Launch Site scatter point plots.\n"
      ]
    },
    {
      "cell_type": "markdown",
      "metadata": {
        "id": "4CFQO9t-FWT1"
      },
      "source": [
        "### TASK 2: Visualize the relationship between Payload and Launch Site\n"
      ]
    },
    {
      "cell_type": "markdown",
      "metadata": {
        "id": "M6PmyW9vFWT2"
      },
      "source": [
        "We also want to observe if there is any relationship between launch sites and their payload mass.\n"
      ]
    },
    {
      "cell_type": "code",
      "execution_count": null,
      "metadata": {
        "colab": {
          "base_uri": "https://localhost:8080/",
          "height": 459
        },
        "id": "BApfSJuUFWT2",
        "outputId": "25d6a4e5-8cf9-42a9-ddb7-cfd2fb1486cc"
      },
      "outputs": [],
      "source": [
        "# Plot a scatter point chart with x axis to be Pay Load Mass (kg) and y axis to be the launch site, and hue to be the class value\n",
        "# Plot a scatter point chart with x axis to be Flight Number and y axis to be the launch site, and hue to be the class value\n",
        "\n",
        "sns.catplot(y=\"LaunchSite\",x=\"PayloadMass\",hue=\"Class\", data=df, aspect = 2)\n",
        "\n",
        "plt.ylabel(\"Launch Site\",fontsize=15)\n",
        "\n",
        "plt.xlabel(\"Payload Mass\",fontsize=15)\n",
        "\n",
        "plt.show()"
      ]
    },
    {
      "cell_type": "markdown",
      "metadata": {
        "id": "uFpDQtNTFWT2"
      },
      "source": [
        "Now if you observe Payload Vs. Launch Site scatter point chart you will find for the VAFB-SLC  launchsite there are no  rockets  launched for  heavypayload mass(greater than 10000).\n"
      ]
    },
    {
      "cell_type": "markdown",
      "metadata": {
        "id": "kF8x9DvpFWT2"
      },
      "source": [
        "### TASK  3: Visualize the relationship between success rate of each orbit type\n"
      ]
    },
    {
      "cell_type": "markdown",
      "metadata": {
        "id": "SDeEz2GBFWT3"
      },
      "source": [
        "Next, we want to visually check if there are any relationship between success rate and orbit type.\n"
      ]
    },
    {
      "cell_type": "markdown",
      "metadata": {
        "id": "Lpldy351FWT3"
      },
      "source": [
        "Let's create a `bar chart` for the sucess rate of each orbit\n"
      ]
    },
    {
      "cell_type": "code",
      "execution_count": null,
      "metadata": {
        "colab": {
          "base_uri": "https://localhost:8080/",
          "height": 498
        },
        "id": "QNZTJXGTFWT3",
        "outputId": "3601c5f4-7ef2-4724-9119-c6c54a78ca17"
      },
      "outputs": [],
      "source": [
        "# HINT use groupby method on Orbit column and get the mean of Class column\n",
        "df.groupby(['Orbit']).mean()"
      ]
    },
    {
      "cell_type": "code",
      "execution_count": null,
      "metadata": {
        "colab": {
          "base_uri": "https://localhost:8080/",
          "height": 520
        },
        "id": "aHnQNv_3FWT3",
        "outputId": "0588c994-91ef-4a74-fcaf-aa517e56d7b7"
      },
      "outputs": [],
      "source": [
        "sns.catplot(x=\"Orbit\",y=\"Class\", kind=\"bar\",data=df)\n",
        "plt.xlabel(\"Orbit\",fontsize=20)\n",
        "plt.ylabel(\"Mean\",fontsize=20)\n",
        "plt.show()"
      ]
    },
    {
      "cell_type": "markdown",
      "metadata": {
        "id": "eAzTvgMYFWT4"
      },
      "source": [
        "Analyze the ploted bar chart try to find which orbits have high sucess rate.\n"
      ]
    },
    {
      "cell_type": "markdown",
      "metadata": {
        "id": "dru9dSM3FWT4"
      },
      "source": [
        "### TASK  4: Visualize the relationship between FlightNumber and Orbit type\n"
      ]
    },
    {
      "cell_type": "markdown",
      "metadata": {
        "id": "kJMCSgDGFWT4"
      },
      "source": [
        "For each orbit, we want to see if there is any relationship between FlightNumber and Orbit type.\n"
      ]
    },
    {
      "cell_type": "code",
      "execution_count": null,
      "metadata": {
        "colab": {
          "base_uri": "https://localhost:8080/",
          "height": 463
        },
        "id": "P3qhROonFWT5",
        "outputId": "d5952e56-d97a-402d-c379-b64016aac865"
      },
      "outputs": [],
      "source": [
        "# Plot a scatter point chart with x axis to be FlightNumber and y axis to be the Orbit, and hue to be the class value\n",
        "sns.scatterplot(x=\"Orbit\",y=\"FlightNumber\",hue=\"Class\",data = df)\n",
        "plt.xlabel(\"Orbit\",fontsize=20)\n",
        "plt.ylabel(\"Flight Number\",fontsize=20)\n",
        "plt.show()"
      ]
    },
    {
      "cell_type": "markdown",
      "metadata": {
        "id": "kEFTibWYFWT5"
      },
      "source": [
        "You should see that in the LEO orbit the Success appears related to the number of flights; on the other hand, there seems to be no relationship between flight number when in GTO orbit.\n"
      ]
    },
    {
      "cell_type": "markdown",
      "metadata": {
        "id": "fJ2zL_6xFWT6"
      },
      "source": [
        "### TASK  5: Visualize the relationship between Payload and Orbit type\n"
      ]
    },
    {
      "cell_type": "markdown",
      "metadata": {
        "id": "i86Ln2FtFWT6"
      },
      "source": [
        "Similarly, we can plot the Payload vs. Orbit scatter point charts to reveal the relationship between Payload and Orbit type\n"
      ]
    },
    {
      "cell_type": "code",
      "execution_count": null,
      "metadata": {
        "colab": {
          "base_uri": "https://localhost:8080/",
          "height": 463
        },
        "id": "nXVn101pFWT6",
        "outputId": "7eaa3b10-70a4-4568-8296-77a3e8173096"
      },
      "outputs": [],
      "source": [
        "# Plot a scatter point chart with x axis to be Payload and y axis to be the Orbit, and hue to be the class value\n",
        "sns.scatterplot(x=\"Orbit\",y=\"PayloadMass\",hue=\"Class\",data = df)\n",
        "plt.xlabel(\"Orbit\",fontsize=20)\n",
        "plt.ylabel(\"PayloadMass\",fontsize=20)\n",
        "plt.show()"
      ]
    },
    {
      "cell_type": "markdown",
      "metadata": {
        "id": "pRTNFX5jFWT7"
      },
      "source": [
        "With heavy payloads the successful landing or positive landing rate are more for Polar,LEO and ISS.\n",
        "\n",
        "However for GTO we cannot distinguish this well as both positive landing rate and negative landing(unsuccessful mission) are both there here.\n"
      ]
    },
    {
      "cell_type": "markdown",
      "metadata": {
        "id": "vqdCwNEVFWT7"
      },
      "source": [
        "### TASK  6: Visualize the launch success yearly trend\n"
      ]
    },
    {
      "cell_type": "markdown",
      "metadata": {
        "id": "81zQz5sVFWT8"
      },
      "source": [
        "You can plot a line chart with x axis to be <code>Year</code> and y axis to be average success rate, to get the average launch success trend.\n"
      ]
    },
    {
      "cell_type": "markdown",
      "metadata": {
        "id": "aYBWxxHVFWT8"
      },
      "source": [
        "The function will help you get the year from the date:\n"
      ]
    },
    {
      "cell_type": "code",
      "execution_count": null,
      "metadata": {
        "id": "_u6FaWGWFWT8"
      },
      "outputs": [],
      "source": [
        "# A function to Extract years from the date\n",
        "year=[]\n",
        "def Extract_year(date):\n",
        "    for i in df[\"Date\"]:\n",
        "        year.append(i.split(\"-\")[0])\n",
        "    return year\n"
      ]
    },
    {
      "cell_type": "code",
      "execution_count": null,
      "metadata": {
        "colab": {
          "base_uri": "https://localhost:8080/",
          "height": 715
        },
        "id": "h1F7ygeAFWT9",
        "outputId": "8c21d84b-817a-433c-ea04-ae1bd6fbb96b"
      },
      "outputs": [],
      "source": [
        "# Plot a line chart with x axis to be the extracted year and y axis to be the success rate\n",
        "year = pd.DatetimeIndex(df['Date']).year\n",
        "year = np.array(list(year))\n",
        "successratelist = []\n",
        "successrate = 0.00\n",
        "records = 1\n",
        "data = 0\n",
        "for x in df['Class']:\n",
        "    data = x + data\n",
        "    successrate = data/records\n",
        "    successratelist.append(successrate)\n",
        "    records= records +1\n",
        "\n",
        "successratelist = np.array(successratelist)\n",
        "d = {'successrate':successratelist,'year':year}\n",
        "sns.set(rc={'figure.figsize':(11.7,8.27)})\n",
        "sns.lineplot(data=d, x=\"year\", y=\"successrate\" )\n",
        "\n",
        "plt.xlabel(\"Year\",fontsize=20)\n",
        "plt.title('Space X Rocket Success Rates')\n",
        "plt.ylabel(\"Success Rate\",fontsize=20)\n",
        "plt.show()"
      ]
    },
    {
      "cell_type": "markdown",
      "metadata": {
        "id": "94lhIYIJFWT9"
      },
      "source": [
        "you can observe that the sucess rate since 2013 kept increasing till 2020\n"
      ]
    },
    {
      "cell_type": "markdown",
      "metadata": {
        "id": "WZu7EOlBFWT-"
      },
      "source": [
        "## Features Engineering\n"
      ]
    },
    {
      "cell_type": "markdown",
      "metadata": {
        "id": "055KS5zaFWT-"
      },
      "source": [
        "By now, you should obtain some preliminary insights about how each important variable would affect the success rate, we will select the features that will be used in success prediction in the future module.\n"
      ]
    },
    {
      "cell_type": "code",
      "execution_count": null,
      "metadata": {
        "colab": {
          "base_uri": "https://localhost:8080/",
          "height": 313
        },
        "id": "P1jpP3aZFWT-",
        "outputId": "ed673d43-47b7-4d7e-eba0-e3218d65aeff"
      },
      "outputs": [],
      "source": [
        "features = df[['FlightNumber', 'PayloadMass', 'Orbit', 'LaunchSite', 'Flights', 'GridFins', 'Reused', 'Legs', 'LandingPad', 'Block', 'ReusedCount', 'Serial']]\n",
        "features.head()"
      ]
    },
    {
      "cell_type": "code",
      "execution_count": null,
      "metadata": {
        "colab": {
          "base_uri": "https://localhost:8080/"
        },
        "id": "B4CWQrcoFWT_",
        "outputId": "77e0d1a5-3f1d-419b-f4d8-8b6801d7937c"
      },
      "outputs": [],
      "source": [
        "\n",
        "print(features.shape)"
      ]
    },
    {
      "cell_type": "markdown",
      "metadata": {
        "id": "mDealXKnFWT_"
      },
      "source": [
        "### TASK  7: Create dummy variables to categorical columns\n"
      ]
    },
    {
      "cell_type": "markdown",
      "metadata": {
        "id": "z_UiCKutFWUA"
      },
      "source": [
        "Use the function <code>get_dummies</code> and <code>features</code> dataframe to apply OneHotEncoder to the column <code>Orbits</code>, <code>LaunchSite</code>, <code>LandingPad</code>, and <code>Serial</code>. Assign the value to the variable <code>features_one_hot</code>, display the results using the method head. Your result dataframe must include all features including the encoded ones.\n"
      ]
    },
    {
      "cell_type": "code",
      "execution_count": null,
      "metadata": {
        "colab": {
          "base_uri": "https://localhost:8080/",
          "height": 244
        },
        "id": "2varJgT0FWUA",
        "outputId": "443063b4-4d4c-41b1-e0ae-019ad14dda73"
      },
      "outputs": [],
      "source": [
        "# HINT: Use get_dummies() function on the categorical columns\n",
        "features_one_hot = pd.get_dummies(features, columns = ['Orbit', 'LaunchSite', 'LandingPad', 'Serial'])\n",
        "features_one_hot.head()"
      ]
    },
    {
      "cell_type": "markdown",
      "metadata": {
        "id": "2a6OiEoIFWUA"
      },
      "source": [
        "### TASK  8: Cast all numeric columns to `float64`\n"
      ]
    },
    {
      "cell_type": "markdown",
      "metadata": {
        "id": "ZY0nNuPwFWUB"
      },
      "source": [
        "Now that our <code>features_one_hot</code> dataframe only contains numbers cast the entire dataframe to variable type <code>float64</code>\n"
      ]
    },
    {
      "cell_type": "code",
      "execution_count": null,
      "metadata": {
        "colab": {
          "base_uri": "https://localhost:8080/",
          "height": 461
        },
        "id": "B5FrjRsqFWUB",
        "outputId": "8ed74cdd-9227-4bd8-b591-38b3386e7fb9"
      },
      "outputs": [],
      "source": [
        "# HINT: use astype function\n",
        "features_one_hot.astype('float64')"
      ]
    },
    {
      "cell_type": "markdown",
      "metadata": {
        "id": "t5jdH-R6FWUB"
      },
      "source": [
        "We can now export it to a <b>CSV</b> for the next section,but to make the answers consistent, in the next lab we will provide data in a pre-selected date range.\n"
      ]
    },
    {
      "cell_type": "markdown",
      "metadata": {
        "id": "7i6Qo_9wFWUB"
      },
      "source": [
        "<code>features_one_hot.to_csv('dataset_part\\_3.csv', index=False)</code>\n"
      ]
    },
    {
      "cell_type": "markdown",
      "metadata": {
        "id": "R_q7j8uEFuQF"
      },
      "source": [
        "# 6. Folium visuals and analysis\n"
      ]
    },
    {
      "cell_type": "markdown",
      "metadata": {
        "id": "PExcP5rKFuQH"
      },
      "source": [
        "The launch success rate may depend on many factors such as payload mass, orbit type, and so on. It may also depend on the location and proximities of a launch site, i.e., the initial position of rocket trajectories. Finding an optimal location for building a launch site certainly involves many factors and hopefully we could discover some of the factors by analyzing the existing launch site locations.\n"
      ]
    },
    {
      "cell_type": "markdown",
      "metadata": {
        "id": "w9FrPSuJFuQH"
      },
      "source": [
        "In the previous exploratory data analysis labs, you have visualized the SpaceX launch dataset using `matplotlib` and `seaborn` and discovered some preliminary correlations between the launch site and success rates. In this lab, you will be performing more interactive visual analytics using `Folium`.\n"
      ]
    },
    {
      "cell_type": "markdown",
      "metadata": {
        "id": "WwL-7wJxFuQH"
      },
      "source": [
        "## Objectives\n"
      ]
    },
    {
      "cell_type": "markdown",
      "metadata": {
        "id": "y_7XF5H6FuQI"
      },
      "source": [
        "This lab contains the following tasks:\n",
        "\n",
        "*   **TASK 1:** Mark all launch sites on a map\n",
        "*   **TASK 2:** Mark the success/failed launches for each site on the map\n",
        "*   **TASK 3:** Calculate the distances between a launch site to its proximities\n",
        "\n",
        "After completed the above tasks, you should be able to find some geographical patterns about launch sites.\n"
      ]
    },
    {
      "cell_type": "markdown",
      "metadata": {
        "id": "Ht2y4ONcFuQI"
      },
      "source": [
        "Let's first import required Python packages for this lab:\n"
      ]
    },
    {
      "cell_type": "code",
      "execution_count": null,
      "metadata": {
        "colab": {
          "base_uri": "https://localhost:8080/"
        },
        "id": "Q-3VLDZ4FuQI",
        "outputId": "a9a039af-1daf-42ff-a06f-3dd0d9692e15"
      },
      "outputs": [],
      "source": [
        "!pip3 install folium\n",
        "!pip3 install wget"
      ]
    },
    {
      "cell_type": "code",
      "execution_count": null,
      "metadata": {
        "id": "JHW_McucFuQL"
      },
      "outputs": [],
      "source": [
        "import folium\n",
        "import wget\n",
        "import pandas as pd"
      ]
    },
    {
      "cell_type": "code",
      "execution_count": null,
      "metadata": {
        "id": "HerVnBAuFuQL"
      },
      "outputs": [],
      "source": [
        "# Import folium MarkerCluster plugin\n",
        "from folium.plugins import MarkerCluster\n",
        "# Import folium MousePosition plugin\n",
        "from folium.plugins import MousePosition\n",
        "# Import folium DivIcon plugin\n",
        "from folium.features import DivIcon"
      ]
    },
    {
      "cell_type": "markdown",
      "metadata": {
        "id": "QOUjJymSFuQM"
      },
      "source": [
        "If you need to refresh your memory about folium, you may download and refer to this previous folium lab:\n"
      ]
    },
    {
      "cell_type": "markdown",
      "metadata": {
        "id": "OLp8AqFbFuQN"
      },
      "source": [
        "[Generating Maps with Python](https://cf-courses-data.s3.us.cloud-object-storage.appdomain.cloud/IBM-DS0321EN-SkillsNetwork/labs/module\\_3/DV0101EN-3-5-1-Generating-Maps-in-Python-py-v2.0.ipynb)\n"
      ]
    },
    {
      "cell_type": "markdown",
      "metadata": {
        "id": "34-2AEoNFuQO"
      },
      "source": [
        "## Task 1: Mark all launch sites on a map\n"
      ]
    },
    {
      "cell_type": "markdown",
      "metadata": {
        "id": "KfoNn3MHFuQO"
      },
      "source": [
        "First, let's try to add each site's location on a map using site's latitude and longitude coordinates\n"
      ]
    },
    {
      "cell_type": "markdown",
      "metadata": {
        "id": "9lkITLBuFuQO"
      },
      "source": [
        "The following dataset with the name `spacex_launch_geo.csv` is an augmented dataset with latitude and longitude added for each site.\n"
      ]
    },
    {
      "cell_type": "code",
      "execution_count": null,
      "metadata": {
        "id": "uo1uwxymFuQP"
      },
      "outputs": [],
      "source": [
        "# Download and read the `spacex_launch_geo.csv`\n",
        "spacex_csv_file = wget.download('https://cf-courses-data.s3.us.cloud-object-storage.appdomain.cloud/IBM-DS0321EN-SkillsNetwork/datasets/spacex_launch_geo.csv')\n",
        "spacex_df=pd.read_csv(spacex_csv_file)"
      ]
    },
    {
      "cell_type": "markdown",
      "metadata": {
        "id": "PV7hGLCqFuQP"
      },
      "source": [
        "Now, you can take a look at what are the coordinates for each site.\n"
      ]
    },
    {
      "cell_type": "code",
      "execution_count": null,
      "metadata": {
        "colab": {
          "base_uri": "https://localhost:8080/",
          "height": 175
        },
        "id": "g6yjF1cwFuQQ",
        "outputId": "6405e85d-9ef4-436b-a415-c5b08d9ede1a"
      },
      "outputs": [],
      "source": [
        "# Select relevant sub-columns: `Launch Site`, `Lat(Latitude)`, `Long(Longitude)`, `class`\n",
        "spacex_df = spacex_df[['Launch Site', 'Lat', 'Long', 'class']]\n",
        "launch_sites_df = spacex_df.groupby(['Launch Site'], as_index=False).first()\n",
        "launch_sites_df = launch_sites_df[['Launch Site', 'Lat', 'Long']]\n",
        "launch_sites_df"
      ]
    },
    {
      "cell_type": "markdown",
      "metadata": {
        "id": "QUKfIcsFFuQR"
      },
      "source": [
        "Above coordinates are just plain numbers that can not give you any intuitive insights about where are those launch sites. If you are very good at geography, you can interpret those numbers directly in your mind. If not, that's fine too. Let's visualize those locations by pinning them on a map.\n"
      ]
    },
    {
      "cell_type": "markdown",
      "metadata": {
        "id": "-Nm44TnTFuQS"
      },
      "source": [
        "We first need to create a folium `Map` object, with an initial center location to be NASA Johnson Space Center at Houston, Texas.\n"
      ]
    },
    {
      "cell_type": "code",
      "execution_count": null,
      "metadata": {
        "id": "79Zc-pXKFuQS"
      },
      "outputs": [],
      "source": [
        "# Start location is NASA Johnson Space Center\n",
        "nasa_coordinate = [29.559684888503615, -95.0830971930759]\n",
        "site_map = folium.Map(location=nasa_coordinate, zoom_start=10)"
      ]
    },
    {
      "cell_type": "markdown",
      "metadata": {
        "id": "MtZibD3kFuQT"
      },
      "source": [
        "We could use `folium.Circle` to add a highlighted circle area with a text label on a specific coordinate. For example,\n"
      ]
    },
    {
      "cell_type": "code",
      "execution_count": null,
      "metadata": {
        "colab": {
          "base_uri": "https://localhost:8080/",
          "height": 582
        },
        "id": "DD4H8_w_FuQT",
        "outputId": "6175c1ee-61e3-4c25-9a5c-e12d050c8893",
        "scrolled": true
      },
      "outputs": [],
      "source": [
        "# Create a blue circle at NASA Johnson Space Center's coordinate with a popup label showing its name\n",
        "circle = folium.Circle(nasa_coordinate, radius=1000, color='#d35400', fill=True).add_child(folium.Popup('NASA Johnson Space Center'))\n",
        "# Create a blue circle at NASA Johnson Space Center's coordinate with a icon showing its name\n",
        "marker = folium.map.Marker(\n",
        "    nasa_coordinate,\n",
        "    # Create an icon as a text label\n",
        "    icon=DivIcon(\n",
        "        icon_size=(20,20),\n",
        "        icon_anchor=(0,0),\n",
        "        html='<div style=\"font-size: 12; color:#d35400;\"><b>%s</b></div>' % 'NASA JSC',\n",
        "        )\n",
        "    )\n",
        "site_map.add_child(circle)\n",
        "site_map.add_child(marker)"
      ]
    },
    {
      "cell_type": "markdown",
      "metadata": {
        "id": "t-XwxTjKFuQT"
      },
      "source": [
        "and you should find a small yellow circle near the city of Houston and you can zoom-in to see a larger circle.\n"
      ]
    },
    {
      "cell_type": "markdown",
      "metadata": {
        "id": "klA5AmGkFuQU"
      },
      "source": [
        "Now, let's add a circle for each launch site in data frame `launch_sites`\n"
      ]
    },
    {
      "cell_type": "markdown",
      "metadata": {
        "id": "i8JLMwYkFuQU"
      },
      "source": [
        "*TODO:*  Create and add `folium.Circle` and `folium.Marker` for each launch site on the site map\n"
      ]
    },
    {
      "cell_type": "markdown",
      "metadata": {
        "id": "0Bkf9xJZFuQU"
      },
      "source": [
        "An example of folium.Circle:\n"
      ]
    },
    {
      "cell_type": "markdown",
      "metadata": {
        "id": "3HEL7M5UFuQU"
      },
      "source": [
        "`folium.Circle(coordinate, radius=1000, color='#000000', fill=True).add_child(folium.Popup(...))`\n"
      ]
    },
    {
      "cell_type": "markdown",
      "metadata": {
        "id": "2Faa_Wb5FuQV"
      },
      "source": [
        "An example of folium.Marker:\n"
      ]
    },
    {
      "cell_type": "markdown",
      "metadata": {
        "id": "UM4F2MkUFuQV"
      },
      "source": [
        "`folium.map.Marker(coordinate, icon=DivIcon(icon_size=(20,20),icon_anchor=(0,0), html='<div style=\"font-size: 12; color:#d35400;\"><b>%s</b></div>' % 'label', ))`\n"
      ]
    },
    {
      "cell_type": "code",
      "execution_count": null,
      "metadata": {
        "colab": {
          "base_uri": "https://localhost:8080/"
        },
        "id": "TmmxBdVSFuQV",
        "outputId": "043fab4f-4ca9-4f35-a0fb-0fe9e2e1effc"
      },
      "outputs": [],
      "source": [
        "for i in range(0, len(launch_sites_df['Launch Site'])):\n",
        "    cord = []\n",
        "    cord.append(launch_sites_df['Lat'][i])\n",
        "    cord.append(launch_sites_df['Long'][i])\n",
        "    print(cord)\n"
      ]
    },
    {
      "cell_type": "code",
      "execution_count": null,
      "metadata": {
        "id": "-ItXDSOgFuQV"
      },
      "outputs": [],
      "source": [
        "# Initial the map\n",
        "site_map = folium.Map(location=nasa_coordinate, zoom_start=5)\n"
      ]
    },
    {
      "cell_type": "code",
      "execution_count": null,
      "metadata": {
        "colab": {
          "base_uri": "https://localhost:8080/",
          "height": 582
        },
        "id": "WHoPqnP0FuQW",
        "outputId": "99a63688-d60f-42d9-a239-b1e46f7c0963"
      },
      "outputs": [],
      "source": [
        "# For each launch site, add a Circle object based on its coordinate (Lat, Long) values. In addition, add Launch site name as a popup label\n",
        "for i in range(0, len(launch_sites_df['Launch Site'])):\n",
        "    cord = []\n",
        "    cord.append(launch_sites_df['Lat'][i])\n",
        "    cord.append(launch_sites_df['Long'][i])\n",
        "    circle = folium.Circle(cord, radius=100, color='#d35400', fill=True).add_child(folium.Popup(launch_sites_df['Launch Site'][i]))\n",
        "    marker = folium.map.Marker(\n",
        "    cord,\n",
        "    # Create an icon as a text label\n",
        "    icon=DivIcon(\n",
        "        icon_size=(20,20),\n",
        "        icon_anchor=(0,0),\n",
        "        html='<div style=\"font-size: 12; color:#d35400;\"><b>%s</b></div>' % launch_sites_df['Launch Site'][i],\n",
        "        )\n",
        "    )\n",
        "    site_map.add_child(circle)\n",
        "    site_map.add_child(marker)\n",
        "\n",
        "\n",
        "display(site_map)"
      ]
    },
    {
      "cell_type": "markdown",
      "metadata": {
        "id": "6Z_HC87AFuQW"
      },
      "source": [
        "The generated map with marked launch sites should look similar to the following:\n"
      ]
    },
    {
      "cell_type": "markdown",
      "metadata": {
        "id": "M074ZuhmFuQX"
      },
      "source": [
        "<center>\n",
        "    <img src=\"https://cf-courses-data.s3.us.cloud-object-storage.appdomain.cloud/IBM-DS0321EN-SkillsNetwork/labs/module_3/images/launch_site_markers.png\" />\n",
        "</center>\n"
      ]
    },
    {
      "cell_type": "markdown",
      "metadata": {
        "id": "t5wMZx8IFuQX"
      },
      "source": [
        "Now, you can explore the map by zoom-in/out the marked areas\n",
        ", and try to answer the following questions:\n",
        "\n",
        "*   Are all launch sites in proximity to the Equator line?\n",
        "*   Are all launch sites in very close proximity to the coast?\n",
        "\n",
        "Also please try to explain your findings.\n"
      ]
    },
    {
      "cell_type": "markdown",
      "metadata": {
        "id": "Y9b7U9f4FuQX"
      },
      "source": [
        "## Task 2: Mark the success/failed launches for each site on the map\n"
      ]
    },
    {
      "cell_type": "markdown",
      "metadata": {
        "id": "1iNk2cxMFuQX"
      },
      "source": [
        "Next, let's try to enhance the map by adding the launch outcomes for each site, and see which sites have high success rates.\n",
        "Recall that data frame spacex_df has detailed launch records, and the `class` column indicates if this launch was successful or not\n"
      ]
    },
    {
      "cell_type": "code",
      "execution_count": null,
      "metadata": {
        "colab": {
          "base_uri": "https://localhost:8080/",
          "height": 363
        },
        "id": "mzQ1TWpHFuQY",
        "outputId": "6ea910a8-351f-4076-f3e1-0a9a6bba959a"
      },
      "outputs": [],
      "source": [
        "spacex_df.tail(10)"
      ]
    },
    {
      "cell_type": "markdown",
      "metadata": {
        "id": "tiJ744UbFuQZ"
      },
      "source": [
        "Next, let's create markers for all launch records.\n",
        "If a launch was successful `(class=1)`, then we use a green marker and if a launch was failed, we use a red marker `(class=0)`\n"
      ]
    },
    {
      "cell_type": "markdown",
      "metadata": {
        "id": "QSX7KVheFuQZ"
      },
      "source": [
        "Note that a launch only happens in one of the four launch sites, which means many launch records will have the exact same coordinate. Marker clusters can be a good way to simplify a map containing many markers having the same coordinate.\n"
      ]
    },
    {
      "cell_type": "markdown",
      "metadata": {
        "id": "yE5QPeC_FuQZ"
      },
      "source": [
        "Let's first create a `MarkerCluster` object\n"
      ]
    },
    {
      "cell_type": "code",
      "execution_count": null,
      "metadata": {
        "id": "wP9PVUZ7Jfjt",
        "papermill": {
          "duration": 0.904519,
          "end_time": "2020-09-19T06:27:38.357041",
          "exception": false,
          "start_time": "2020-09-19T06:27:37.452522",
          "status": "completed"
        },
        "tags": []
      },
      "outputs": [],
      "source": [
        "marker_cluster = MarkerCluster()\n"
      ]
    },
    {
      "cell_type": "markdown",
      "metadata": {
        "id": "2IOQxu84FuQa"
      },
      "source": [
        "*TODO:* Create a new column in `launch_sites` dataframe called `marker_color` to store the marker colors based on the `class` value\n"
      ]
    },
    {
      "cell_type": "code",
      "execution_count": null,
      "metadata": {
        "id": "XXTxSvxtFuQa"
      },
      "outputs": [],
      "source": [
        "\n",
        "# Apply a function to check the value of `class` column\n",
        "# If class=1, marker_color value will be green\n",
        "# If class=0, marker_color value will be red\n",
        "marker_color = []\n",
        "for i in range(0,len(spacex_df['class'])):\n",
        "    if spacex_df['class'][i] == 1:\n",
        "        marker_color.append('green')\n",
        "    else:\n",
        "        marker_color.append('red')\n",
        "\n",
        "spacex_df['marker_color'] = marker_color\n",
        "\n"
      ]
    },
    {
      "cell_type": "code",
      "execution_count": null,
      "metadata": {
        "colab": {
          "base_uri": "https://localhost:8080/",
          "height": 363
        },
        "id": "si9jhoxMFuQa",
        "outputId": "aee8c996-79d6-43e3-a320-2a08e88cee65"
      },
      "outputs": [],
      "source": [
        "# Function to assign color to launch outcome\n",
        "def assign_marker_color(launch_outcome):\n",
        "    if launch_outcome == 1:\n",
        "        return 'green'\n",
        "    else:\n",
        "        return 'red'\n",
        "\n",
        "spacex_df['marker_color'] = spacex_df['class'].apply(assign_marker_color)\n",
        "spacex_df.tail(10)"
      ]
    },
    {
      "cell_type": "markdown",
      "metadata": {
        "id": "jjr9KTIBFuQb"
      },
      "source": [
        "*TODO:* For each launch result in `spacex_df` data frame, add a `folium.Marker` to `marker_cluster`\n"
      ]
    },
    {
      "cell_type": "code",
      "execution_count": null,
      "metadata": {
        "colab": {
          "base_uri": "https://localhost:8080/",
          "height": 582
        },
        "id": "Y2pK2wC5FuQb",
        "outputId": "92a2a400-b962-41d5-bf23-6d581faef232"
      },
      "outputs": [],
      "source": [
        "# Add marker_cluster to current site_map\n",
        "site_map.add_child(marker_cluster)\n",
        "\n",
        "# for each row in spacex_df data frame\n",
        "# create a Marker object with its coordinate\n",
        "# and customize the Marker's icon property to indicate if this launch was successed or failed,\n",
        "# e.g., icon=folium.Icon(color='white', icon_color=row['marker_color']\n",
        "for index, record in spacex_df.iterrows():\n",
        "    # TODO: Create and add a Marker cluster to the site map\n",
        "    cord = [record['Lat'], record['Long']]\n",
        "    marker = folium.Marker(cord, icon = folium.Icon(color='white', icon_color=record['marker_color']))\n",
        "    marker_cluster.add_child(marker)\n",
        "\n",
        "site_map"
      ]
    },
    {
      "cell_type": "markdown",
      "metadata": {
        "id": "hkPXQ9VzFuQb"
      },
      "source": [
        "Your updated map may look like the following screenshots:\n"
      ]
    },
    {
      "cell_type": "markdown",
      "metadata": {
        "id": "nWfsqfu9FuQc"
      },
      "source": [
        "<center>\n",
        "    <img src=\"https://cf-courses-data.s3.us.cloud-object-storage.appdomain.cloud/IBM-DS0321EN-SkillsNetwork/labs/module_3/images/launch_site_marker_cluster.png\" />\n",
        "</center>\n"
      ]
    },
    {
      "cell_type": "markdown",
      "metadata": {
        "id": "Eo3Dm5a6FuQc"
      },
      "source": [
        "<center>\n",
        "    <img src=\"https://cf-courses-data.s3.us.cloud-object-storage.appdomain.cloud/IBM-DS0321EN-SkillsNetwork/labs/module_3/images/launch_site_marker_cluster_zoomed.png\" />\n",
        "</center>\n"
      ]
    },
    {
      "cell_type": "markdown",
      "metadata": {
        "id": "_2u-GS7RFuQc"
      },
      "source": [
        "From the color-labeled markers in marker clusters, you should be able to easily identify which launch sites have relatively high success rates.\n"
      ]
    },
    {
      "cell_type": "markdown",
      "metadata": {
        "id": "l2dDyK9NFuQd"
      },
      "source": [
        "## TASK 3: Calculate the distances between a launch site to its proximities\n"
      ]
    },
    {
      "cell_type": "markdown",
      "metadata": {
        "id": "UT9T5W7TFuQe"
      },
      "source": [
        "Next, we need to explore and analyze the proximities of launch sites.\n"
      ]
    },
    {
      "cell_type": "markdown",
      "metadata": {
        "id": "K5SxjPfHFuQf"
      },
      "source": [
        "Let's first add a `MousePosition` on the map to get coordinate for a mouse over a point on the map. As such, while you are exploring the map, you can easily find the coordinates of any points of interests (such as railway)\n"
      ]
    },
    {
      "cell_type": "code",
      "execution_count": null,
      "metadata": {
        "colab": {
          "base_uri": "https://localhost:8080/",
          "height": 582
        },
        "id": "oF9cJYFGFuQg",
        "outputId": "642755ae-d929-4606-ddfa-dbd922c349f5"
      },
      "outputs": [],
      "source": [
        "# Add Mouse Position to get the coordinate (Lat, Long) for a mouse over on the map\n",
        "formatter = \"function(num) {return L.Util.formatNum(num, 5);};\"\n",
        "mouse_position = MousePosition(\n",
        "    position='topright',\n",
        "    separator=' Long: ',\n",
        "    empty_string='NaN',\n",
        "    lng_first=False,\n",
        "    num_digits=20,\n",
        "    prefix='Lat:',\n",
        "    lat_formatter=formatter,\n",
        "    lng_formatter=formatter,\n",
        ")\n",
        "\n",
        "site_map.add_child(mouse_position)\n",
        "site_map"
      ]
    },
    {
      "cell_type": "markdown",
      "metadata": {
        "id": "RPJoaaGaFuQh"
      },
      "source": [
        "Now zoom in to a launch site and explore its proximity to see if you can easily find any railway, highway, coastline, etc. Move your mouse to these points and mark down their coordinates (shown on the top-left) in order to the distance to the launch site.\n"
      ]
    },
    {
      "cell_type": "markdown",
      "metadata": {
        "id": "uy2sFrILFuQi"
      },
      "source": [
        "You can calculate the distance between two points on the map based on their `Lat` and `Long` values using the following method:\n"
      ]
    },
    {
      "cell_type": "code",
      "execution_count": null,
      "metadata": {
        "id": "aazi3y2cFuQi"
      },
      "outputs": [],
      "source": [
        "from math import sin, cos, sqrt, atan2, radians\n",
        "\n",
        "def calculate_distance(lat1, lon1, lat2, lon2):\n",
        "    # approximate radius of earth in km\n",
        "    R = 6373.0\n",
        "\n",
        "    lat1 = radians(lat1)\n",
        "    lon1 = radians(lon1)\n",
        "    lat2 = radians(lat2)\n",
        "    lon2 = radians(lon2)\n",
        "\n",
        "    dlon = lon2 - lon1\n",
        "    dlat = lat2 - lat1\n",
        "\n",
        "    a = sin(dlat / 2)**2 + cos(lat1) * cos(lat2) * sin(dlon / 2)**2\n",
        "    c = 2 * atan2(sqrt(a), sqrt(1 - a))\n",
        "\n",
        "    distance = R * c\n",
        "    return distance"
      ]
    },
    {
      "cell_type": "markdown",
      "metadata": {
        "id": "LfzcFxx4FuQi"
      },
      "source": [
        "*TODO:* Mark down a point on the closest coastline using MousePosition and calculate the distance between the coastline point and the launch site.\n"
      ]
    },
    {
      "cell_type": "code",
      "execution_count": null,
      "metadata": {
        "id": "Do-MSfT0FuQj"
      },
      "outputs": [],
      "source": [
        "# find coordinate of the closet coastline\n",
        "# e.g.,: Lat: 28.56367  Lon: -80.57163\n",
        "launch_site_lat = 28.562302\n",
        "launch_site_lon = -80.577356\n",
        "\n",
        "\n",
        "coastline_lat = 28.56226\n",
        "coastline_lon = -80.56788\n",
        "\n",
        "distance_coastline = calculate_distance(launch_site_lat, launch_site_lon, coastline_lat, coastline_lon)"
      ]
    },
    {
      "cell_type": "markdown",
      "metadata": {
        "id": "waO-u1_7FuQj"
      },
      "source": [
        "*TODO:* After obtained its coordinate, create a `folium.Marker` to show the distance\n"
      ]
    },
    {
      "cell_type": "code",
      "execution_count": null,
      "metadata": {
        "id": "4vrHRxRUFuQj"
      },
      "outputs": [],
      "source": [
        "# Create and add a folium.Marker on your selected closest coastline point on the map\n",
        "# Display the distance between coastline point and launch site using the icon property\n",
        "# for example\n",
        "coordinate = [28.56226, -80.56788]\n",
        "distance_marker = folium.Marker(\n",
        "    coordinate,\n",
        "    icon=DivIcon(\n",
        "        icon_size=(20,20),\n",
        "        icon_anchor=(0,0),\n",
        "        html='<div style=\"font-size: 12; color:#d35400;\"><b>%s</b></div>' % \"{:10.2f} KM\".format(distance_coastline),\n",
        "        )\n",
        "    )"
      ]
    },
    {
      "cell_type": "markdown",
      "metadata": {
        "id": "EVKo4FFBFuQj"
      },
      "source": [
        "*TODO:* Draw a `PolyLine` between a launch site to the selected coastline point\n"
      ]
    },
    {
      "cell_type": "code",
      "execution_count": null,
      "metadata": {
        "colab": {
          "base_uri": "https://localhost:8080/",
          "height": 582
        },
        "id": "KX7-uGSGFuQk",
        "outputId": "16b8d95d-c240-46f0-98f4-bd2350a98a95",
        "scrolled": true
      },
      "outputs": [],
      "source": [
        "# Create a `folium.PolyLine` object using the coastline coordinates and launch site coordinate\n",
        "coordinates = [[28.562302,-80.577356],[28.56226, -80.56788]]\n",
        "lines=folium.PolyLine(locations=coordinates, weight=1)\n",
        "site_map.add_child(distance_marker)\n",
        "site_map.add_child(lines)"
      ]
    },
    {
      "cell_type": "markdown",
      "metadata": {
        "id": "8QWUM-70FuQk"
      },
      "source": [
        "Your updated map with distance line should look like the following screenshot:\n"
      ]
    },
    {
      "cell_type": "markdown",
      "metadata": {
        "id": "sn0crxDWFuQl"
      },
      "source": [
        "<center>\n",
        "    <img src=\"https://cf-courses-data.s3.us.cloud-object-storage.appdomain.cloud/IBM-DS0321EN-SkillsNetwork/labs/module_3/images/launch_site_marker_distance.png\" />\n",
        "</center>\n"
      ]
    },
    {
      "cell_type": "markdown",
      "metadata": {
        "id": "QH7Qq7YPFuQl"
      },
      "source": [
        "*TODO:* Similarly, you can draw a line betwee a launch site to its closest city, railway, highway, etc. You need to use `MousePosition` to find the their coordinates on the map first\n"
      ]
    },
    {
      "cell_type": "markdown",
      "metadata": {
        "id": "TBhK1C64FuQl"
      },
      "source": [
        "A railway map symbol may look like this:\n"
      ]
    },
    {
      "cell_type": "markdown",
      "metadata": {
        "id": "3Rq0F4xpFuQm"
      },
      "source": [
        "<center>\n",
        "    <img src=\"https://cf-courses-data.s3.us.cloud-object-storage.appdomain.cloud/IBM-DS0321EN-SkillsNetwork/labs/module_3/images/railway.png\" />\n",
        "</center>\n"
      ]
    },
    {
      "cell_type": "markdown",
      "metadata": {
        "id": "mo0Q7P52FuQm"
      },
      "source": [
        "A highway map symbol may look like this:\n"
      ]
    },
    {
      "cell_type": "markdown",
      "metadata": {
        "id": "_FxKYlNCFuQm"
      },
      "source": [
        "<center>\n",
        "    <img src=\"https://cf-courses-data.s3.us.cloud-object-storage.appdomain.cloud/IBM-DS0321EN-SkillsNetwork/labs/module_3/images/highway.png\" />\n",
        "</center>\n"
      ]
    },
    {
      "cell_type": "markdown",
      "metadata": {
        "id": "xKlezKYGFuQm"
      },
      "source": [
        "A city map symbol may look like this:\n"
      ]
    },
    {
      "cell_type": "markdown",
      "metadata": {
        "id": "Y6fsa8cGFuQn"
      },
      "source": [
        "<center>\n",
        "    <img src=\"https://cf-courses-data.s3.us.cloud-object-storage.appdomain.cloud/IBM-DS0321EN-SkillsNetwork/labs/module_3/images/city.png\" />\n",
        "</center>\n"
      ]
    },
    {
      "cell_type": "code",
      "execution_count": null,
      "metadata": {
        "id": "HWoBwYQPFuQn"
      },
      "outputs": [],
      "source": [
        "# Create a marker with distance to a closest city, railway, highway, etc.\n",
        "# Draw a line between the marker to the launch site\n",
        "launch_site_lat = 28.562302\n",
        "launch_site_lon = -80.577356\n",
        "\n",
        "launch_cord = [launch_site_lat, launch_site_lon]\n",
        "\n",
        "railway_lat = 28.57205\n",
        "railway_lon = -80.58528\n",
        "\n",
        "rail_cord = [railway_lat, railway_lon]\n",
        "\n",
        "highway_lat = 28.56227\n",
        "highway_lon = -80.5706\n",
        "\n",
        "high_cord = [highway_lat, highway_lon]\n",
        "\n",
        "city_lat = 28.08652\n",
        "city_lon = -80.61524\n",
        "\n",
        "city_cord = [city_lat, city_lon]\n",
        "\n",
        "distance_railway = calculate_distance(launch_site_lat, launch_site_lon, railway_lat, railway_lon)\n",
        "\n",
        "distance_highway = calculate_distance(launch_site_lat, launch_site_lon, highway_lat, highway_lon)\n",
        "\n",
        "distance_city = calculate_distance(launch_site_lat, launch_site_lon, city_lat, city_lon)"
      ]
    },
    {
      "cell_type": "code",
      "execution_count": null,
      "metadata": {
        "id": "PWOuTy8QFuQn"
      },
      "outputs": [],
      "source": [
        "coordinate = [28.56226, -80.56788]\n",
        "rail_distance_marker = folium.Marker(\n",
        "    rail_cord,\n",
        "    icon=DivIcon(\n",
        "        icon_size=(20,20),\n",
        "        icon_anchor=(0,0),\n",
        "        html='<div style=\"font-size: 12; color:#d35400;\"><b>%s</b></div>' % \"{:10.2f} KM\".format(distance_railway),\n",
        "        )\n",
        "    )\n",
        "\n",
        "high_distance_marker = folium.Marker(\n",
        "    high_cord,\n",
        "    icon=DivIcon(\n",
        "        icon_size=(20,20),\n",
        "        icon_anchor=(0,0),\n",
        "        html='<div style=\"font-size: 12; color:#d35400;\"><b>%s</b></div>' % \"{:10.2f} KM\".format(distance_highway),\n",
        "        )\n",
        "    )\n",
        "\n",
        "city_distance_marker = folium.Marker(\n",
        "    city_cord,\n",
        "    icon=DivIcon(\n",
        "        icon_size=(20,20),\n",
        "        icon_anchor=(0,0),\n",
        "        html='<div style=\"font-size: 12; color:#d35400;\"><b>%s</b></div>' % \"{:10.2f} KM\".format(distance_city),\n",
        "        )\n",
        "    )"
      ]
    },
    {
      "cell_type": "code",
      "execution_count": null,
      "metadata": {
        "colab": {
          "base_uri": "https://localhost:8080/",
          "height": 582
        },
        "id": "nWUJhqADFuQo",
        "outputId": "91a8ca39-a902-425f-a244-4b58be3c98c7"
      },
      "outputs": [],
      "source": [
        "rail_coordinates = [launch_cord,rail_cord]\n",
        "rail_lines=folium.PolyLine(locations=rail_coordinates, weight=1)\n",
        "site_map.add_child(rail_distance_marker)\n",
        "site_map.add_child(rail_lines)\n",
        "\n",
        "high_coordinates = [launch_cord,high_cord]\n",
        "high_lines=folium.PolyLine(locations=high_coordinates, weight=1)\n",
        "site_map.add_child(high_distance_marker)\n",
        "site_map.add_child(high_lines)\n",
        "\n",
        "city_coordinates = [launch_cord,city_cord]\n",
        "city_lines=folium.PolyLine(locations=city_coordinates, weight=1)\n",
        "site_map.add_child(city_distance_marker)\n",
        "site_map.add_child(city_lines)"
      ]
    },
    {
      "cell_type": "markdown",
      "metadata": {
        "id": "Xb5y-lHWFuQo"
      },
      "source": [
        "After you plot distance lines to the proximities, you can answer the following questions easily:\n",
        "\n",
        "*   Are launch sites in close proximity to railways?\n",
        "*   Are launch sites in close proximity to highways?\n",
        "*   Are launch sites in close proximity to coastline?\n",
        "*   Do launch sites keep certain distance away from cities?\n",
        "\n",
        "Also please try to explain your findings.\n"
      ]
    },
    {
      "cell_type": "markdown",
      "metadata": {
        "id": "4BJFuk-YFuQp"
      },
      "source": [
        "## Next Steps:\n",
        "\n",
        "Now you have discovered many interesting insights related to the launch sites' location using folium, in a very interactive way. Next, you will need to build a dashboard using Ploty Dash on detailed launch records.\n"
      ]
    },
    {
      "cell_type": "markdown",
      "metadata": {
        "id": "spYB8HD5FuQp"
      },
      "source": [
        "## Authors\n"
      ]
    },
    {
      "cell_type": "markdown",
      "metadata": {
        "id": "dsTY8c77FuQp"
      },
      "source": [
        "[Yan Luo](https://www.linkedin.com/in/yan-luo-96288783/?utm_medium=Exinfluencer&utm_source=Exinfluencer&utm_content=000026UJ&utm_term=10006555&utm_id=NA-SkillsNetwork-Channel-SkillsNetworkCoursesIBMDS0321ENSkillsNetwork26802033-2021-01-01)\n"
      ]
    },
    {
      "cell_type": "markdown",
      "metadata": {
        "id": "syzU14g5FuQp"
      },
      "source": [
        "### Other Contributors\n"
      ]
    },
    {
      "cell_type": "markdown",
      "metadata": {
        "id": "Msw2HuADFuQp"
      },
      "source": [
        "Joseph Santarcangelo\n"
      ]
    },
    {
      "cell_type": "markdown",
      "metadata": {
        "id": "6Tlitiw5FuQq"
      },
      "source": [
        "## Change Log\n"
      ]
    },
    {
      "cell_type": "markdown",
      "metadata": {
        "id": "K6vqdp9RFuQq"
      },
      "source": [
        "| Date (YYYY-MM-DD) | Version | Changed By | Change Description          |\n",
        "| ----------------- | ------- | ---------- | --------------------------- |\n",
        "| 2021-05-26        | 1.0     | Yan        | Created the initial version |\n"
      ]
    },
    {
      "cell_type": "markdown",
      "metadata": {
        "id": "m2p6MO3OFuQq"
      },
      "source": [
        "Copyright © 2021 IBM Corporation. All rights reserved.\n"
      ]
    },
    {
      "cell_type": "markdown",
      "metadata": {
        "id": "W04YTQQGGwfw"
      },
      "source": [
        "# 7. Plotly visualization"
      ]
    },
    {
      "cell_type": "code",
      "execution_count": null,
      "metadata": {
        "id": "eveBhG4M3loP"
      },
      "outputs": [],
      "source": [
        "!pip install jupyter-dash"
      ]
    },
    {
      "cell_type": "code",
      "execution_count": null,
      "metadata": {
        "colab": {
          "base_uri": "https://localhost:8080/",
          "height": 671
        },
        "id": "USnZge7YGn6j",
        "outputId": "6965a071-49ca-4ce0-bd9e-08746859a076"
      },
      "outputs": [],
      "source": [
        "#Uncomment the line below to install dash package if needed to run the app\n",
        "#!pip install jupyter-dash\n",
        "\n",
        "# Import required libraries\n",
        "import pandas as pd\n",
        "import dash\n",
        "import dash_html_components as html\n",
        "import dash_core_components as dcc\n",
        "from dash.dependencies import Input, Output\n",
        "import plotly.express as px\n",
        "\n",
        "# Read the airline data into pandas dataframe\n",
        "spacex_df = pd.read_csv(\"./spacex_launch_geo.csv\")\n",
        "max_payload = spacex_df['Payload Mass (kg)'].max()\n",
        "min_payload = spacex_df['Payload Mass (kg)'].min()\n",
        "\n",
        "# Create a dash application\n",
        "app = dash.Dash(__name__)\n",
        "\n",
        "# Create an app layout\n",
        "app.layout = html.Div(children=[html.H1('SpaceX Launch Records Dashboard',\n",
        "                                        style={'textAlign': 'center', 'color': '#503D36',\n",
        "                                               'font-size': 40}),\n",
        "                                # TASK 1: Add a dropdown list to enable Launch Site selection\n",
        "                                # The default select value is for ALL sites\n",
        "                                dcc.Dropdown(id='site-dropdown',\n",
        "                                    options=[\n",
        "                                        {'label': 'All Sites', 'value': 'ALL'},\n",
        "                                        {'label': 'CCAFS LC-40', 'value': 'CCAFS LC-40'},\n",
        "                                        {'label': 'CCAFS SLC-40', 'value': 'CCAFS SLC-40'},\n",
        "                                        {'label': 'KSC LC-39A', 'value': 'KSC LC-39A'},\n",
        "                                        {'label': 'VAFB SLC-4E', 'value': 'VAFB SLC-4E'}\n",
        "                                    ],\n",
        "                                    value= 'ALL',\n",
        "                                    placeholder='Select a Launch Site here',\n",
        "                                    searchable=True\n",
        "                                ),\n",
        "                                html.Br(),\n",
        "\n",
        "                                # TASK 2: Add a pie chart to show the total successful launches count for all sites\n",
        "                                # If a specific launch site was selected, show the Success vs. Failed counts for the site\n",
        "                                html.Div(dcc.Graph(id='success-pie-chart')),\n",
        "                                html.Br(),\n",
        "\n",
        "                                html.P(\"Payload range (Kg):\"),\n",
        "                                # TASK 3: Add a slider to select payload range\n",
        "                                dcc.RangeSlider(id='payload-slider',\n",
        "                                                min=0, max=10000, step=1000,\n",
        "                                                marks={0:'0',2500:'2500',5000:'5000',7500:'7500', 10000:'10000'},\n",
        "                                                value=[min_payload, max_payload]\n",
        "                                ),\n",
        "\n",
        "                                # TASK 4: Add a scatter chart to show the correlation between payload and launch success\n",
        "                                html.Div(dcc.Graph(id='success-payload-scatter-chart')),\n",
        "                                ])\n",
        "\n",
        "# TASK 2:\n",
        "# Add a callback function for `site-dropdown` as input, `success-pie-chart` as output\n",
        "# Function decorator to specify function input and output\n",
        "@app.callback(Output(component_id='success-pie-chart', component_property='figure'),\n",
        "    Input(component_id='site-dropdown', component_property='value'))\n",
        "def get_pie_chart(entered_site):\n",
        "    filtered_df = spacex_df\n",
        "    if entered_site == 'ALL':\n",
        "        fig = px.pie(filtered_df, values='class',\n",
        "        names='Launch Site',\n",
        "        title='Total Success Launches by Site')\n",
        "        return fig\n",
        "    else:\n",
        "        # return the outcomes piechart for a selected site\n",
        "        site = entered_site\n",
        "        filtered_df = filtered_df[filtered_df['Launch Site'] == site]\n",
        "        filtered_df = filtered_df.groupby(['Launch Site','class']).size().reset_index(name='class count')\n",
        "        fig = px.pie(filtered_df, values='class count', names = 'class',\n",
        "                    title='Total Success Launches for Site '+ site)\n",
        "        return fig\n",
        "\n",
        "# TASK 4:\n",
        "# Add a callback function for `site-dropdown` and `payload-slider` as inputs, `success-payload-scatter-chart` as output\n",
        "@app.callback(Output(component_id='success-payload-scatter-chart', component_property='figure'),\n",
        "    [Input(component_id='site-dropdown', component_property='value'),\n",
        "    Input(component_id=\"payload-slider\", component_property=\"value\")])\n",
        "def scatter(entered_site, payload):\n",
        "    filtered_df = spacex_df[spacex_df['Payload Mass (kg)'].between(payload[0],payload[1])]\n",
        "    if entered_site == 'ALL':\n",
        "        fig=px.scatter(filtered_df,x='Payload Mass (kg)',y='class',color='Booster Version Category',title='Success count on Payload mass for all sites')\n",
        "        return fig\n",
        "    else:\n",
        "        fig=px.scatter(filtered_df[filtered_df['Launch Site']==entered_site],x='Payload Mass (kg)',y='class',color='Booster Version Category',title='Success count on Payload mass for site ' + entered_site)\n",
        "        return fig\n",
        "\n",
        "\n",
        "# Run the app\n",
        "if __name__ == '__main__':\n",
        "    app.run_server()"
      ]
    },
    {
      "cell_type": "markdown",
      "metadata": {
        "id": "ReQuymPwHIxc"
      },
      "source": [
        "# 8. Landing Prediction\n"
      ]
    },
    {
      "cell_type": "markdown",
      "metadata": {
        "id": "zJAYZJh0HIxg"
      },
      "source": [
        "## Objectives\n"
      ]
    },
    {
      "cell_type": "markdown",
      "metadata": {
        "id": "ik-4u4CaHIxg"
      },
      "source": [
        "Perform exploratory  Data Analysis and determine Training Labels\n",
        "\n",
        "*   create a column for the class\n",
        "*   Standardize the data\n",
        "*   Split into training data and test data\n",
        "\n",
        "\\-Find best Hyperparameter for SVM, Classification Trees and Logistic Regression\n",
        "\n",
        "*   Find the method performs best using test data\n"
      ]
    },
    {
      "cell_type": "markdown",
      "metadata": {
        "id": "-0HAUPlIHIxh"
      },
      "source": []
    },
    {
      "cell_type": "markdown",
      "metadata": {
        "id": "XgsDNtmzHIxh"
      },
      "source": [
        "***\n"
      ]
    },
    {
      "cell_type": "markdown",
      "metadata": {
        "id": "1SCVbJjPHIxh"
      },
      "source": [
        "## Import Libraries and Define Auxiliary Functions\n"
      ]
    },
    {
      "cell_type": "markdown",
      "metadata": {
        "id": "HhYBAbT1HIxh"
      },
      "source": [
        "We will import the following libraries for the lab\n"
      ]
    },
    {
      "cell_type": "code",
      "execution_count": null,
      "metadata": {
        "id": "7ls19MGBHIxi"
      },
      "outputs": [],
      "source": [
        "# Pandas is a software library written for the Python programming language for data manipulation and analysis.\n",
        "import pandas as pd\n",
        "# NumPy is a library for the Python programming language, adding support for large, multi-dimensional arrays and matrices, along with a large collection of high-level mathematical functions to operate on these arrays\n",
        "import numpy as np\n",
        "# Matplotlib is a plotting library for python and pyplot gives us a MatLab like plotting framework. We will use this in our plotter function to plot data.\n",
        "import matplotlib.pyplot as plt\n",
        "#Seaborn is a Python data visualization library based on matplotlib. It provides a high-level interface for drawing attractive and informative statistical graphics\n",
        "import seaborn as sns\n",
        "# Preprocessing allows us to standarsize our data\n",
        "from sklearn import preprocessing\n",
        "# Allows us to split our data into training and testing data\n",
        "from sklearn.model_selection import train_test_split\n",
        "# Allows us to test parameters of classification algorithms and find the best one\n",
        "from sklearn.model_selection import GridSearchCV\n",
        "# Logistic Regression classification algorithm\n",
        "from sklearn.linear_model import LogisticRegression\n",
        "# Support Vector Machine classification algorithm\n",
        "from sklearn.svm import SVC\n",
        "# Decision Tree classification algorithm\n",
        "from sklearn.tree import DecisionTreeClassifier\n",
        "# K Nearest Neighbors classification algorithm\n",
        "from sklearn.neighbors import KNeighborsClassifier"
      ]
    },
    {
      "cell_type": "markdown",
      "metadata": {
        "id": "cJtpK45lHIxk"
      },
      "source": [
        "This function is to plot the confusion matrix.\n"
      ]
    },
    {
      "cell_type": "code",
      "execution_count": null,
      "metadata": {
        "id": "JSOJzNvdHIxk"
      },
      "outputs": [],
      "source": [
        "def plot_confusion_matrix(y,y_predict):\n",
        "    \"this function plots the confusion matrix\"\n",
        "    from sklearn.metrics import confusion_matrix\n",
        "\n",
        "    cm = confusion_matrix(y, y_predict)\n",
        "    ax= plt.subplot()\n",
        "    sns.heatmap(cm, annot=True, ax = ax); #annot=True to annotate cells\n",
        "    ax.set_xlabel('Predicted labels')\n",
        "    ax.set_ylabel('True labels')\n",
        "    ax.set_title('Confusion Matrix');\n",
        "    ax.xaxis.set_ticklabels(['did not land', 'land']); ax.yaxis.set_ticklabels(['did not land', 'landed'])"
      ]
    },
    {
      "cell_type": "markdown",
      "metadata": {
        "id": "wDIqeKfdHIxk"
      },
      "source": [
        "## Load the dataframe\n"
      ]
    },
    {
      "cell_type": "markdown",
      "metadata": {
        "id": "df8OTF8uHIxl"
      },
      "source": [
        "Load the data\n"
      ]
    },
    {
      "cell_type": "code",
      "execution_count": null,
      "metadata": {
        "colab": {
          "base_uri": "https://localhost:8080/",
          "height": 313
        },
        "id": "SgkYvrorHIxl",
        "outputId": "993713ab-3aa5-4693-992b-cee499b0fc8b"
      },
      "outputs": [],
      "source": [
        "data = pd.read_csv(\"https://cf-courses-data.s3.us.cloud-object-storage.appdomain.cloud/IBM-DS0321EN-SkillsNetwork/datasets/dataset_part_2.csv\")\n",
        "\n",
        "# If you were unable to complete the previous lab correctly you can uncomment and load this csv\n",
        "\n",
        "# data = pd.read_csv('https://cf-courses-data.s3.us.cloud-object-storage.appdomain.cloud/IBMDeveloperSkillsNetwork-DS0701EN-SkillsNetwork/api/dataset_part_2.csv')\n",
        "\n",
        "data.head()"
      ]
    },
    {
      "cell_type": "code",
      "execution_count": null,
      "metadata": {
        "colab": {
          "base_uri": "https://localhost:8080/",
          "height": 244
        },
        "id": "kBygt5AyHIxn",
        "outputId": "451ed2d1-78d9-44c1-c9af-94cd228c3921"
      },
      "outputs": [],
      "source": [
        "X = pd.read_csv('https://cf-courses-data.s3.us.cloud-object-storage.appdomain.cloud/IBM-DS0321EN-SkillsNetwork/datasets/dataset_part_3.csv')\n",
        "\n",
        "# If you were unable to complete the previous lab correctly you can uncomment and load this csv\n",
        "\n",
        "# X = pd.read_csv('https://cf-courses-data.s3.us.cloud-object-storage.appdomain.cloud/IBMDeveloperSkillsNetwork-DS0701EN-SkillsNetwork/api/dataset_part_3.csv')\n",
        "\n",
        "X.head()"
      ]
    },
    {
      "cell_type": "markdown",
      "metadata": {
        "id": "nllcWrQDHIxn"
      },
      "source": [
        "## TASK  1\n"
      ]
    },
    {
      "cell_type": "markdown",
      "metadata": {
        "id": "lEB4YVKnHIxo"
      },
      "source": [
        "Create a NumPy array from the column <code>Class</code> in <code>data</code>, by applying the method <code>to_numpy()</code>  then\n",
        "assign it  to the variable <code>Y</code>,make sure the output is a  Pandas series (only one bracket df\\['name of  column']).\n"
      ]
    },
    {
      "cell_type": "code",
      "execution_count": null,
      "metadata": {
        "id": "rTRgQQ_IHIxp"
      },
      "outputs": [],
      "source": [
        "Y = data['Class']"
      ]
    },
    {
      "cell_type": "markdown",
      "metadata": {
        "id": "oQq2gFiyHIxp"
      },
      "source": [
        "## TASK  2\n"
      ]
    },
    {
      "cell_type": "markdown",
      "metadata": {
        "id": "5xRxbViFHIxq"
      },
      "source": [
        "Standardize the data in <code>X</code> then reassign it to the variable  <code>X</code> using the transform provided below.\n"
      ]
    },
    {
      "cell_type": "code",
      "execution_count": null,
      "metadata": {
        "id": "tIbTBmo4HIxq"
      },
      "outputs": [],
      "source": [
        "# students get this\n",
        "transform = preprocessing.StandardScaler()"
      ]
    },
    {
      "cell_type": "code",
      "execution_count": null,
      "metadata": {
        "id": "iHsqvo8ZHIxq"
      },
      "outputs": [],
      "source": [
        "transform.fit(X)\n",
        "X_Scaled = transform.transform(X)"
      ]
    },
    {
      "cell_type": "markdown",
      "metadata": {
        "id": "Akap-pnKHIxr"
      },
      "source": [
        "We split the data into training and testing data using the  function  <code>train_test_split</code>.   The training data is divided into validation data, a second set used for training  data; then the models are trained and hyperparameters are selected using the function <code>GridSearchCV</code>.\n"
      ]
    },
    {
      "cell_type": "markdown",
      "metadata": {
        "id": "OqN1i4gKHIxr"
      },
      "source": [
        "## TASK  3\n"
      ]
    },
    {
      "cell_type": "markdown",
      "metadata": {
        "id": "qr-TekWyHIxr"
      },
      "source": [
        "Use the function train_test_split to split the data X and Y into training and test data. Set the parameter test_size to  0.2 and random_state to 2. The training data and test data should be assigned to the following labels.\n"
      ]
    },
    {
      "cell_type": "markdown",
      "metadata": {
        "id": "SDFWn_2zHIxr"
      },
      "source": [
        "<code>X_train, X_test, Y_train, Y_test</code>\n"
      ]
    },
    {
      "cell_type": "code",
      "execution_count": null,
      "metadata": {
        "id": "mDhF_cvkHIxr"
      },
      "outputs": [],
      "source": [
        "X_train, X_test, Y_train, Y_test = train_test_split(X_Scaled, Y, test_size = 0.2, random_state = 2)"
      ]
    },
    {
      "cell_type": "markdown",
      "metadata": {
        "id": "uHMAV3ThHIxs"
      },
      "source": [
        "we can see we only have 18 test samples.\n"
      ]
    },
    {
      "cell_type": "code",
      "execution_count": null,
      "metadata": {
        "colab": {
          "base_uri": "https://localhost:8080/"
        },
        "id": "aOYnKt1qHIxs",
        "outputId": "d919320b-1973-4991-c711-a907ccf08717"
      },
      "outputs": [],
      "source": [
        "Y_test.shape"
      ]
    },
    {
      "cell_type": "markdown",
      "metadata": {
        "id": "7e5_7qlWHIxt"
      },
      "source": [
        "## TASK  4\n"
      ]
    },
    {
      "cell_type": "markdown",
      "metadata": {
        "id": "QBmOSxXxHIxt"
      },
      "source": [
        "Create a logistic regression object  then create a  GridSearchCV object  <code>logreg_cv</code> with cv = 10.  Fit the object to find the best parameters from the dictionary <code>parameters</code>.\n"
      ]
    },
    {
      "cell_type": "code",
      "execution_count": null,
      "metadata": {
        "id": "DBTlzwbKHIxt"
      },
      "outputs": [],
      "source": [
        "parameters ={'C':[0.01,0.1,1],\n",
        "             'penalty':['l2'],\n",
        "             'solver':['lbfgs']}"
      ]
    },
    {
      "cell_type": "code",
      "execution_count": null,
      "metadata": {
        "colab": {
          "base_uri": "https://localhost:8080/",
          "height": 118
        },
        "id": "IGiv4fM8HIxu",
        "outputId": "6b73f0b9-6c28-430d-9dbf-343f8d5d436b"
      },
      "outputs": [],
      "source": [
        "parameters ={\"C\":[0.01,0.1,1],'penalty':['l2'], 'solver':['lbfgs']}# l1 lasso l2 ridge\n",
        "lr=LogisticRegression()\n",
        "logreg_cv = GridSearchCV(lr,parameters, cv = 10)\n",
        "logreg_cv.fit(X_train, Y_train)"
      ]
    },
    {
      "cell_type": "markdown",
      "metadata": {
        "id": "KDIUF1q4HIxu"
      },
      "source": [
        "We output the <code>GridSearchCV</code> object for logistic regression. We display the best parameters using the data attribute <code>best_params\\_</code> and the accuracy on the validation data using the data attribute <code>best_score\\_</code>.\n"
      ]
    },
    {
      "cell_type": "code",
      "execution_count": null,
      "metadata": {
        "colab": {
          "base_uri": "https://localhost:8080/"
        },
        "id": "MQWvdNx-HIxv",
        "outputId": "c4e9a01a-f3f7-4ac8-8681-e29a1abbb8d1"
      },
      "outputs": [],
      "source": [
        "print(\"tuned hpyerparameters :(best parameters) \",logreg_cv.best_params_)\n",
        "print(\"accuracy :\",logreg_cv.best_score_)"
      ]
    },
    {
      "cell_type": "markdown",
      "metadata": {
        "id": "gUoHVfQ5HIxv"
      },
      "source": [
        "## TASK  5\n"
      ]
    },
    {
      "cell_type": "markdown",
      "metadata": {
        "id": "bRm4cDQ2HIxv"
      },
      "source": [
        "Calculate the accuracy on the test data using the method <code>score</code>:\n"
      ]
    },
    {
      "cell_type": "code",
      "execution_count": null,
      "metadata": {
        "colab": {
          "base_uri": "https://localhost:8080/"
        },
        "id": "P3d5wEEZHIxw",
        "outputId": "22da24a9-7379-489d-b8d6-5239e85ee638"
      },
      "outputs": [],
      "source": [
        "lr_test_acc = logreg_cv.score(X_test, Y_test)\n",
        "lr_test_acc"
      ]
    },
    {
      "cell_type": "markdown",
      "metadata": {
        "id": "ntbq03qMHIxw"
      },
      "source": [
        "Lets look at the confusion matrix:\n"
      ]
    },
    {
      "cell_type": "code",
      "execution_count": null,
      "metadata": {
        "colab": {
          "base_uri": "https://localhost:8080/",
          "height": 747
        },
        "id": "EBpZv496HIxw",
        "outputId": "85a80aae-46ae-414c-c2fc-5ca72edce4a7"
      },
      "outputs": [],
      "source": [
        "yhat_lr=logreg_cv.predict(X_test)\n",
        "plot_confusion_matrix(Y_test,yhat_lr)"
      ]
    },
    {
      "cell_type": "markdown",
      "metadata": {
        "id": "BWRx0v9dHIxx"
      },
      "source": [
        "Examining the confusion matrix, we see that logistic regression can distinguish between the different classes.  We see that the major problem is false positives.\n"
      ]
    },
    {
      "cell_type": "markdown",
      "metadata": {
        "id": "yABxdUDoHIxx"
      },
      "source": [
        "## TASK  6\n"
      ]
    },
    {
      "cell_type": "markdown",
      "metadata": {
        "id": "XM5ZTbh-HIxx"
      },
      "source": [
        "Create a support vector machine object then  create a  <code>GridSearchCV</code> object  <code>svm_cv</code> with cv - 10.  Fit the object to find the best parameters from the dictionary <code>parameters</code>.\n"
      ]
    },
    {
      "cell_type": "code",
      "execution_count": null,
      "metadata": {
        "id": "sqySfaFXHIxy"
      },
      "outputs": [],
      "source": [
        "parameters = {'kernel':('linear', 'rbf','poly','rbf', 'sigmoid'),\n",
        "              'C': np.logspace(-3, 3, 5),\n",
        "              'gamma':np.logspace(-3, 3, 5)}\n",
        "svm = SVC()"
      ]
    },
    {
      "cell_type": "code",
      "execution_count": null,
      "metadata": {
        "colab": {
          "base_uri": "https://localhost:8080/",
          "height": 118
        },
        "id": "-fOl5kP_HIxy",
        "outputId": "fc3b4196-ed28-4805-a37e-052c68670177"
      },
      "outputs": [],
      "source": [
        "svm_cv = GridSearchCV(svm,parameters, cv = 10)\n",
        "svm_cv.fit(X_train, Y_train)"
      ]
    },
    {
      "cell_type": "code",
      "execution_count": null,
      "metadata": {
        "colab": {
          "base_uri": "https://localhost:8080/"
        },
        "id": "fRu5o-kKHIxy",
        "outputId": "926dc110-703e-478b-fb98-fe1427e5837e"
      },
      "outputs": [],
      "source": [
        "print(\"tuned hpyerparameters :(best parameters) \",svm_cv.best_params_)\n",
        "print(\"accuracy :\",svm_cv.best_score_)"
      ]
    },
    {
      "cell_type": "markdown",
      "metadata": {
        "id": "8cwGITqvHIxz"
      },
      "source": [
        "## TASK  7\n"
      ]
    },
    {
      "cell_type": "markdown",
      "metadata": {
        "id": "jLS7GZa5HIxz"
      },
      "source": [
        "Calculate the accuracy on the test data using the method <code>score</code>:\n"
      ]
    },
    {
      "cell_type": "code",
      "execution_count": null,
      "metadata": {
        "colab": {
          "base_uri": "https://localhost:8080/"
        },
        "id": "WQSUyfSmHIx0",
        "outputId": "e4b96e4f-47c7-4762-8dd5-d036a042234a"
      },
      "outputs": [],
      "source": [
        "svm_test_acc = svm_cv.score(X_test, Y_test)\n",
        "svm_test_acc"
      ]
    },
    {
      "cell_type": "markdown",
      "metadata": {
        "id": "vyaLDwy3HIx0"
      },
      "source": [
        "We can plot the confusion matrix\n"
      ]
    },
    {
      "cell_type": "code",
      "execution_count": null,
      "metadata": {
        "colab": {
          "base_uri": "https://localhost:8080/",
          "height": 747
        },
        "id": "MSVRA1neHIx1",
        "outputId": "67b6469f-fda5-498f-a587-52407b4002ac"
      },
      "outputs": [],
      "source": [
        "yhat_svm=svm_cv.predict(X_test)\n",
        "plot_confusion_matrix(Y_test,yhat_svm)"
      ]
    },
    {
      "cell_type": "markdown",
      "metadata": {
        "id": "2mBfUBmuHIx1"
      },
      "source": [
        "## TASK  8\n"
      ]
    },
    {
      "cell_type": "markdown",
      "metadata": {
        "id": "71WjSsUQHIx1"
      },
      "source": [
        "Create a decision tree classifier object then  create a  <code>GridSearchCV</code> object  <code>tree_cv</code> with cv = 10.  Fit the object to find the best parameters from the dictionary <code>parameters</code>.\n"
      ]
    },
    {
      "cell_type": "code",
      "execution_count": null,
      "metadata": {
        "id": "UeseMlZgHIx2"
      },
      "outputs": [],
      "source": [
        "parameters = {'criterion': ['gini', 'entropy'],\n",
        "     'splitter': ['best', 'random'],\n",
        "     'max_depth': [2*n for n in range(1,10)],\n",
        "     'max_features': ['auto', 'sqrt'],\n",
        "     'min_samples_leaf': [1, 2, 4],\n",
        "     'min_samples_split': [2, 5, 10]}\n",
        "\n",
        "tree = DecisionTreeClassifier()"
      ]
    },
    {
      "cell_type": "code",
      "execution_count": null,
      "metadata": {
        "colab": {
          "base_uri": "https://localhost:8080/",
          "height": 1000
        },
        "id": "jSOkHDvNHIx2",
        "outputId": "047e0a1b-da39-4247-8cde-e44cfc495ec8"
      },
      "outputs": [],
      "source": [
        "tree_cv = GridSearchCV(tree, parameters, cv=10)\n",
        "tree_cv.fit(X_train, Y_train)"
      ]
    },
    {
      "cell_type": "code",
      "execution_count": null,
      "metadata": {
        "colab": {
          "base_uri": "https://localhost:8080/"
        },
        "id": "m0c6ZIayHIx2",
        "outputId": "2af8ea57-606b-4140-c1d6-69fc49d3809f"
      },
      "outputs": [],
      "source": [
        "print(\"tuned hpyerparameters :(best parameters) \",tree_cv.best_params_)\n",
        "print(\"accuracy :\",tree_cv.best_score_)"
      ]
    },
    {
      "cell_type": "markdown",
      "metadata": {
        "id": "E4TLr20JHIx3"
      },
      "source": [
        "## TASK  9\n"
      ]
    },
    {
      "cell_type": "markdown",
      "metadata": {
        "id": "HaMGA5iVHIx3"
      },
      "source": [
        "Calculate the accuracy of tree_cv on the test data using the method <code>score</code>:\n"
      ]
    },
    {
      "cell_type": "code",
      "execution_count": null,
      "metadata": {
        "colab": {
          "base_uri": "https://localhost:8080/"
        },
        "id": "-HIUa-R-HIx3",
        "outputId": "6666f1cd-a753-458e-b265-c58251a62fa4"
      },
      "outputs": [],
      "source": [
        "tree_test_acc = tree_cv.score(X_test, Y_test)\n",
        "tree_test_acc"
      ]
    },
    {
      "cell_type": "markdown",
      "metadata": {
        "id": "jIvoL3cbHIx3"
      },
      "source": [
        "We can plot the confusion matrix\n"
      ]
    },
    {
      "cell_type": "code",
      "execution_count": null,
      "metadata": {
        "colab": {
          "base_uri": "https://localhost:8080/",
          "height": 747
        },
        "id": "XmRjjHgkHIx4",
        "outputId": "709275fa-704a-4f12-fe56-52de6866a2f9"
      },
      "outputs": [],
      "source": [
        "yhat_tree = tree_cv.predict(X_test)\n",
        "plot_confusion_matrix(Y_test,yhat_tree)"
      ]
    },
    {
      "cell_type": "markdown",
      "metadata": {
        "id": "HzrPKzBZHIx4"
      },
      "source": [
        "## TASK  10\n"
      ]
    },
    {
      "cell_type": "markdown",
      "metadata": {
        "id": "lJBy5yyIHIx4"
      },
      "source": [
        "Create a k nearest neighbors object then  create a  <code>GridSearchCV</code> object  <code>knn_cv</code> with cv = 10.  Fit the object to find the best parameters from the dictionary <code>parameters</code>.\n"
      ]
    },
    {
      "cell_type": "code",
      "execution_count": null,
      "metadata": {
        "id": "jzGyGf-JHIx5"
      },
      "outputs": [],
      "source": [
        "parameters = {'n_neighbors': [1, 2, 3, 4, 5, 6, 7, 8, 9, 10],\n",
        "              'algorithm': ['auto', 'ball_tree', 'kd_tree', 'brute'],\n",
        "              'p': [1,2]}\n",
        "\n",
        "KNN = KNeighborsClassifier()"
      ]
    },
    {
      "cell_type": "code",
      "execution_count": null,
      "metadata": {
        "colab": {
          "base_uri": "https://localhost:8080/",
          "height": 118
        },
        "id": "m6BOip65HIx5",
        "outputId": "255b0cce-aace-4b17-ff3d-e9e2c0e2419a"
      },
      "outputs": [],
      "source": [
        "knn_cv = GridSearchCV(KNN, parameters, cv = 10)\n",
        "knn_cv.fit(X_train, Y_train)"
      ]
    },
    {
      "cell_type": "code",
      "execution_count": null,
      "metadata": {
        "colab": {
          "base_uri": "https://localhost:8080/"
        },
        "id": "TrBko0MfHIx6",
        "outputId": "6a0bbcc0-72c9-49fc-8220-71e074c89020"
      },
      "outputs": [],
      "source": [
        "print(\"tuned hpyerparameters :(best parameters) \",knn_cv.best_params_)\n",
        "print(\"accuracy :\",knn_cv.best_score_)"
      ]
    },
    {
      "cell_type": "markdown",
      "metadata": {
        "id": "lHOcxjeRHIx6"
      },
      "source": [
        "## TASK  11\n"
      ]
    },
    {
      "cell_type": "markdown",
      "metadata": {
        "id": "SwGbhGcoHIx6"
      },
      "source": [
        "Calculate the accuracy of tree_cv on the test data using the method <code>score</code>:\n"
      ]
    },
    {
      "cell_type": "code",
      "execution_count": null,
      "metadata": {
        "colab": {
          "base_uri": "https://localhost:8080/"
        },
        "id": "lT524OnuHIx7",
        "outputId": "da30aa3e-6a1b-4eba-b272-7e54eb436698"
      },
      "outputs": [],
      "source": [
        "knn_test_acc = knn_cv.score(X_test, Y_test)\n",
        "knn_test_acc"
      ]
    },
    {
      "cell_type": "markdown",
      "metadata": {
        "id": "8YVk8FwpHIx7"
      },
      "source": [
        "We can plot the confusion matrix\n"
      ]
    },
    {
      "cell_type": "code",
      "execution_count": null,
      "metadata": {
        "colab": {
          "base_uri": "https://localhost:8080/",
          "height": 747
        },
        "id": "4XKag-4AHIx7",
        "outputId": "30b2b0a7-5a3e-49fa-fb60-94fb2ee45e15"
      },
      "outputs": [],
      "source": [
        "yhat_knn = knn_cv.predict(X_test)\n",
        "plot_confusion_matrix(Y_test,yhat_knn)"
      ]
    },
    {
      "cell_type": "markdown",
      "metadata": {
        "id": "EbpdvQndHIx8"
      },
      "source": [
        "## TASK  12\n"
      ]
    },
    {
      "cell_type": "markdown",
      "metadata": {
        "id": "ZvJdv-zjHIx8"
      },
      "source": [
        "Find the method performs best:\n"
      ]
    },
    {
      "cell_type": "markdown",
      "metadata": {
        "id": "SWlMgapFHIx8"
      },
      "source": [
        "## Looking at the Confusion Matrices and test accuracy for each model we find that the Tree Model performs best on new data\n",
        "## Looking at the confusion matrices on the test data we find that all models except Tree perform equally well on the new data so we can only compare them on the training data\n"
      ]
    },
    {
      "cell_type": "code",
      "execution_count": null,
      "metadata": {
        "colab": {
          "base_uri": "https://localhost:8080/",
          "height": 511
        },
        "id": "1SlMRIGfHIx8",
        "outputId": "dafaf168-b3f0-4839-90d9-265d867dce6e"
      },
      "outputs": [],
      "source": [
        "acc = {'Names':['KNN', 'Tree', 'LogReg', 'SVM'],'TrainingAccuracy':[knn_cv.best_score_,tree_cv.best_score_, logreg_cv.best_score_, svm_cv.best_score_], 'TestAccuracy': [knn_test_acc,tree_test_acc,lr_test_acc,svm_test_acc]}\n",
        "training_acc = pd.DataFrame.from_dict(acc)\n",
        "sns.catplot(x=\"Names\",y=\"TrainingAccuracy\", kind=\"bar\",data=training_acc)\n",
        "plt.xlabel(\"Model\",fontsize=20)\n",
        "plt.ylabel(\"Accuracy on Training set\",fontsize=20)\n",
        "plt.show()\n"
      ]
    },
    {
      "cell_type": "code",
      "execution_count": null,
      "metadata": {
        "colab": {
          "base_uri": "https://localhost:8080/",
          "height": 511
        },
        "id": "7dOR4ENkHIx9",
        "outputId": "757e9b0c-67c6-47b5-fe8d-54aedd4d2f05"
      },
      "outputs": [],
      "source": [
        "training_acc = pd.DataFrame.from_dict(acc)\n",
        "sns.catplot(x=\"Names\",y=\"TestAccuracy\", kind=\"bar\",data=training_acc)\n",
        "plt.xlabel(\"Model\",fontsize=20)\n",
        "plt.ylabel(\"Accuracy on Testing set\",fontsize=20)\n",
        "plt.show()"
      ]
    },
    {
      "cell_type": "code",
      "execution_count": null,
      "metadata": {
        "colab": {
          "base_uri": "https://localhost:8080/"
        },
        "id": "gOtfKbFkHIx9",
        "outputId": "ed8e5f1d-9856-41b3-e664-3da0f6aec50e"
      },
      "outputs": [],
      "source": [
        "mods = {'KNN':knn_cv.best_score_,'Tree':tree_cv.best_score_,'LogReg':logreg_cv.best_score_, 'SVM':svm_cv.best_score_}\n",
        "best = max(mods, key=mods.get)\n",
        "print('Best Model is',best,'with a score of', mods[best])\n",
        "if best == 'Tree':\n",
        "    print('Best Params is :',tree_cv.best_params_)\n",
        "if best == 'KNN':\n",
        "    print('Best Params is :',knn_cv.best_params_)\n",
        "if best == 'LogReg':\n",
        "    print('Best Params is :',logreg_cv.best_params_)\n",
        "if best == 'SVM':\n",
        "    print('Best Params is :',svm_cv.best_params_)"
      ]
    },
    {
      "cell_type": "markdown",
      "metadata": {
        "id": "iBhdjtdAHIx-"
      },
      "source": [
        "## Tree model is best on both new and old data!"
      ]
    }
  ],
  "metadata": {
    "colab": {
      "collapsed_sections": [
        "CNOvJfJjBwgN",
        "j1n0SjNJCfgJ",
        "se20XQyrDEH0",
        "pHLd5HVqDqrV",
        "6b_154DLFWTo",
        "R_q7j8uEFuQF",
        "W04YTQQGGwfw",
        "ReQuymPwHIxc"
      ],
      "provenance": []
    },
    "kernelspec": {
      "display_name": "Python 3.8",
      "language": "python",
      "name": "python3"
    },
    "language_info": {
      "codemirror_mode": {
        "name": "ipython",
        "version": 3
      },
      "file_extension": ".py",
      "mimetype": "text/x-python",
      "name": "python",
      "nbconvert_exporter": "python",
      "pygments_lexer": "ipython3",
      "version": "3.8.12"
    }
  },
  "nbformat": 4,
  "nbformat_minor": 0
}
