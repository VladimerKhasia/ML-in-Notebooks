{
  "cells": [
    {
      "cell_type": "markdown",
      "metadata": {
        "id": "Lzk7iX_CodX6",
        "tags": []
      },
      "source": [
        "# Here we use collaborative filtering for recommender systems\n",
        "\n",
        "### Download data here: \n",
        "\n",
        "https://1drv.ms/u/s!AqisPMhP9M9zgQAKy1wP4AE5PfKO?e=ku4MgN \n",
        "\n",
        "[\"ml-latest-small\"](https://grouplens.org/datasets/movielens/latest/) dataset.   \n",
        "[The MovieLens Datasets: History and Context by F. Maxwell Harper and Joseph A. Konstan. 2015. ACM Transactions on Interactive Intelligent Systems <https://doi.org/10.1145/2827872>]\n"
      ]
    },
    {
      "cell_type": "code",
      "execution_count": null,
      "metadata": {
        "id": "OyZ0r_ZxeP9S"
      },
      "outputs": [],
      "source": [
        "import tensorflow as tf\n",
        "from tensorflow import keras\n",
        "\n",
        "import numpy as np\n",
        "import pandas as pd\n",
        "from numpy import loadtxt"
      ]
    },
    {
      "cell_type": "code",
      "execution_count": null,
      "metadata": {
        "id": "ax3UcTJtelNf"
      },
      "outputs": [],
      "source": [
        "# some helper functions for the loading and handling data\n",
        "\n",
        "def normalizeRatings(Y, R):\n",
        "    \"\"\"\n",
        "    Preprocess data by subtracting mean rating for every movie (every row).\n",
        "    Only include real ratings R(i,j)=1.\n",
        "    [Ynorm, Ymean] = normalizeRatings(Y, R) normalized Y so that each movie\n",
        "    has a rating of 0 on average. Unrated moves then have a mean rating (0)\n",
        "    Returns the mean rating in Ymean.\n",
        "    \"\"\"\n",
        "    Ymean = (np.sum(Y*R,axis=1)/(np.sum(R, axis=1)+1e-12)).reshape(-1,1)\n",
        "    Ynorm = Y - np.multiply(Ymean, R) \n",
        "    return(Ynorm, Ymean)\n",
        "\n",
        "def load_precalc_params_small():\n",
        "\n",
        "    file = open('./small_movies_X.csv', 'rb')\n",
        "    X = loadtxt(file, delimiter = \",\")\n",
        "\n",
        "    file = open('./small_movies_W.csv', 'rb')\n",
        "    W = loadtxt(file,delimiter = \",\")\n",
        "\n",
        "    file = open('./small_movies_b.csv', 'rb')\n",
        "    b = loadtxt(file,delimiter = \",\")\n",
        "    b = b.reshape(1,-1)\n",
        "    num_movies, num_features = X.shape\n",
        "    num_users,_ = W.shape\n",
        "    return(X, W, b, num_movies, num_features, num_users)\n",
        "    \n",
        "def load_ratings_small():\n",
        "    file = open('./small_movies_Y.csv', 'rb')\n",
        "    Y = loadtxt(file,delimiter = \",\")\n",
        "\n",
        "    file = open('./small_movies_R.csv', 'rb')\n",
        "    R = loadtxt(file,delimiter = \",\")\n",
        "    return(Y,R)\n",
        "\n",
        "def load_Movie_List_pd():\n",
        "    \"\"\" returns df with and index of movies in the order they are in in the Y matrix \"\"\"\n",
        "    df = pd.read_csv('./small_movie_list.csv', header=0, index_col=0,  delimiter=',', quotechar='\"')\n",
        "    mlist = df[\"title\"].to_list()\n",
        "    return(mlist, df)"
      ]
    },
    {
      "cell_type": "code",
      "execution_count": null,
      "metadata": {
        "id": "HxMSp2HXeP9d"
      },
      "outputs": [],
      "source": [
        "#Load data\n",
        "X, W, b, num_movies, num_features, num_users = load_precalc_params_small()\n",
        "Y, R = load_ratings_small()\n",
        "\n",
        "print(\"Y\", Y.shape, \"R\", R.shape)\n",
        "print(\"X\", X.shape)\n",
        "print(\"W\", W.shape)\n",
        "print(\"b\", b.shape)\n",
        "print(\"num_features\", num_features)\n",
        "print(\"num_movies\",   num_movies)\n",
        "print(\"num_users\",    num_users)"
      ]
    },
    {
      "cell_type": "code",
      "execution_count": null,
      "metadata": {
        "id": "bxm1O_wbodYF"
      },
      "outputs": [],
      "source": [
        "#  From the matrix, we can compute statistics like average rating.\n",
        "tsmean =  np.mean(Y[0, R[0, :].astype(bool)])\n",
        "print(f\"Average rating for movie 1 : {tsmean:0.3f} / 5\" )"
      ]
    },
    {
      "cell_type": "code",
      "execution_count": null,
      "metadata": {
        "id": "ADaLmFPBeP9k"
      },
      "outputs": [],
      "source": [
        "# Reduce the data set size so that this runs faster\n",
        "num_users_r = 4\n",
        "num_movies_r = 5 \n",
        "num_features_r = 3\n",
        "\n",
        "X_r = X[:num_movies_r, :num_features_r]\n",
        "W_r = W[:num_users_r,  :num_features_r]\n",
        "b_r = b[0, :num_users_r].reshape(1,-1)\n",
        "Y_r = Y[:num_movies_r, :num_users_r]\n",
        "R_r = R[:num_movies_r, :num_users_r]\n"
      ]
    },
    {
      "cell_type": "code",
      "execution_count": null,
      "metadata": {
        "id": "oDaEGSIweP9i"
      },
      "outputs": [],
      "source": [
        "# cost function\n",
        "def cofi_cost_func(X, W, b, Y, R, lambda_):\n",
        "    \"\"\"\n",
        "    Returns the cost for the content-based filtering\n",
        "    Args:\n",
        "      X (ndarray (num_movies,num_features)): matrix of item features\n",
        "      W (ndarray (num_users,num_features)) : matrix of user parameters\n",
        "      b (ndarray (1, num_users)            : vector of user parameters\n",
        "      Y (ndarray (num_movies,num_users)    : matrix of user ratings of movies\n",
        "      R (ndarray (num_movies,num_users)    : matrix, where R(i, j) = 1 if the i-th movies was rated by the j-th user\n",
        "      lambda_ (float): regularization parameter\n",
        "    Returns:\n",
        "      J (float) : Cost\n",
        "    \"\"\"\n",
        "    nm, nu = Y.shape\n",
        "    J = 0\n",
        "    for j in range(nu):\n",
        "        w = W[j,:]\n",
        "        b_j = b[0,j]\n",
        "        for i in range(nm):\n",
        "            x = X[i,:]\n",
        "            y = Y[i,j]\n",
        "            r = R[i,j]\n",
        "            J += np.square(r * (np.dot(w,x) + b_j - y ) )\n",
        "    J = J/2\n",
        "    J += (lambda_/2) * (np.sum(np.square(W)) + np.sum(np.square(X))) #regularization\n",
        "\n",
        "    return J\n",
        "\n",
        "# Evaluate cost function\n",
        "J = cofi_cost_func(X_r, W_r, b_r, Y_r, R_r, 0);\n",
        "print(f\"Cost: {J:0.2f}\")\n",
        "\n",
        "# Evaluate cost function with regularization \n",
        "J = cofi_cost_func(X_r, W_r, b_r, Y_r, R_r, 1.5);\n",
        "print(f\"Cost (with regularization): {J:0.2f}\")"
      ]
    },
    {
      "cell_type": "code",
      "execution_count": null,
      "metadata": {
        "id": "Z6lmUSezeP9o"
      },
      "outputs": [],
      "source": [
        "def cofi_cost_func_v(X, W, b, Y, R, lambda_):\n",
        "    \"\"\"\n",
        "    Returns the cost for the content-based filtering\n",
        "    Vectorized for speed. Uses tensorflow operations to be compatible with custom training loop.\n",
        "    Args:\n",
        "      X (ndarray (num_movies,num_features)): matrix of item features\n",
        "      W (ndarray (num_users,num_features)) : matrix of user parameters\n",
        "      b (ndarray (1, num_users)            : vector of user parameters\n",
        "      Y (ndarray (num_movies,num_users)    : matrix of user ratings of movies\n",
        "      R (ndarray (num_movies,num_users)    : matrix, where R(i, j) = 1 if the i-th movies was rated by the j-th user\n",
        "      lambda_ (float): regularization parameter\n",
        "    Returns:\n",
        "      J (float) : Cost\n",
        "    \"\"\"\n",
        "    j = (tf.linalg.matmul(X, tf.transpose(W)) + b - Y)*R\n",
        "    J = 0.5 * tf.reduce_sum(j**2) + (lambda_/2) * (tf.reduce_sum(X**2) + tf.reduce_sum(W**2))\n",
        "    return J\n",
        "\n",
        "\n",
        "# Evaluate cost function\n",
        "J = cofi_cost_func_v(X_r, W_r, b_r, Y_r, R_r, 0);\n",
        "print(f\"Cost: {J:0.2f}\")\n",
        "\n",
        "# Evaluate cost function with regularization \n",
        "J = cofi_cost_func_v(X_r, W_r, b_r, Y_r, R_r, 1.5);\n",
        "print(f\"Cost (with regularization): {J:0.2f}\")"
      ]
    },
    {
      "cell_type": "code",
      "execution_count": null,
      "metadata": {
        "id": "WJO8Jr0UodYR"
      },
      "outputs": [],
      "source": [
        "movieList, movieList_df = load_Movie_List_pd()\n",
        "\n",
        "my_ratings = np.zeros(num_movies)          #  Initialize my ratings\n",
        "\n",
        "# Check the file small_movie_list.csv for id of each movie in our dataset\n",
        "# For example, Toy Story 3 (2010) has ID 2700, so to rate it \"5\", you can set\n",
        "my_ratings[2700] = 5 \n",
        "\n",
        "#Or suppose you did not enjoy Persuasion (2007), you can set\n",
        "my_ratings[2609] = 2;\n",
        "\n",
        "# We have selected a few movies we liked / did not like and the ratings we\n",
        "# gave are as follows:\n",
        "my_ratings[929]  = 5   # Lord of the Rings: The Return of the King, The\n",
        "my_ratings[246]  = 5   # Shrek (2001)\n",
        "my_ratings[2716] = 3   # Inception\n",
        "my_ratings[1150] = 5   # Incredibles, The (2004)\n",
        "my_ratings[382]  = 2   # Amelie (Fabuleux destin d'Amélie Poulain, Le)\n",
        "my_ratings[366]  = 5   # Harry Potter and the Sorcerer's Stone (a.k.a. Harry Potter and the Philosopher's Stone) (2001)\n",
        "my_ratings[622]  = 5   # Harry Potter and the Chamber of Secrets (2002)\n",
        "my_ratings[988]  = 3   # Eternal Sunshine of the Spotless Mind (2004)\n",
        "my_ratings[2925] = 1   # Louis Theroux: Law & Disorder (2008)\n",
        "my_ratings[2937] = 1   # Nothing to Declare (Rien à déclarer)\n",
        "my_ratings[793]  = 5   # Pirates of the Caribbean: The Curse of the Black Pearl (2003)\n",
        "my_rated = [i for i in range(len(my_ratings)) if my_ratings[i] > 0]\n",
        "\n",
        "print('\\nNew user ratings:\\n')\n",
        "for i in range(len(my_ratings)):\n",
        "    if my_ratings[i] > 0 :\n",
        "        print(f'Rated {my_ratings[i]} for  {movieList_df.loc[i,\"title\"]}');"
      ]
    },
    {
      "cell_type": "code",
      "execution_count": null,
      "metadata": {
        "id": "9MgksyGteP9s"
      },
      "outputs": [],
      "source": [
        "# Reload ratings\n",
        "Y, R = load_ratings_small()\n",
        "\n",
        "# Add new user ratings to Y\n",
        "Y = np.c_[my_ratings, Y]\n",
        "\n",
        "# Add new user indicator matrix to R\n",
        "R = np.c_[(my_ratings != 0).astype(int), R]\n",
        "\n",
        "# Normalize the Dataset\n",
        "Ynorm, Ymean = normalizeRatings(Y, R)"
      ]
    },
    {
      "cell_type": "code",
      "execution_count": null,
      "metadata": {
        "id": "2iuuqhe8eP9s",
        "tags": []
      },
      "outputs": [],
      "source": [
        "#  Useful Values\n",
        "num_movies, num_users = Y.shape\n",
        "num_features = 100\n",
        "\n",
        "# Set Initial Parameters (W, X), use tf.Variable to track these variables\n",
        "tf.random.set_seed(1234) # for consistent results\n",
        "W = tf.Variable(tf.random.normal((num_users,  num_features),dtype=tf.float64),  name='W')\n",
        "X = tf.Variable(tf.random.normal((num_movies, num_features),dtype=tf.float64),  name='X')\n",
        "b = tf.Variable(tf.random.normal((1,          num_users),   dtype=tf.float64),  name='b')\n",
        "\n",
        "# Instantiate an optimizer.\n",
        "optimizer = keras.optimizers.Adam(learning_rate=1e-1)"
      ]
    },
    {
      "cell_type": "code",
      "execution_count": null,
      "metadata": {
        "id": "CWj2tIzMeP9t"
      },
      "outputs": [],
      "source": [
        "iterations = 200\n",
        "lambda_ = 1\n",
        "for iter in range(iterations):\n",
        "    # Use TensorFlow’s GradientTape\n",
        "    # to record the operations used to compute the cost \n",
        "    with tf.GradientTape() as tape:\n",
        "\n",
        "        # Compute the cost (forward pass included in cost)\n",
        "        cost_value = cofi_cost_func_v(X, W, b, Ynorm, R, lambda_)\n",
        "\n",
        "    # Use the gradient tape to automatically retrieve\n",
        "    # the gradients of the trainable variables with respect to the loss\n",
        "    grads = tape.gradient( cost_value, [X,W,b] )\n",
        "\n",
        "    # Run one step of gradient descent by updating\n",
        "    # the value of the variables to minimize the loss.\n",
        "    optimizer.apply_gradients( zip(grads, [X,W,b]) )\n",
        "\n",
        "    # Log periodically.\n",
        "    if iter % 20 == 0:\n",
        "        print(f\"Training loss at iteration {iter}: {cost_value:0.1f}\")"
      ]
    },
    {
      "cell_type": "code",
      "execution_count": null,
      "metadata": {
        "id": "ns266wKtodYT"
      },
      "outputs": [],
      "source": [
        "# Make a prediction using trained weights and biases\n",
        "p = np.matmul(X.numpy(), np.transpose(W.numpy())) + b.numpy()\n",
        "\n",
        "#restore the mean\n",
        "pm = p + Ymean\n",
        "\n",
        "my_predictions = pm[:,0]\n",
        "\n",
        "# sort predictions\n",
        "ix = tf.argsort(my_predictions, direction='DESCENDING')\n",
        "\n",
        "for i in range(17):\n",
        "    j = ix[i]\n",
        "    if j not in my_rated:\n",
        "        print(f'Predicting rating {my_predictions[j]:0.2f} for movie {movieList[j]}')\n",
        "\n",
        "print('\\n\\nOriginal vs Predicted ratings:\\n')\n",
        "for i in range(len(my_ratings)):\n",
        "    if my_ratings[i] > 0:\n",
        "        print(f'Original {my_ratings[i]}, Predicted {my_predictions[i]:0.2f} for {movieList[i]}')"
      ]
    },
    {
      "cell_type": "code",
      "execution_count": null,
      "metadata": {
        "id": "i76tLWWkeP_X"
      },
      "outputs": [],
      "source": [
        "filter=(movieList_df[\"number of ratings\"] > 20)\n",
        "movieList_df[\"pred\"] = my_predictions\n",
        "movieList_df = movieList_df.reindex(columns=[\"pred\", \"mean rating\", \"number of ratings\", \"title\"])\n",
        "movieList_df.loc[ix[:300]].loc[filter].sort_values(\"mean rating\", ascending=False)"
      ]
    }
  ],
  "metadata": {
    "colab": {
      "collapsed_sections": [
        "Lzk7iX_CodX6"
      ],
      "provenance": []
    },
    "kernelspec": {
      "display_name": "Python 3",
      "name": "python3"
    },
    "language_info": {
      "name": "python"
    }
  },
  "nbformat": 4,
  "nbformat_minor": 0
}
