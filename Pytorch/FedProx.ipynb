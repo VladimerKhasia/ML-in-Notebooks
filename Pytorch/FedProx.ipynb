{
  "cells": [
    {
      "attachments": {},
      "cell_type": "markdown",
      "metadata": {},
      "source": [
        "Please note, this notebook is far from completed for now"
      ]
    },
    {
      "cell_type": "code",
      "execution_count": null,
      "metadata": {
        "id": "HUaMTLsWvhgp"
      },
      "outputs": [],
      "source": [
        "import copy\n",
        "import os\n",
        "import time\n",
        "import warnings\n",
        "import numpy as np\n",
        "\n",
        "import torch\n",
        "from torch.optim.optimizer import Optimizer\n",
        "import torchvision"
      ]
    },
    {
      "cell_type": "code",
      "execution_count": null,
      "metadata": {
        "id": "90Kjfb_vzfyT"
      },
      "outputs": [],
      "source": [
        "class FedProxLocalSolver(Optimizer):\n",
        "    \n",
        "    def __init__(self, optimizer, mu=0):\n",
        "        self.optimizer = optimizer\n",
        "        self.mu = mu\n",
        "        self.param_groups = self.optimizer.param_groups\n",
        "        self.state = self.optimizer.state\n",
        "    \n",
        "    def _update(self, group):\n",
        "\n",
        "        \n",
        "    def step(self, closure=None):\n",
        "\n",
        "        return loss"
      ]
    }
  ],
  "metadata": {
    "accelerator": "GPU",
    "colab": {
      "provenance": []
    },
    "gpuClass": "standard",
    "kernelspec": {
      "display_name": "Python 3",
      "name": "python3"
    },
    "language_info": {
      "name": "python"
    }
  },
  "nbformat": 4,
  "nbformat_minor": 0
}
