{
  "cells": [
    {
      "cell_type": "code",
      "execution_count": null,
      "metadata": {
        "id": "HUaMTLsWvhgp"
      },
      "outputs": [],
      "source": [
        "import copy\n",
        "import os\n",
        "import time\n",
        "import warnings\n",
        "import numpy as np\n",
        "\n",
        "import torch\n",
        "from torch.optim.optimizer import Optimizer\n",
        "import torchvision"
      ]
    },
    {
      "cell_type": "code",
      "execution_count": null,
      "metadata": {
        "id": "90Kjfb_vzfyT"
      },
      "outputs": [],
      "source": [
        "class FedProxLocalSolver(Optimizer):\n",
        "    \n",
        "    def __init__(self, optimizer, mu=0):\n",
        "        if mu < 0.0:\n",
        "            raise ValueError(f'Invalid mu value: {mu}')\n",
        "        self.optimizer = optimizer\n",
        "        self.mu = mu\n",
        "        self.param_groups = self.optimizer.param_groups\n",
        "        self.state = self.optimizer.state\n",
        "    \n",
        "    def _update(self, group):\n",
        "        for p in group['params']:\n",
        "            if p.grad is None:\n",
        "                continue\n",
        "            state = self.state[p]\n",
        "            p.data.add_(state['proximal'], alpha=-group['lr'])\n",
        "        \n",
        "    def step(self, closure=None):\n",
        "        for group in self.param_groups:\n",
        "            for p in group['params']:\n",
        "                if p.grad is None:\n",
        "                    continue\n",
        "                state = self.state[p]\n",
        "                if 'initial_weights' not in state:\n",
        "                    state['initial_weights'] = torch.clone(p.data).detach()\n",
        "                state['proximal'] = self.mu * (p.data - state['initial_weights'])\n",
        "\n",
        "        loss = self.optimizer.step(closure=closure)\n",
        "        for group in self.param_groups:\n",
        "            self._update(group)\n",
        "        return loss"
      ]
    }
  ],
  "metadata": {
    "accelerator": "GPU",
    "colab": {
      "provenance": []
    },
    "gpuClass": "standard",
    "kernelspec": {
      "display_name": "Python 3",
      "name": "python3"
    },
    "language_info": {
      "name": "python"
    }
  },
  "nbformat": 4,
  "nbformat_minor": 0
}
