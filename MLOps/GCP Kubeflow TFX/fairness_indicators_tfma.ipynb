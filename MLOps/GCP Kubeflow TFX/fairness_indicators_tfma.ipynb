{
  "cells": [
    {
      "attachments": {},
      "cell_type": "markdown",
      "metadata": {
        "id": "YwpE8n4v_JeT"
      },
      "source": [
        "dataset: \n",
        "\n",
        "http://mmlab.ie.cuhk.edu.hk/projects/CelebA.html\n",
        "\n",
        "Instructions:\n",
        "\n",
        "https://www.tensorflow.org/tfx/guide/fairness_indicators\n",
        "\n",
        "https://www.tensorflow.org/tfx/model_analysis/get_started\n",
        "\n",
        "https://colab.research.google.com/github/tensorflow/fairness-indicators/blob/master/g3doc/tutorials/Fairness_Indicators_TFCO_CelebA_Case_Study.ipynb"
      ]
    },
    {
      "cell_type": "code",
      "execution_count": null,
      "metadata": {
        "id": "t1ZWcTAvoi_o",
        "vscode": {
          "languageId": "python"
        }
      },
      "outputs": [],
      "source": [
        "!pip install --use-deprecated=legacy-resolver fairness-indicators\n",
        "!pip install tensorflow_model_analysis"
      ]
    },
    {
      "cell_type": "code",
      "execution_count": null,
      "metadata": {
        "id": "A66hFOyMorfQ",
        "vscode": {
          "languageId": "python"
        }
      },
      "outputs": [],
      "source": [
        "import tensorflow as tf\n",
        "import tensorflow_model_analysis as tfma\n",
        "import tensorflow_datasets as tfds\n",
        "from tensorflow import keras\n",
        "from tensorflow_metadata.proto.v0 import schema_pb2\n",
        "import tensorflow_data_validation as tfdv\n",
        "from google.protobuf import text_format"
      ]
    },
    {
      "cell_type": "code",
      "execution_count": null,
      "metadata": {
        "id": "WzZNQrUCpEs6",
        "vscode": {
          "languageId": "python"
        }
      },
      "outputs": [],
      "source": [
        "print(\"TensorFlow \" + tf.__version__)\n",
        "print(\"TFMA \" + tfma.VERSION_STRING)"
      ]
    },
    {
      "cell_type": "code",
      "execution_count": null,
      "metadata": {
        "id": "_tRPCjI9YxKN",
        "vscode": {
          "languageId": "python"
        }
      },
      "outputs": [],
      "source": [
        "# URI of the dataset in Goocle Cloud Storage\n",
        "GCS_BASE_DIR = \"gs://celeb_a_dataset/\"\n",
        "\n",
        "# Load the data using TFDS\n",
        "data, data_info = tfds.load(\"celeb_a\", data_dir=GCS_BASE_DIR, with_info=True, builder_kwargs={'version':'2.0.0'})"
      ]
    },
    {
      "cell_type": "code",
      "execution_count": null,
      "metadata": {
        "id": "8r0ZMW3_ZnZU",
        "vscode": {
          "languageId": "python"
        }
      },
      "outputs": [],
      "source": [
        "# Take 6 examples and preview images\n",
        "fig = tfds.show_examples(data['train'].take(6), data_info)"
      ]
    },
    {
      "cell_type": "code",
      "execution_count": null,
      "metadata": {
        "id": "S7Ndy-sKbpbk",
        "vscode": {
          "languageId": "python"
        }
      },
      "outputs": [],
      "source": [
        "# Take 4 examples as a dataframe\n",
        "df = tfds.as_dataframe(data['train'].take(4), data_info)\n",
        "\n",
        "# View the dataframe\n",
        "df.head()"
      ]
    },
    {
      "cell_type": "code",
      "execution_count": null,
      "metadata": {
        "id": "icDbLpkaGN0S",
        "vscode": {
          "languageId": "python"
        }
      },
      "outputs": [],
      "source": [
        "# List dataframe header\n",
        "df.columns"
      ]
    },
    {
      "cell_type": "code",
      "execution_count": null,
      "metadata": {
        "id": "3PSk2eUUx9L8",
        "vscode": {
          "languageId": "python"
        }
      },
      "outputs": [],
      "source": [
        "# Define Constants\n",
        "ATTR_KEY = \"attributes\"\n",
        "IMAGE_KEY = \"image\"\n",
        "LABEL_KEY = \"Smiling\"\n",
        "GROUP_KEY = \"Young\"\n",
        "IMAGE_SIZE = 28\n",
        "\n",
        "# Define Preprocessing Function\n",
        "def preprocess_input_dict(feat_dict):\n",
        "  ''' Picks the attributes to study and resizes the images\n",
        "  Args:\n",
        "    feat_dict (dictionary): features from the dataset\n",
        "\n",
        "  Returns:\n",
        "    dictionary containing the resized image, label, and age group\n",
        "  '''\n",
        "  # Separate out the image and target variable from the feature dictionary.\n",
        "  image = feat_dict[IMAGE_KEY]\n",
        "  label = feat_dict[ATTR_KEY][LABEL_KEY]\n",
        "  group = feat_dict[ATTR_KEY][GROUP_KEY]\n",
        "\n",
        "  # Resize and normalize image.\n",
        "  image = tf.cast(image, tf.float32)\n",
        "  image = tf.image.resize(image, [IMAGE_SIZE, IMAGE_SIZE])\n",
        "  image /= 255.0\n",
        "\n",
        "  # Cast label and group to float32.\n",
        "  label = tf.cast(label, tf.float32)\n",
        "  group = tf.cast(group, tf.float32)\n",
        "\n",
        "  # Put the computed values in a dictionary\n",
        "  feat_dict[IMAGE_KEY] = image\n",
        "  feat_dict[ATTR_KEY][LABEL_KEY] = label\n",
        "  feat_dict[ATTR_KEY][GROUP_KEY] = group\n",
        "\n",
        "  return feat_dict\n",
        "\n",
        "# Define lambda functions to group features and labels for training and evaluation\n",
        "get_image_and_label = lambda feat_dict: (feat_dict[IMAGE_KEY], feat_dict[ATTR_KEY][LABEL_KEY])\n",
        "get_image_label_and_group = lambda feat_dict: (feat_dict[IMAGE_KEY], feat_dict[ATTR_KEY][LABEL_KEY], feat_dict[ATTR_KEY][GROUP_KEY])"
      ]
    },
    {
      "cell_type": "code",
      "execution_count": null,
      "metadata": {
        "id": "-CfC6ZF4pc7I",
        "vscode": {
          "languageId": "python"
        }
      },
      "outputs": [],
      "source": [
        "def celeb_a_train_data_wo_group(data, batch_size):\n",
        "  '''\n",
        "  Args:\n",
        "    data (TF dataset) - dataset to preprocess\n",
        "    batch_size (int) - batch size\n",
        "  \n",
        "  Returns:\n",
        "    Batches of preprocessed datasets containing tuples with (image, label)\n",
        "  '''\n",
        "  celeb_a_train_data = data.shuffle(1024).repeat().batch(batch_size).map(preprocess_input_dict)\n",
        "  return celeb_a_train_data.map(get_image_and_label)"
      ]
    },
    {
      "cell_type": "code",
      "execution_count": null,
      "metadata": {
        "id": "hLkOPoVwdhKh",
        "vscode": {
          "languageId": "python"
        }
      },
      "outputs": [],
      "source": [
        "# Prepare test data\n",
        "celeb_a_test_data = data['test'].batch(1).map(preprocess_input_dict).map(get_image_label_and_group)"
      ]
    },
    {
      "cell_type": "code",
      "execution_count": null,
      "metadata": {
        "id": "svHIiXWPmfy4",
        "vscode": {
          "languageId": "python"
        }
      },
      "outputs": [],
      "source": [
        "# Print info about the test data records\n",
        "for sample in celeb_a_test_data.take(1):\n",
        "  print(f'Data type: {type(sample)}')\n",
        "  print(f'Number of elements: {len(sample)}')\n",
        "  print(f'Shape of 1st element: {sample[0].shape}')\n",
        "  print(f'Shape of 2nd element: {sample[1].shape}')\n",
        "  print(f'Shape of 3rd element: {sample[2].shape}')\n",
        "  print(f'Contents: \\n{sample}')"
      ]
    },
    {
      "cell_type": "code",
      "execution_count": null,
      "metadata": {
        "id": "tpNlbyyapfbL",
        "vscode": {
          "languageId": "python"
        }
      },
      "outputs": [],
      "source": [
        "def create_model():\n",
        "  '''Builds the simple DNN binary classifier'''\n",
        "\n",
        "  # Build the model using the Sequential API\n",
        "  model = keras.Sequential([\n",
        "      keras.layers.Flatten(input_shape=(IMAGE_SIZE, IMAGE_SIZE, 3), name='image'),\n",
        "      keras.layers.Dense(64, activation='relu'),\n",
        "      keras.layers.Dense(1, activation=None)\n",
        "  ])\n",
        "\n",
        "  # Compile the model with hinge loss and binary accuracy metric\n",
        "  model.compile(\n",
        "      optimizer=tf.keras.optimizers.Adam(0.001),\n",
        "      loss='hinge',\n",
        "      metrics='binary_accuracy')\n",
        "  \n",
        "  return model\n"
      ]
    },
    {
      "cell_type": "code",
      "execution_count": null,
      "metadata": {
        "id": "spMUm9wNp0nW",
        "vscode": {
          "languageId": "python"
        }
      },
      "outputs": [],
      "source": [
        "BATCH_SIZE = 32\n",
        "\n",
        "# Build the model\n",
        "model = create_model()\n",
        "\n",
        "# Train the model\n",
        "model.fit(celeb_a_train_data_wo_group(data['train'], BATCH_SIZE), epochs=5, steps_per_epoch=1000)"
      ]
    },
    {
      "cell_type": "code",
      "execution_count": null,
      "metadata": {
        "id": "tlPUI-ovqL-F",
        "vscode": {
          "languageId": "python"
        }
      },
      "outputs": [],
      "source": [
        "# Evaluate trained model on the test data\n",
        "results = model.evaluate(celeb_a_test_data)"
      ]
    },
    {
      "cell_type": "code",
      "execution_count": null,
      "metadata": {
        "id": "Jk06C_O3SIkx",
        "vscode": {
          "languageId": "python"
        }
      },
      "outputs": [],
      "source": [
        "# Define model directory\n",
        "MODEL_LOCATION = 'saved_model'\n",
        "\n",
        "# Save the model\n",
        "model.save(MODEL_LOCATION, save_format='tf')"
      ]
    },
    {
      "cell_type": "code",
      "execution_count": null,
      "metadata": {
        "id": "-zrBYHAFteT6",
        "vscode": {
          "languageId": "python"
        }
      },
      "outputs": [],
      "source": [
        "# Define filename\n",
        "TFRECORD_FILE = 'celeb_a_test.tfrecord'"
      ]
    },
    {
      "cell_type": "code",
      "execution_count": null,
      "metadata": {
        "id": "LY1QtzKBtG7p",
        "vscode": {
          "languageId": "python"
        }
      },
      "outputs": [],
      "source": [
        "def celeb_ds_to_tfrecord(dataset, tfrecord_file):\n",
        "  ''' Helper function to convert a TF Dataset to TFRecord\n",
        "\n",
        "  Args:\n",
        "    dataset (TF Dataset) - dataset to save as TFRecord\n",
        "    tfrecord_file (string) - filename to use when writing the TFRecord\n",
        "  '''\n",
        "\n",
        "  # Initialize examples list\n",
        "  examples = []\n",
        "\n",
        "  for row in dataset:\n",
        "    # Get image, label, and group tensors\n",
        "    image = row[0]\n",
        "    label = row[1]\n",
        "    group = row[2]\n",
        "\n",
        "    # Flatten image\n",
        "    image = tf.reshape(image, [-1])\n",
        "\n",
        "    # Instantiate Example\n",
        "    output = tf.train.Example()\n",
        "\n",
        "    # Assign features' numpy arrays to the Example feature values\n",
        "    output.features.feature[IMAGE_KEY].float_list.value.extend(image.numpy().tolist())\n",
        "    output.features.feature[LABEL_KEY].float_list.value.append(label.numpy()[0])\n",
        "    output.features.feature[GROUP_KEY].bytes_list.value.append(b\"Young\" if group.numpy()[0] else b'Not Young')\n",
        "    \n",
        "    # Append to examples list\n",
        "    examples.append(output)\n",
        "\n",
        "  # Serialize examples and save as tfrecord\n",
        "  with tf.io.TFRecordWriter(tfrecord_file) as writer:\n",
        "    for example in examples:\n",
        "      writer.write(example.SerializeToString())"
      ]
    },
    {
      "cell_type": "code",
      "execution_count": null,
      "metadata": {
        "id": "hPsF2Uu3uh7U",
        "vscode": {
          "languageId": "python"
        }
      },
      "outputs": [],
      "source": [
        "# Use the helper function to serialize the test dataset\n",
        "celeb_ds_to_tfrecord(celeb_a_test_data, TFRECORD_FILE)"
      ]
    },
    {
      "cell_type": "code",
      "execution_count": null,
      "metadata": {
        "id": "KNM8_wn1S5-P",
        "vscode": {
          "languageId": "python"
        }
      },
      "outputs": [],
      "source": [
        "# Write EvalConfig string\n",
        "eval_config_pbtxt = \"\"\"\n",
        "      model_specs {\n",
        "        label_key: \"%s\"\n",
        "      }\n",
        "      metrics_specs {\n",
        "        metrics {\n",
        "          class_name: \"FairnessIndicators\"\n",
        "          config: '{ \"thresholds\": [0.22, 0.5, 0.75] }'\n",
        "        }\n",
        "        metrics {\n",
        "          class_name: \"ExampleCount\"\n",
        "        }\n",
        "      }\n",
        "      slicing_specs {}\n",
        "      slicing_specs { feature_keys: \"%s\" }\n",
        "    \"\"\" % (LABEL_KEY, GROUP_KEY)\n",
        "\n",
        "# Parse as a Message\n",
        "eval_config = text_format.Parse(eval_config_pbtxt, tfma.EvalConfig())"
      ]
    },
    {
      "cell_type": "code",
      "execution_count": null,
      "metadata": {
        "id": "_3cBZNlOvGC1",
        "vscode": {
          "languageId": "python"
        }
      },
      "outputs": [],
      "source": [
        "# Create EvalSharedModel\n",
        "eval_shared_model = tfma.default_eval_shared_model(\n",
        "      eval_saved_model_path=MODEL_LOCATION, eval_config=eval_config)"
      ]
    },
    {
      "cell_type": "code",
      "execution_count": null,
      "metadata": {
        "id": "BtiJuufKvDV8",
        "vscode": {
          "languageId": "python"
        }
      },
      "outputs": [],
      "source": [
        "# Define Schema message as string\n",
        "schema_pbtxt = \"\"\"\n",
        "      tensor_representation_group {\n",
        "        key: \"\"\n",
        "        value {\n",
        "          tensor_representation {\n",
        "            key: \"%s\"\n",
        "            value {\n",
        "              dense_tensor {\n",
        "                column_name: \"%s\"\n",
        "                shape {\n",
        "                  dim { size: 28 }\n",
        "                  dim { size: 28 }\n",
        "                  dim { size: 3 }\n",
        "                }\n",
        "              }\n",
        "            }\n",
        "          }\n",
        "        }\n",
        "      }\n",
        "      feature {\n",
        "        name: \"%s\"\n",
        "        type: FLOAT\n",
        "      }\n",
        "      feature {\n",
        "        name: \"%s\"\n",
        "        type: FLOAT\n",
        "      }\n",
        "      feature {\n",
        "        name: \"%s\"\n",
        "        type: BYTES\n",
        "      }\n",
        "      \"\"\" % (IMAGE_KEY, IMAGE_KEY, IMAGE_KEY, LABEL_KEY, GROUP_KEY)\n",
        "\n",
        "# Parse the schema string to a message\n",
        "schema = text_format.Parse(schema_pbtxt, schema_pb2.Schema())"
      ]
    },
    {
      "cell_type": "code",
      "execution_count": null,
      "metadata": {
        "id": "dbpqTuHbTKFH",
        "vscode": {
          "languageId": "python"
        }
      },
      "outputs": [],
      "source": [
        "# Define output directory\n",
        "OUTPUT_PATH = 'tfma_output'\n",
        "\n",
        "# Run model analysis\n",
        "eval_results = tfma.run_model_analysis(\n",
        "    eval_shared_model=eval_shared_model,\n",
        "    eval_config=eval_config,\n",
        "    data_location=TFRECORD_FILE,\n",
        "    schema=schema,\n",
        "    output_path=OUTPUT_PATH\n",
        ")"
      ]
    },
    {
      "cell_type": "code",
      "execution_count": null,
      "metadata": {
        "id": "Q0R5OlNDqWwS",
        "vscode": {
          "languageId": "python"
        }
      },
      "outputs": [],
      "source": [
        "# Visualize the fairness metrics\n",
        "tfma.addons.fairness.view.widget_view.render_fairness_indicator(eval_results)"
      ]
    },
    {
      "cell_type": "code",
      "execution_count": null,
      "metadata": {
        "id": "Rd-oUa1z-yjQ",
        "vscode": {
          "languageId": "python"
        }
      },
      "outputs": [],
      "source": [
        "# Define training directory\n",
        "TRAIN_DIR = f'{GCS_BASE_DIR}celeb_a/2.0.0/celeb_a-train.tfrecord*'\n",
        "\n",
        "# View tfrecord filenames in GCS\n",
        "!gsutil ls {TRAIN_DIR}"
      ]
    },
    {
      "cell_type": "code",
      "execution_count": null,
      "metadata": {
        "id": "pbwyiEgZO2L0",
        "vscode": {
          "languageId": "python"
        }
      },
      "outputs": [],
      "source": [
        "# Define the data directory\n",
        "DATA_DIR = 'celeb_a-train-tfrecords'\n",
        "\n",
        "# Create the data directory\n",
        "!mkdir {DATA_DIR}\n",
        "\n",
        "# Download the dataset into the local directory\n",
        "!gsutil -m cp {TRAIN_DIR} {DATA_DIR}"
      ]
    },
    {
      "cell_type": "code",
      "execution_count": null,
      "metadata": {
        "id": "xGteF9i1FyhA",
        "vscode": {
          "languageId": "python"
        }
      },
      "outputs": [],
      "source": [
        "# Filter features to observe\n",
        "stats_options = tfdv.StatsOptions(feature_allowlist=['attributes/Young'])\n",
        "\n",
        "# Compute the statistics for all tf records under the data directory\n",
        "statistics = tfdv.generate_statistics_from_tfrecord(f'{DATA_DIR}/', stats_options=stats_options)\n",
        "\n",
        "# Visualize the statistics\n",
        "tfdv.visualize_statistics(statistics)"
      ]
    }
  ],
  "metadata": {
    "accelerator": "GPU",
    "colab": {
      "private_outputs": true,
      "provenance": []
    },
    "kernelspec": {
      "display_name": "Python 3",
      "name": "python3"
    }
  },
  "nbformat": 4,
  "nbformat_minor": 0
}
