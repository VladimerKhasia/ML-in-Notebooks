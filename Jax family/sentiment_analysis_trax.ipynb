{
  "cells": [
    {
      "cell_type": "code",
      "execution_count": null,
      "id": "gH5_LiPV6dDL",
      "metadata": {
        "colab": {
          "base_uri": "https://localhost:8080/"
        },
        "id": "gH5_LiPV6dDL",
        "outputId": "9bbe4a0f-a45f-4e0c-adb0-1d26a6820923"
      },
      "outputs": [],
      "source": [
        "!pip install -q -U trax"
      ]
    },
    {
      "cell_type": "code",
      "execution_count": null,
      "id": "WOTfm2P0jCVt",
      "metadata": {
        "colab": {
          "base_uri": "https://localhost:8080/"
        },
        "id": "WOTfm2P0jCVt",
        "outputId": "ce34a105-e13b-4dc1-f12d-5238fd432428"
      },
      "outputs": [],
      "source": [
        "import string\n",
        "import re\n",
        "import os\n",
        "import shutil\n",
        "import random as rnd\n",
        "\n",
        "import trax\n",
        "import trax.fastmath.numpy as tnp\n",
        "from trax import layers as tl\n",
        "from trax import fastmath\n",
        "from trax.supervised import training\n",
        "\n",
        "import nltk\n",
        "nltk.download('twitter_samples')\n",
        "nltk.download('stopwords')\n",
        "from nltk.tokenize import TweetTokenizer\n",
        "from nltk.corpus import stopwords, twitter_samples"
      ]
    },
    {
      "cell_type": "code",
      "execution_count": null,
      "id": "w8PC9u1Y6KCY",
      "metadata": {
        "id": "w8PC9u1Y6KCY"
      },
      "outputs": [],
      "source": [
        "tweet_tokenizer = TweetTokenizer(preserve_case=False, strip_handles=True, reduce_len=True)\n",
        "\n",
        "# Stop words are messy and not that compelling; \n",
        "# \"very\" and \"not\" are considered stop words, but they are obviously expressing sentiment\n",
        "\n",
        "# The porter stemmer lemmatizes \"was\" to \"wa\".  Seriously???\n",
        "\n",
        "# I'm not sure we want to get into stop words\n",
        "stopwords_english = stopwords.words('english')\n",
        "\n",
        "# Also have my doubts about stemming...\n",
        "from nltk.stem import PorterStemmer\n",
        "stemmer = PorterStemmer()\n",
        "\n",
        "def process_tweet(tweet):\n",
        "    '''\n",
        "    Input: \n",
        "        tweet: a string containing a tweet\n",
        "    Output:\n",
        "        tweets_clean: a list of words containing the processed tweet\n",
        "    \n",
        "    '''\n",
        "    # remove stock market tickers like $GE\n",
        "    tweet = re.sub(r'\\$\\w*', '', tweet)\n",
        "    # remove old style retweet text \"RT\"\n",
        "    tweet = re.sub(r'^RT[\\s]+', '', tweet)\n",
        "    # remove hyperlinks\n",
        "    tweet = re.sub(r'https?:\\/\\/.*[\\r\\n]*', '', tweet)\n",
        "    # remove hashtags\n",
        "    # only removing the hash # sign from the word\n",
        "    tweet = re.sub(r'#', '', tweet)\n",
        "    # tokenize tweets\n",
        "    tokenizer = TweetTokenizer(preserve_case=False, strip_handles=True, reduce_len=True)\n",
        "    tweet_tokens = tokenizer.tokenize(tweet)\n",
        "    ### START CODE HERE ###\n",
        "    tweets_clean = []\n",
        "    for word in tweet_tokens:\n",
        "        if (word not in stopwords_english and # remove stopwords\n",
        "            word not in string.punctuation): # remove punctuation\n",
        "            #tweets_clean.append(word)\n",
        "            stem_word = stemmer.stem(word) # stemming word\n",
        "            tweets_clean.append(stem_word)\n",
        "    ### END CODE HERE ###\n",
        "    return tweets_clean\n",
        "\n",
        "\n",
        "# let's not reuse variables\n",
        "# all_positive_tweets = twitter_samples.strings('positive_tweets.json')\n",
        "# all_negative_tweets = twitter_samples.strings('negative_tweets.json')\n",
        "\n",
        "def load_tweets():\n",
        "    all_positive_tweets = twitter_samples.strings('positive_tweets.json')\n",
        "    all_negative_tweets = twitter_samples.strings('negative_tweets.json')  \n",
        "    return all_positive_tweets, all_negative_tweets\n",
        "\n",
        "# Layers have weights and a foward function.\n",
        "# They create weights when layer.initialize is called and use them.\n",
        "# remove this or make it optional \n",
        "\n",
        "class Layer(object):\n",
        "    \"\"\"Base class for layers.\"\"\"\n",
        "    def __init__(self):\n",
        "        self.weights = None\n",
        "\n",
        "    def forward(self, x):\n",
        "        raise NotImplementedError\n",
        "  \n",
        "    def init_weights_and_state(self, input_signature, random_key):\n",
        "        pass\n",
        "\n",
        "    def init(self, input_signature, random_key):\n",
        "        self.init_weights_and_state(input_signature, random_key)\n",
        "        return self.weights\n",
        "    \n",
        "    def __call__(self, x):\n",
        "        return self.forward(x)\n"
      ]
    },
    {
      "cell_type": "code",
      "execution_count": null,
      "id": "EyMnUt38jCVw",
      "metadata": {
        "colab": {
          "base_uri": "https://localhost:8080/",
          "height": 69
        },
        "id": "EyMnUt38jCVw",
        "outputId": "8d16f1d1-a4f6-4d37-aff9-13cd74cddafe"
      },
      "outputs": [],
      "source": [
        "# Create an array using trax.fastmath.numpy\n",
        "a = tnp.array(5.0)\n",
        "\n",
        "# View the returned array\n",
        "display(a)\n",
        "\n",
        "print(type(a))"
      ]
    },
    {
      "cell_type": "code",
      "execution_count": null,
      "id": "J2RUtDtrjCV0",
      "metadata": {
        "id": "J2RUtDtrjCV0"
      },
      "outputs": [],
      "source": [
        "# Define a function that will use the trax.fastmath.numpy array\n",
        "def f(x):\n",
        "    \n",
        "    # f = x^2\n",
        "    return (x**2)"
      ]
    },
    {
      "cell_type": "code",
      "execution_count": null,
      "id": "qvUd-xzqjCV4",
      "metadata": {
        "colab": {
          "base_uri": "https://localhost:8080/"
        },
        "id": "qvUd-xzqjCV4",
        "outputId": "41bc556e-d392-4c21-b008-b50cd7528a13"
      },
      "outputs": [],
      "source": [
        "# Call the function\n",
        "print(f\"f(a) for a={a} is {f(a)}\")"
      ]
    },
    {
      "cell_type": "code",
      "execution_count": null,
      "id": "2Im5Hkc9jCV8",
      "metadata": {
        "colab": {
          "base_uri": "https://localhost:8080/"
        },
        "id": "2Im5Hkc9jCV8",
        "outputId": "7d453211-099c-40a7-92d8-a6a5b763f4c5"
      },
      "outputs": [],
      "source": [
        "# Directly use trax.fastmath.grad to calculate the gradient (derivative) of the function\n",
        "grad_f = trax.fastmath.grad(fun=f)  # df / dx - Gradient of function f(x) with respect to x\n",
        "\n",
        "# View the type of the retuned object (it's a function)\n",
        "type(grad_f)"
      ]
    },
    {
      "cell_type": "code",
      "execution_count": null,
      "id": "0lDIVvx3jCV_",
      "metadata": {
        "colab": {
          "base_uri": "https://localhost:8080/",
          "height": 34
        },
        "id": "0lDIVvx3jCV_",
        "outputId": "e948e1a9-a6b6-4a13-991e-d39038ba4c46"
      },
      "outputs": [],
      "source": [
        "# Call the newly created function and pass in a value for x (the DeviceArray stored in 'a')\n",
        "grad_calculation = grad_f(a)\n",
        "\n",
        "# View the result of calling the grad_f function\n",
        "display(grad_calculation)"
      ]
    },
    {
      "cell_type": "code",
      "execution_count": null,
      "id": "h5ClwIOSuLJh",
      "metadata": {
        "id": "h5ClwIOSuLJh"
      },
      "outputs": [],
      "source": [
        "def train_val_split():\n",
        "    # Load positive and negative tweets\n",
        "    all_positive_tweets, all_negative_tweets = load_tweets()\n",
        "\n",
        "    # View the total number of positive and negative tweets.\n",
        "    print(f\"The number of positive tweets: {len(all_positive_tweets)}\")\n",
        "    print(f\"The number of negative tweets: {len(all_negative_tweets)}\")\n",
        "\n",
        "    # Split positive set into validation and training\n",
        "    val_pos   = all_positive_tweets[4000:] # generating validation set for positive tweets\n",
        "    train_pos  = all_positive_tweets[:4000]# generating training set for positive tweets\n",
        "\n",
        "    # Split negative set into validation and training\n",
        "    val_neg   = all_negative_tweets[4000:] # generating validation set for negative tweets\n",
        "    train_neg  = all_negative_tweets[:4000] # generating training set for nagative tweets\n",
        "    \n",
        "    # Combine training data into one set\n",
        "    train_x = train_pos + train_neg \n",
        "\n",
        "    # Combine validation data into one set\n",
        "    val_x  = val_pos + val_neg\n",
        "\n",
        "    # Set the labels for the training set (1 for positive, 0 for negative)\n",
        "    train_y = tnp.append(tnp.ones(len(train_pos)), tnp.zeros(len(train_neg)))\n",
        "\n",
        "    # Set the labels for the validation set (1 for positive, 0 for negative)\n",
        "    val_y  = tnp.append(tnp.ones(len(val_pos)), tnp.zeros(len(val_neg)))\n",
        "\n",
        "\n",
        "    return train_pos, train_neg, train_x, train_y, val_pos, val_neg, val_x, val_y"
      ]
    },
    {
      "cell_type": "code",
      "execution_count": null,
      "id": "3vAs9uH55_jS",
      "metadata": {
        "colab": {
          "base_uri": "https://localhost:8080/"
        },
        "id": "3vAs9uH55_jS",
        "outputId": "84bb28e7-fe29-4926-d1b0-fadf18f46a47"
      },
      "outputs": [],
      "source": [
        "train_pos, train_neg, train_x, train_y, val_pos, val_neg, val_x, val_y = train_val_split()\n",
        "\n",
        "print(f\"length of train_x {len(train_x)}\")\n",
        "print(f\"length of val_x {len(val_x)}\")"
      ]
    },
    {
      "cell_type": "code",
      "execution_count": null,
      "id": "2bRX6aPDjCWH",
      "metadata": {
        "colab": {
          "base_uri": "https://localhost:8080/"
        },
        "id": "2bRX6aPDjCWH",
        "outputId": "f063cfc6-e061-4b73-a16f-7eb6c8c8460d"
      },
      "outputs": [],
      "source": [
        "# Try out function that processes tweets\n",
        "print(\"original tweet at training position 0\")\n",
        "print(train_pos[0])\n",
        "\n",
        "print(\"Tweet at training position 0 after processing:\")\n",
        "process_tweet(train_pos[0])"
      ]
    },
    {
      "cell_type": "code",
      "execution_count": null,
      "id": "rQaHKs7kAVuc",
      "metadata": {
        "colab": {
          "base_uri": "https://localhost:8080/",
          "height": 1000
        },
        "id": "rQaHKs7kAVuc",
        "outputId": "86307d36-e36e-4661-937e-5c175b28839a"
      },
      "outputs": [],
      "source": [
        "# Build the vocabulary\n",
        "# There is no test set here only train/val\n",
        "def get_vocab(train_x):\n",
        "\n",
        "    # Include special tokens \n",
        "    # started with pad, end of line and unk tokens\n",
        "    Vocab = {'__PAD__': 0, '__</e>__': 1, '__UNK__': 2} \n",
        "\n",
        "    # Note that we build vocab using training data\n",
        "    for tweet in train_x: \n",
        "        processed_tweet = process_tweet(tweet)\n",
        "        for word in processed_tweet:\n",
        "            if word not in Vocab: \n",
        "                Vocab[word] = len(Vocab)\n",
        "    \n",
        "    return Vocab\n",
        "\n",
        "Vocab = get_vocab(train_x)\n",
        "\n",
        "print(\"Total words in vocab are\",len(Vocab))\n",
        "display(Vocab)"
      ]
    },
    {
      "cell_type": "code",
      "execution_count": null,
      "id": "Ft1zNGMaAVuf",
      "metadata": {
        "id": "Ft1zNGMaAVuf"
      },
      "outputs": [],
      "source": [
        "def tweet_to_tensor(tweet, vocab_dict, unk_token='__UNK__', verbose=False):\n",
        "    '''\n",
        "    Input: \n",
        "        tweet - A string containing a tweet\n",
        "        vocab_dict - The words dictionary\n",
        "        unk_token - The special string for unknown tokens\n",
        "        verbose - Print info durign runtime\n",
        "    Output:\n",
        "        tensor_l - A python list with\n",
        "        \n",
        "    '''  \n",
        "    \n",
        "    # Process the tweet into a list of words\n",
        "    # where only important words are kept (stop words removed)\n",
        "    word_l = process_tweet(tweet)\n",
        "    \n",
        "    if verbose:\n",
        "        print(\"List of words from the processed tweet:\")\n",
        "        print(word_l)\n",
        "        \n",
        "    # Initialize the list that will contain the unique integer IDs of each word\n",
        "    tensor_l = []\n",
        "    \n",
        "    # Get the unique integer ID of the __UNK__ token\n",
        "    unk_ID = vocab_dict['__UNK__']\n",
        "    \n",
        "    if verbose:\n",
        "        print(f\"The unique integer ID for the unk_token is {unk_ID}\")\n",
        "        \n",
        "    # for each word in the list:\n",
        "    for word in word_l:\n",
        "        \n",
        "        # Get the unique integer ID.\n",
        "        # If the word doesn't exist in the vocab dictionary,\n",
        "        # use the unique ID for __UNK__ instead.\n",
        "        word_ID = vocab_dict.get(word,unk_ID)\n",
        "        \n",
        "        # Append the unique integer ID to the tensor list.\n",
        "        tensor_l.append(word_ID) \n",
        "    \n",
        "    return tensor_l"
      ]
    },
    {
      "cell_type": "code",
      "execution_count": null,
      "id": "ze0Zx_5UjCWU",
      "metadata": {
        "colab": {
          "base_uri": "https://localhost:8080/"
        },
        "id": "ze0Zx_5UjCWU",
        "outputId": "e5143d47-f600-4e46-ea48-b69c321d0a5a"
      },
      "outputs": [],
      "source": [
        "print(\"Actual tweet is\\n\", val_pos[0])\n",
        "print(\"\\nTensor of tweet:\\n\", tweet_to_tensor(val_pos[0], vocab_dict=Vocab))"
      ]
    },
    {
      "cell_type": "code",
      "execution_count": null,
      "id": "fPd9HNT7AVuk",
      "metadata": {
        "id": "fPd9HNT7AVuk"
      },
      "outputs": [],
      "source": [
        "def data_generator(data_pos, data_neg, batch_size, loop, vocab_dict, shuffle=False):\n",
        "    '''\n",
        "    Input: \n",
        "        data_pos - Set of posstive examples\n",
        "        data_neg - Set of negative examples\n",
        "        batch_size - number of samples per batch. Must be even\n",
        "        loop - True or False\n",
        "        vocab_dict - The words dictionary\n",
        "        shuffle - Shuffle the data order\n",
        "    Yield:\n",
        "        inputs - Subset of positive and negative examples\n",
        "        targets - The corresponding labels for the subset\n",
        "        example_weights - An array specifying the importance of each example\n",
        "        \n",
        "    '''     \n",
        "    # make sure the batch size is an even number\n",
        "    # to allow an equal number of positive and negative samples\n",
        "    assert batch_size % 2 == 0\n",
        "    \n",
        "    # Number of positive examples in each batch is half of the batch size\n",
        "    # same with number of negative examples in each batch\n",
        "    n_to_take = batch_size // 2\n",
        "    \n",
        "    # Use pos_index to walk through the data_pos array\n",
        "    # same with neg_index and data_neg\n",
        "    pos_index = 0\n",
        "    neg_index = 0\n",
        "    \n",
        "    len_data_pos = len(data_pos)\n",
        "    len_data_neg = len(data_neg)\n",
        "    \n",
        "    # Get and array with the data indexes\n",
        "    pos_index_lines = list(range(len_data_pos))\n",
        "    neg_index_lines = list(range(len_data_neg))\n",
        "    \n",
        "    # shuffle lines if shuffle is set to True\n",
        "    if shuffle:\n",
        "        rnd.shuffle(pos_index_lines)\n",
        "        rnd.shuffle(neg_index_lines)\n",
        "        \n",
        "    stop = False\n",
        "    \n",
        "    # Loop indefinitely\n",
        "    while not stop:  \n",
        "        \n",
        "        # create a batch with positive and negative examples\n",
        "        batch = []\n",
        "        \n",
        "        # First part: Pack n_to_take positive examples\n",
        "        \n",
        "        # Start from pos_index and increment i up to n_to_take\n",
        "        for i in range(n_to_take):\n",
        "                    \n",
        "            # If the positive index goes past the positive dataset lenght,\n",
        "            if pos_index >= len_data_pos: \n",
        "                \n",
        "                # If loop is set to False, break once we reach the end of the dataset\n",
        "                if not loop:\n",
        "                    stop = True;\n",
        "                    break;\n",
        "                \n",
        "                # If user wants to keep re-using the data, reset the index\n",
        "                pos_index = 0\n",
        "                \n",
        "                if shuffle:\n",
        "                    # Shuffle the index of the positive sample\n",
        "                    rnd.shuffle(pos_index_lines)\n",
        "                    \n",
        "            # get the tweet as pos_index\n",
        "            tweet = data_pos[pos_index_lines[pos_index]]\n",
        "            \n",
        "            # convert the tweet into tensors of integers representing the processed words\n",
        "            tensor = tweet_to_tensor(tweet, vocab_dict)\n",
        "            \n",
        "            # append the tensor to the batch list\n",
        "            batch.append(tensor)\n",
        "            \n",
        "            # Increment pos_index by one\n",
        "            pos_index = pos_index + 1\n",
        "            \n",
        "\n",
        "        # Second part: Pack n_to_take negative examples\n",
        "    \n",
        "        # Using the same batch list, start from neg_index and increment i up to n_to_take\n",
        "        for i in range(n_to_take):\n",
        "            \n",
        "            # If the negative index goes past the negative dataset length,\n",
        "            if neg_index >= len_data_neg:\n",
        "                \n",
        "                # If loop is set to False, break once we reach the end of the dataset\n",
        "                if not loop:\n",
        "                    stop = True;\n",
        "                    break;\n",
        "                    \n",
        "                # If user wants to keep re-using the data, reset the index\n",
        "                neg_index = 0\n",
        "                \n",
        "                if shuffle:\n",
        "                    # Shuffle the index of the negative sample\n",
        "                    rnd.shufle(neg_index_lines)\n",
        "            # get the tweet as neg_index\n",
        "            tweet = data_neg[neg_index_lines[neg_index]]\n",
        "            \n",
        "            # convert the tweet into tensors of integers representing the processed words\n",
        "            tensor = tweet_to_tensor(tweet, vocab_dict)\n",
        "            \n",
        "            # append the tensor to the batch list\n",
        "            batch.append(tensor)\n",
        "            \n",
        "            # Increment neg_index by one\n",
        "            neg_index += 1\n",
        "\n",
        "        if stop:\n",
        "            break;\n",
        "\n",
        "        # Update the start index for positive data \n",
        "        # so that it's n_to_take positions after the current pos_index\n",
        "        pos_index += n_to_take\n",
        "        \n",
        "        # Update the start index for negative data \n",
        "        # so that it's n_to_take positions after the current neg_index\n",
        "        neg_index += n_to_take\n",
        "        \n",
        "        # Get the max tweet length (the length of the longest tweet) \n",
        "        # (you will pad all shorter tweets to have this length)\n",
        "        max_len = max([len(t) for t in batch]) \n",
        "        \n",
        "        \n",
        "        # Initialize the input_l, which will \n",
        "        # store the padded versions of the tensors\n",
        "        tensor_pad_l = []\n",
        "        # Pad shorter tweets with zeros\n",
        "        for tensor in batch:\n",
        "\n",
        "            # Get the number of positions to pad for this tensor so that it will be max_len long\n",
        "            n_pad = max_len - len(tensor)\n",
        "            \n",
        "            # Generate a list of zeros, with length n_pad\n",
        "            pad_l = [0]*n_pad\n",
        "            \n",
        "            # concatenate the tensor and the list of padded zeros\n",
        "            tensor_pad = tensor + pad_l\n",
        "            \n",
        "            # append the padded tensor to the list of padded tensors\n",
        "            tensor_pad_l.append(tensor_pad)\n",
        "\n",
        "        # convert the list of padded tensors to a numpy array\n",
        "        # and store this as the model inputs\n",
        "        inputs = tnp.array(tensor_pad_l)\n",
        "  \n",
        "        # Generate the list of targets for the positive examples (a list of ones)\n",
        "        # The length is the number of positive examples in the batch\n",
        "        target_pos = [1]*n_to_take\n",
        "        \n",
        "        # Generate the list of targets for the negative examples (a list of zeros)\n",
        "        # The length is the number of negative examples in the batch\n",
        "        target_neg = [0]*n_to_take\n",
        "        \n",
        "        # Concatenate the positve and negative targets\n",
        "        target_l = target_pos + target_neg\n",
        "        \n",
        "        # Convert the target list into a numpy array\n",
        "        targets = tnp.array(target_l)\n",
        "\n",
        "        # Example weights: Treat all examples equally importantly.It should return an tnp.array. Hint: Use tnp.ones_like()\n",
        "        example_weights = tnp.ones_like(targets)\n",
        "        \n",
        "        # note we use yield and not return\n",
        "        yield inputs, targets, example_weights"
      ]
    },
    {
      "cell_type": "code",
      "execution_count": null,
      "id": "iIwM4YHtAVum",
      "metadata": {
        "colab": {
          "base_uri": "https://localhost:8080/"
        },
        "id": "iIwM4YHtAVum",
        "outputId": "a068fedf-3ae4-4efb-d13b-cce9ae9fb128"
      },
      "outputs": [],
      "source": [
        "# Set the random number generator for the shuffle procedure\n",
        "rnd.seed(30) \n",
        "\n",
        "# Create the training data generator\n",
        "\n",
        "def train_generator(batch_size, train_pos\n",
        "                    , train_neg, vocab_dict, loop=True\n",
        "                    , shuffle = False):\n",
        "    return data_generator(train_pos, train_neg, batch_size, loop, vocab_dict, shuffle)\n",
        "\n",
        "# Create the validation data generator\n",
        "def val_generator(batch_size, val_pos\n",
        "                    , val_neg, vocab_dict, loop=True\n",
        "                    , shuffle = False):\n",
        "    return data_generator(val_pos, val_neg, batch_size, loop, vocab_dict, shuffle)\n",
        "\n",
        "# Create the validation data generator\n",
        "def test_generator(batch_size, val_pos\n",
        "                    , val_neg, vocab_dict, loop=False\n",
        "                    , shuffle = False):\n",
        "    return data_generator(val_pos, val_neg, batch_size, loop, vocab_dict, shuffle)\n",
        "\n",
        "# Get a batch from the train_generator and inspect.\n",
        "inputs, targets, example_weights = next(train_generator(4, train_pos, train_neg, Vocab, shuffle=True))\n",
        "\n",
        "# this will print a list of 4 tensors padded with zeros\n",
        "print(f'Inputs: {inputs}')\n",
        "print(f'Targets: {targets}')\n",
        "print(f'Example Weights: {example_weights}')"
      ]
    },
    {
      "cell_type": "code",
      "execution_count": null,
      "id": "mcDOyrx9jCWh",
      "metadata": {
        "colab": {
          "base_uri": "https://localhost:8080/"
        },
        "id": "mcDOyrx9jCWh",
        "outputId": "9b6e86f7-b96a-4e7c-f001-c651e5661ae4"
      },
      "outputs": [],
      "source": [
        "# Test the train_generator\n",
        "\n",
        "# Create a data generator for training data,\n",
        "# which produces batches of size 4 (for tensors and their respective targets)\n",
        "tmp_data_gen = train_generator(batch_size = 4, train_pos=train_pos, train_neg=train_neg, vocab_dict=Vocab)\n",
        "\n",
        "# Call the data generator to get one batch and its targets\n",
        "tmp_inputs, tmp_targets, tmp_example_weights = next(tmp_data_gen)\n",
        "\n",
        "print(f\"The inputs shape is {tmp_inputs.shape}\")\n",
        "for i,t in enumerate(tmp_inputs):\n",
        "    print(f\"input tensor: {t}; target {tmp_targets[i]}; example weights {tmp_example_weights[i]}\")"
      ]
    },
    {
      "cell_type": "code",
      "execution_count": null,
      "id": "VGE5zZ5mzF9x",
      "metadata": {
        "id": "VGE5zZ5mzF9x"
      },
      "outputs": [],
      "source": [
        "class Relu(Layer):\n",
        "    \"\"\"Relu activation function implementation\"\"\"\n",
        "    def forward(self, x):\n",
        "        '''\n",
        "        Input: \n",
        "            - x (a numpy array): the input\n",
        "        Output:\n",
        "            - activation (numpy array): all positive or 0 version of x\n",
        "        '''\n",
        "        ### START CODE HERE (Replace instances of 'None' with your code) ###\n",
        "        \n",
        "        activation = tnp.maximum(x,0)\n",
        "\n",
        "        ### END CODE HERE ###\n",
        "        \n",
        "        return activation"
      ]
    },
    {
      "cell_type": "code",
      "execution_count": null,
      "id": "hVQ3YtoZ1uYP",
      "metadata": {
        "colab": {
          "base_uri": "https://localhost:8080/"
        },
        "id": "hVQ3YtoZ1uYP",
        "outputId": "9ea87263-434e-4ab3-a370-45d677e43f4e"
      },
      "outputs": [],
      "source": [
        "# Test your relu function\n",
        "x = tnp.array([[-2.0, -1.0, 0.0], [0.0, 1.0, 2.0]], dtype=float)\n",
        "relu_layer = Relu()\n",
        "print(\"Test data is:\")\n",
        "print(x)\n",
        "print(\"Output of Relu is:\")\n",
        "print(relu_layer(x))"
      ]
    },
    {
      "cell_type": "code",
      "execution_count": null,
      "id": "6reTe6asjCWt",
      "metadata": {
        "colab": {
          "base_uri": "https://localhost:8080/",
          "height": 139
        },
        "id": "6reTe6asjCWt",
        "outputId": "19ea943b-c4db-43ae-962c-cb5ec54678e7"
      },
      "outputs": [],
      "source": [
        "# See how the trax.fastmath.random.normal function works\n",
        "tmp_key = trax.fastmath.random.get_prng(seed=1)\n",
        "print(\"The random seed generated by random.get_prng\")\n",
        "display(tmp_key)\n",
        "\n",
        "print(\"choose a matrix with 2 rows and 3 columns\")\n",
        "tmp_shape=(2,3)\n",
        "display(tmp_shape)\n",
        "\n",
        "# Generate a weight matrix\n",
        "# Note that you'll get an error if you try to set dtype to tf.float32, where tf is tensorflow\n",
        "# Just avoid setting the dtype and allow it to use the default data type\n",
        "tmp_weight = trax.fastmath.random.normal(key=tmp_key, shape=tmp_shape)\n",
        "\n",
        "print(\"Weight matrix generated with a normal distribution with mean 0 and stdev of 1\")\n",
        "display(tmp_weight)"
      ]
    },
    {
      "cell_type": "code",
      "execution_count": null,
      "id": "783FfWt70660",
      "metadata": {
        "id": "783FfWt70660"
      },
      "outputs": [],
      "source": [
        "class Dense(Layer):\n",
        "    \"\"\"\n",
        "    A dense (fully-connected) layer.\n",
        "    \"\"\"\n",
        "\n",
        "    # __init__ is implemented for you\n",
        "    def __init__(self, n_units, init_stdev=0.1):\n",
        "        \n",
        "        # Set the number of units in this layer\n",
        "        self._n_units = n_units\n",
        "        self._init_stdev = init_stdev\n",
        "\n",
        "    # Please implement 'forward()'\n",
        "    def forward(self, x):\n",
        "\n",
        "        # Matrix multiply x and the weight matrix\n",
        "        dense = tnp.dot(x, self.weights)  \n",
        "\n",
        "        return dense\n",
        "\n",
        "    # init_weights\n",
        "    def init_weights_and_state(self, input_signature, random_key):\n",
        "        \n",
        "        # The input_signature has a .shape attribute that gives the shape as a tuple\n",
        "        input_shape = input_signature.shape\n",
        "\n",
        "        # Generate the weight matrix from a normal distribution, \n",
        "        # and standard deviation of 'stdev'        \n",
        "        w = self._init_stdev * random.normal(key = random_key, shape = (input_shape[-1], self._n_units))\n",
        "        \n",
        "        self.weights = w\n",
        "        return self.weights"
      ]
    },
    {
      "cell_type": "code",
      "execution_count": null,
      "id": "vw-z6n8SAVuy",
      "metadata": {
        "colab": {
          "base_uri": "https://localhost:8080/"
        },
        "id": "vw-z6n8SAVuy",
        "outputId": "1210a0e0-bf6d-4fa2-84a6-6002fe2bf877"
      },
      "outputs": [],
      "source": [
        "# Testing your Dense layer \n",
        "dense_layer = Dense(n_units=10)  #sets  number of units in dense layer\n",
        "random_key = trax.fastmath.random.get_prng(seed=0)  # sets random seed\n",
        "z = tnp.array([[2.0, 7.0, 25.0]]) # input array \n",
        "\n",
        "dense_layer.init(z, random_key)\n",
        "print(\"Weights are\\n \",dense_layer.weights) #Returns randomly generated weights\n",
        "print(\"Foward function output is \", dense_layer(z)) # Returns multiplied values of units and weights"
      ]
    },
    {
      "cell_type": "code",
      "execution_count": null,
      "id": "e7T47P__5_jf",
      "metadata": {
        "colab": {
          "base_uri": "https://localhost:8080/"
        },
        "id": "e7T47P__5_jf",
        "outputId": "fbbcaa60-a0d1-43e9-e784-8add908952bf"
      },
      "outputs": [],
      "source": [
        "# Testing your Dense layer \n",
        "dense_layer = Dense(n_units=5)  #sets  number of units in dense layer\n",
        "random_key = trax.fastmath.random.get_prng(seed=0)  # sets random seed\n",
        "z = tnp.array([[-1.0, 10.0, 0.0, 5.0]]) # input array \n",
        "\n",
        "dense_layer.init(z, random_key)\n",
        "print(\"Weights are\\n \",dense_layer.weights) #Returns randomly generated weights\n",
        "print(\"Foward function output is \", dense_layer(z)) # Returns multiplied values of units and weights"
      ]
    },
    {
      "cell_type": "code",
      "execution_count": null,
      "id": "RpbiDzN9jCW2",
      "metadata": {
        "colab": {
          "base_uri": "https://localhost:8080/"
        },
        "id": "RpbiDzN9jCW2",
        "outputId": "b60db5b6-4dff-4c4a-db74-35412d47286e"
      },
      "outputs": [],
      "source": [
        "# View documentation on tl.Dense\n",
        "help(tl.Dense)"
      ]
    },
    {
      "cell_type": "code",
      "execution_count": null,
      "id": "Hrblw_uJ4zmF",
      "metadata": {
        "colab": {
          "base_uri": "https://localhost:8080/"
        },
        "id": "Hrblw_uJ4zmF",
        "outputId": "87a9aba5-5c50-49cb-f72a-c2480bb53c23"
      },
      "outputs": [],
      "source": [
        "# View documentation on tl.Serial\n",
        "help(tl.Serial)"
      ]
    },
    {
      "cell_type": "code",
      "execution_count": null,
      "id": "Y5FAphBWjCW4",
      "metadata": {
        "colab": {
          "base_uri": "https://localhost:8080/"
        },
        "id": "Y5FAphBWjCW4",
        "outputId": "3768f742-2c70-403f-db11-d9c1d61c3fe4"
      },
      "outputs": [],
      "source": [
        "# View documentation for tl.Embedding\n",
        "help(tl.Embedding)"
      ]
    },
    {
      "cell_type": "code",
      "execution_count": null,
      "id": "Bi4OhkZbjCW6",
      "metadata": {
        "colab": {
          "base_uri": "https://localhost:8080/",
          "height": 34
        },
        "id": "Bi4OhkZbjCW6",
        "outputId": "3b577501-598b-423c-9600-1bd22691ad82"
      },
      "outputs": [],
      "source": [
        "# An example of and embedding layer\n",
        "rnd.seed(31)\n",
        "tmp_embed = tl.Embedding(d_feature=2, vocab_size=3)\n",
        "display(tmp_embed)"
      ]
    },
    {
      "cell_type": "code",
      "execution_count": null,
      "id": "4UxN3XXv5_jh",
      "metadata": {
        "colab": {
          "base_uri": "https://localhost:8080/",
          "height": 156
        },
        "id": "4UxN3XXv5_jh",
        "outputId": "414bbb3a-189a-43e0-a2f2-761d867790d8"
      },
      "outputs": [],
      "source": [
        "# Let's assume as an example, a batch of two lists\n",
        "# each list represents a set of tokenized words.\n",
        "tmp_in_arr = tnp.array([[0,1,2],\n",
        "                    [3,2,0]\n",
        "                   ])\n",
        "\n",
        "# In order to use the layer, we need to initialize its signature\n",
        "tmp_embed.init(trax.shapes.signature(tmp_in_arr))\n",
        "\n",
        "# Embedding layer will return an array of shape (batch size, vocab size, d_feature)\n",
        "tmp_embedded_arr = tmp_embed(tmp_in_arr)\n",
        "\n",
        "print(f\"Shape of returned array is {tmp_embedded_arr.shape}\")\n",
        "display(tmp_embedded_arr)"
      ]
    },
    {
      "cell_type": "code",
      "execution_count": null,
      "id": "CO0uMOOmjCW8",
      "metadata": {
        "colab": {
          "base_uri": "https://localhost:8080/"
        },
        "id": "CO0uMOOmjCW8",
        "outputId": "5bddf1d0-dec5-4466-e0ed-2872147d775f"
      },
      "outputs": [],
      "source": [
        "# view the documentation for tl.mean\n",
        "help(tl.Mean)"
      ]
    },
    {
      "cell_type": "code",
      "execution_count": null,
      "id": "eSS-_d38jCW-",
      "metadata": {
        "colab": {
          "base_uri": "https://localhost:8080/",
          "height": 86
        },
        "id": "eSS-_d38jCW-",
        "outputId": "3964a1ee-4b63-4cc8-a562-2273cd57043c"
      },
      "outputs": [],
      "source": [
        "# Pretend the embedding matrix uses \n",
        "# 2 elements for embedding the meaning of a word\n",
        "# and has a vocabulary size of 3\n",
        "# So it has shape (2,3)\n",
        "tmp_embed = tnp.array([[1,2,3,],\n",
        "                    [4,5,6]\n",
        "                   ])\n",
        "\n",
        "# take the mean along axis 0\n",
        "print(\"The mean along axis 0 creates a vector whose length equals the vocabulary size\")\n",
        "display(tnp.mean(tmp_embed,axis=0))\n",
        "\n",
        "print(\"The mean along axis 1 creates a vector whose length equals the number of elements in a word embedding\")\n",
        "display(tnp.mean(tmp_embed,axis=1))"
      ]
    },
    {
      "cell_type": "code",
      "execution_count": null,
      "id": "0UsQjFrAjCXF",
      "metadata": {
        "colab": {
          "base_uri": "https://localhost:8080/"
        },
        "id": "0UsQjFrAjCXF",
        "outputId": "a4472f2f-ca6a-4885-e953-f234aed9122a"
      },
      "outputs": [],
      "source": [
        "help(tl.LogSoftmax)"
      ]
    },
    {
      "cell_type": "code",
      "execution_count": null,
      "id": "Wh33Hk8lgrgz",
      "metadata": {
        "id": "Wh33Hk8lgrgz"
      },
      "outputs": [],
      "source": [
        "def classifier(vocab_size=len(Vocab), embedding_dim=256, output_dim=2, mode='train'):\n",
        "\n",
        "    # create embedding layer\n",
        "    embed_layer = tl.Embedding(\n",
        "        vocab_size=vocab_size, # Size of the vocabulary\n",
        "        d_feature=embedding_dim)  # Embedding dimension\n",
        "    \n",
        "    # Create a mean layer, to create an \"average\" word embedding\n",
        "    mean_layer = tl.Mean(axis=1)\n",
        "    \n",
        "    # Create a dense layer, one unit for each output\n",
        "    dense_output_layer = tl.Dense(n_units = output_dim)\n",
        "\n",
        "    \n",
        "    # Create the log softmax layer (no parameters needed)\n",
        "    log_softmax_layer = tl.LogSoftmax()\n",
        "    \n",
        "    # Use tl.Serial to combine all layers\n",
        "    # and create the classifier\n",
        "    # of type trax.layers.combinators.Serial\n",
        "    model = tl.Serial(\n",
        "      embed_layer, # embedding layer\n",
        "      mean_layer, # mean layer\n",
        "      dense_output_layer, # dense output layer \n",
        "      log_softmax_layer  # log softmax layer\n",
        "    )\n",
        "    \n",
        "    # return the model of type\n",
        "    return model"
      ]
    },
    {
      "cell_type": "code",
      "execution_count": null,
      "id": "OwJCu3e9jCXK",
      "metadata": {
        "id": "OwJCu3e9jCXK"
      },
      "outputs": [],
      "source": [
        "tmp_model = classifier(vocab_size=len(Vocab))"
      ]
    },
    {
      "cell_type": "code",
      "execution_count": null,
      "id": "ZsMzvK8YjCXM",
      "metadata": {
        "colab": {
          "base_uri": "https://localhost:8080/",
          "height": 139
        },
        "id": "ZsMzvK8YjCXM",
        "outputId": "8d7dd694-3f1a-48cb-fd89-2979b6eb77ae"
      },
      "outputs": [],
      "source": [
        "print(type(tmp_model))\n",
        "display(tmp_model)"
      ]
    },
    {
      "cell_type": "code",
      "execution_count": null,
      "id": "UGgKw03jjCXP",
      "metadata": {
        "colab": {
          "base_uri": "https://localhost:8080/"
        },
        "id": "UGgKw03jjCXP",
        "outputId": "1aa8647a-16b8-4ce1-accb-82af9d562eaa"
      },
      "outputs": [],
      "source": [
        "# View documentation for trax.supervised.training.TrainTask\n",
        "help(trax.supervised.training.TrainTask)"
      ]
    },
    {
      "cell_type": "code",
      "execution_count": null,
      "id": "Tr2MmdWDn6hV",
      "metadata": {
        "colab": {
          "base_uri": "https://localhost:8080/"
        },
        "id": "Tr2MmdWDn6hV",
        "outputId": "4d8fba0c-021d-4b94-d4a2-1a7d6c3d3cb1"
      },
      "outputs": [],
      "source": [
        "# View documentation for trax.supervised.training.EvalTask\n",
        "help(trax.supervised.training.EvalTask)"
      ]
    },
    {
      "cell_type": "code",
      "execution_count": null,
      "id": "XkUVMzVXn_8f",
      "metadata": {
        "colab": {
          "base_uri": "https://localhost:8080/"
        },
        "id": "XkUVMzVXn_8f",
        "outputId": "9f8fb869-1ff9-4ec5-adac-b6c1c3484aa4"
      },
      "outputs": [],
      "source": [
        "# View documentation for trax.supervised.training.Loop\n",
        "help(trax.supervised.training.Loop)"
      ]
    },
    {
      "cell_type": "code",
      "execution_count": null,
      "id": "Ooekq1F305bt",
      "metadata": {
        "colab": {
          "base_uri": "https://localhost:8080/"
        },
        "id": "Ooekq1F305bt",
        "outputId": "ec123745-d160-4bb5-e4d7-e50dfe046490"
      },
      "outputs": [],
      "source": [
        "# View optimizers that you could choose from\n",
        "help(trax.optimizers)"
      ]
    },
    {
      "cell_type": "code",
      "execution_count": null,
      "id": "ogMtJgHSoiZj",
      "metadata": {
        "id": "ogMtJgHSoiZj"
      },
      "outputs": [],
      "source": [
        "def get_train_eval_tasks(train_pos, train_neg, val_pos, val_neg, vocab_dict, loop, batch_size = 16):\n",
        "    \n",
        "    rnd.seed(271)\n",
        "\n",
        "    train_task = training.TrainTask(\n",
        "        labeled_data=train_generator(batch_size, train_pos\n",
        "                    , train_neg, vocab_dict, loop\n",
        "                    , shuffle = True),\n",
        "        loss_layer=tl.WeightedCategoryCrossEntropy(),\n",
        "        optimizer=trax.optimizers.Adam(0.01),\n",
        "        n_steps_per_checkpoint=10,\n",
        "    )\n",
        "\n",
        "    eval_task = training.EvalTask(\n",
        "        labeled_data=val_generator(batch_size, val_pos\n",
        "                    , val_neg, vocab_dict, loop\n",
        "                    , shuffle = True),        \n",
        "        metrics=[tl.WeightedCategoryCrossEntropy(), tl.WeightedCategoryAccuracy()],\n",
        "    )\n",
        "    \n",
        "    return train_task, eval_task\n",
        "    \n",
        "\n",
        "train_task, eval_task = get_train_eval_tasks(train_pos, train_neg, val_pos, val_neg, Vocab, True, batch_size = 16)\n",
        "model = classifier()"
      ]
    },
    {
      "cell_type": "code",
      "execution_count": null,
      "id": "PI9NkACU5_jn",
      "metadata": {
        "colab": {
          "base_uri": "https://localhost:8080/"
        },
        "id": "PI9NkACU5_jn",
        "outputId": "d99bbb66-6aca-4bfa-b6c4-470b70a69dc6"
      },
      "outputs": [],
      "source": [
        "model"
      ]
    },
    {
      "cell_type": "code",
      "execution_count": null,
      "id": "CNx4LnP9rMsO",
      "metadata": {
        "colab": {
          "base_uri": "https://localhost:8080/"
        },
        "id": "CNx4LnP9rMsO",
        "outputId": "4dd329ee-b1c1-4cd5-da3c-281d29b170ed"
      },
      "outputs": [],
      "source": [
        "dir_path = './model/'\n",
        "\n",
        "try:\n",
        "    shutil.rmtree(dir_path)\n",
        "except OSError as e:\n",
        "    pass\n",
        "\n",
        "\n",
        "output_dir = './model/'\n",
        "output_dir_expand = os.path.expanduser(output_dir)\n",
        "print(output_dir_expand)"
      ]
    },
    {
      "cell_type": "code",
      "execution_count": null,
      "id": "tolygrj7rpFX",
      "metadata": {
        "id": "tolygrj7rpFX"
      },
      "outputs": [],
      "source": [
        "def train_model(classifier, train_task, eval_task, n_steps, output_dir):\n",
        "    '''\n",
        "    Input: \n",
        "        classifier - the model you are building\n",
        "        train_task - Training task\n",
        "        eval_task - Evaluation task\n",
        "        n_steps - the evaluation steps\n",
        "        output_dir - folder to save your files\n",
        "    Output:\n",
        "        trainer -  trax trainer\n",
        "    '''\n",
        "   \n",
        "    training_loop = training.Loop(\n",
        "                                classifier, # The learning model\n",
        "                                train_task, # The training task\n",
        "                                ## eval_tasks = [eval_task] is necessary to avoid an issue here https://github.com/google/trax/issues/1541\n",
        "                                eval_tasks = [eval_task], # The evaluation task\n",
        "                                output_dir = output_dir) # The output directory\n",
        "\n",
        "    training_loop.run(n_steps = n_steps)\n",
        "\n",
        "    # Return the training_loop, since it has the model.\n",
        "    return training_loop"
      ]
    },
    {
      "cell_type": "code",
      "execution_count": null,
      "id": "d-AtiqAYs_rH",
      "metadata": {
        "colab": {
          "base_uri": "https://localhost:8080/"
        },
        "id": "d-AtiqAYs_rH",
        "outputId": "f1db4ef5-6cbb-414b-9110-0cfd83e830c4"
      },
      "outputs": [],
      "source": [
        "training_loop = train_model(model, train_task, eval_task, 100, output_dir_expand)"
      ]
    },
    {
      "cell_type": "code",
      "execution_count": null,
      "id": "WAMgXWY4jCX-",
      "metadata": {
        "colab": {
          "base_uri": "https://localhost:8080/"
        },
        "id": "WAMgXWY4jCX-",
        "outputId": "5068d338-d81a-45c9-f1ea-9a92c79647aa"
      },
      "outputs": [],
      "source": [
        "# Create a generator object\n",
        "tmp_train_generator = train_generator(16, train_pos\n",
        "                    , train_neg, Vocab, loop=True\n",
        "                    , shuffle = False)\n",
        "\n",
        "\n",
        "\n",
        "# get one batch\n",
        "tmp_batch = next(tmp_train_generator)\n",
        "\n",
        "# Position 0 has the model inputs (tweets as tensors)\n",
        "# position 1 has the targets (the actual labels)\n",
        "tmp_inputs, tmp_targets, tmp_example_weights = tmp_batch\n",
        "\n",
        "print(f\"The batch is a tuple of length {len(tmp_batch)} because position 0 contains the tweets, and position 1 contains the targets.\") \n",
        "print(f\"The shape of the tweet tensors is {tmp_inputs.shape} (num of examples, length of tweet tensors)\")\n",
        "print(f\"The shape of the labels is {tmp_targets.shape}, which is the batch size.\")\n",
        "print(f\"The shape of the example_weights is {tmp_example_weights.shape}, which is the same as inputs/targets size.\")"
      ]
    },
    {
      "cell_type": "code",
      "execution_count": null,
      "id": "5XoxD6u5jCX_",
      "metadata": {
        "colab": {
          "base_uri": "https://localhost:8080/"
        },
        "id": "5XoxD6u5jCX_",
        "outputId": "352966b3-abde-4d8b-839e-26cea22c3189"
      },
      "outputs": [],
      "source": [
        "# feed the tweet tensors into the model to get a prediction\n",
        "tmp_pred = training_loop.eval_model(tmp_inputs)\n",
        "print(f\"The prediction shape is {tmp_pred.shape}, num of tensor_tweets as rows\")\n",
        "print(\"Column 0 is the probability of a negative sentiment (class 0)\")\n",
        "print(\"Column 1 is the probability of a positive sentiment (class 1)\")\n",
        "print()\n",
        "print(\"View the prediction array\")\n",
        "tmp_pred"
      ]
    },
    {
      "cell_type": "code",
      "execution_count": null,
      "id": "6wJHv0TNjCYC",
      "metadata": {
        "colab": {
          "base_uri": "https://localhost:8080/"
        },
        "id": "6wJHv0TNjCYC",
        "outputId": "43d84852-9390-4359-95c6-30b5ad5cc4d6"
      },
      "outputs": [],
      "source": [
        "# turn probabilites into category predictions\n",
        "tmp_is_positive = tmp_pred[:,1] > tmp_pred[:,0]\n",
        "for i, p in enumerate(tmp_is_positive):\n",
        "    print(f\"Neg log prob {tmp_pred[i,0]:.4f}\\tPos log prob {tmp_pred[i,1]:.4f}\\t is positive? {p}\\t actual {tmp_targets[i]}\")"
      ]
    },
    {
      "cell_type": "code",
      "execution_count": null,
      "id": "CQgx_ar9jCYG",
      "metadata": {
        "colab": {
          "base_uri": "https://localhost:8080/",
          "height": 156
        },
        "id": "CQgx_ar9jCYG",
        "outputId": "7ca624df-06ab-4937-e9b7-a59e3264e141"
      },
      "outputs": [],
      "source": [
        "# View the array of booleans\n",
        "print(\"Array of booleans\")\n",
        "display(tmp_is_positive)\n",
        "\n",
        "# convert boolean to type int32\n",
        "# True is converted to 1\n",
        "# False is converted to 0\n",
        "tmp_is_positive_int = tmp_is_positive.astype(tnp.int32)\n",
        "\n",
        "\n",
        "# View the array of integers\n",
        "print(\"Array of integers\")\n",
        "display(tmp_is_positive_int)\n",
        "\n",
        "# convert boolean to type float32\n",
        "tmp_is_positive_float = tmp_is_positive.astype(tnp.float32)\n",
        "\n",
        "# View the array of floats\n",
        "print(\"Array of floats\")\n",
        "display(tmp_is_positive_float)"
      ]
    },
    {
      "cell_type": "code",
      "execution_count": null,
      "id": "GbKFCf0njCYJ",
      "metadata": {
        "colab": {
          "base_uri": "https://localhost:8080/"
        },
        "id": "GbKFCf0njCYJ",
        "outputId": "cfa4b20b-f590-4495-fe19-83a74373e497"
      },
      "outputs": [],
      "source": [
        "print(f\"True == 1: {True == 1}\")\n",
        "print(f\"True == 2: {True == 2}\")\n",
        "print(f\"False == 0: {False == 0}\")\n",
        "print(f\"False == 2: {False == 2}\")"
      ]
    },
    {
      "cell_type": "code",
      "execution_count": null,
      "id": "WBqaN5f9grhJ",
      "metadata": {
        "id": "WBqaN5f9grhJ"
      },
      "outputs": [],
      "source": [
        "def compute_accuracy(preds, y, y_weights):\n",
        "    \"\"\"\n",
        "    Input: \n",
        "        preds: a tensor of shape (dim_batch, output_dim) \n",
        "        y: a tensor of shape (dim_batch, output_dim) with the true labels\n",
        "        y_weights: a n.ndarray with the a weight for each example\n",
        "    Output: \n",
        "        accuracy: a float between 0-1 \n",
        "        weighted_num_correct (tnp.float32): Sum of the weighted correct predictions\n",
        "        sum_weights (tnp.float32): Sum of the weights\n",
        "    \"\"\"\n",
        "    # Create an array of booleans, \n",
        "    # True if the probability of positive sentiment is greater than\n",
        "    # the probability of negative sentiment\n",
        "    # else False\n",
        "    is_pos =  preds[:, 1] > preds[:, 0] \n",
        "\n",
        "    # convert the array of booleans into an array of tnp.int32\n",
        "    is_pos_int = is_pos.astype(tnp.int32)\n",
        "    \n",
        "    # compare the array of predictions (as int32) with the target (labels) of type int32\n",
        "    correct = is_pos_int == y\n",
        "\n",
        "    # Count the sum of the weights.\n",
        "    sum_weights = tnp.sum(y_weights)\n",
        "    \n",
        "    # convert the array of correct predictions (boolean) into an arrayof tnp.float32\n",
        "    correct_float = correct.astype(tnp.float32)\n",
        "    \n",
        "    # Multiply each prediction with its corresponding weight.\n",
        "    weighted_correct_float = correct_float * y_weights\n",
        "\n",
        "    # Sum up the weighted correct predictions (of type tnp.float32), to go in the\n",
        "    # denominator.\n",
        "    weighted_num_correct = tnp.sum(weighted_correct_float)\n",
        " \n",
        "    # Divide the number of weighted correct predictions by the sum of the\n",
        "    # weights.\n",
        "    accuracy = weighted_num_correct / sum_weights\n",
        "\n",
        "    return accuracy, weighted_num_correct, sum_weights"
      ]
    },
    {
      "cell_type": "code",
      "execution_count": null,
      "id": "1c7ZOeO0jCYN",
      "metadata": {
        "colab": {
          "base_uri": "https://localhost:8080/"
        },
        "id": "1c7ZOeO0jCYN",
        "outputId": "4b6a198f-8ff7-4e92-bf16-645cb7d7b4b8"
      },
      "outputs": [],
      "source": [
        "# test your function\n",
        "tmp_val_generator = val_generator(64, val_pos\n",
        "                    , val_neg, Vocab, loop=True\n",
        "                    , shuffle = False)\n",
        "\n",
        "# get one batch\n",
        "tmp_batch = next(tmp_val_generator)\n",
        "\n",
        "# Position 0 has the model inputs (tweets as tensors)\n",
        "# position 1 has the targets (the actual labels)\n",
        "tmp_inputs, tmp_targets, tmp_example_weights = tmp_batch\n",
        "\n",
        "# feed the tweet tensors into the model to get a prediction\n",
        "tmp_pred = training_loop.eval_model(tmp_inputs)\n",
        "tmp_acc, tmp_num_correct, tmp_num_predictions = compute_accuracy(preds=tmp_pred, y=tmp_targets, y_weights=tmp_example_weights)\n",
        "\n",
        "print(f\"Model's prediction accuracy on a single training batch is: {100 * tmp_acc}%\")\n",
        "print(f\"Weighted number of correct predictions {tmp_num_correct}; weighted number of total observations predicted {tmp_num_predictions}\")"
      ]
    },
    {
      "cell_type": "code",
      "execution_count": null,
      "id": "HKoTad4ggrhN",
      "metadata": {
        "id": "HKoTad4ggrhN"
      },
      "outputs": [],
      "source": [
        "def test_model(generator, model):\n",
        "    '''\n",
        "    Input: \n",
        "        generator: an iterator instance that provides batches of inputs and targets\n",
        "        model: a model instance \n",
        "    Output: \n",
        "        accuracy: float corresponding to the accuracy\n",
        "    '''\n",
        "    \n",
        "    accuracy = 0.\n",
        "    total_num_correct = 0\n",
        "    total_num_pred = 0\n",
        "    \n",
        "    for batch in generator: \n",
        "        \n",
        "        # Retrieve the inputs from the batch\n",
        "        inputs = batch[0]\n",
        "        \n",
        "        # Retrieve the targets (actual labels) from the batch\n",
        "        targets = batch[1]\n",
        "        \n",
        "        # Retrieve the example weight.\n",
        "        example_weight = batch[2]\n",
        "\n",
        "        # Make predictions using the inputs\n",
        "        pred = model(inputs)\n",
        "        \n",
        "        # Calculate accuracy for the batch by comparing its predictions and targets\n",
        "        batch_accuracy, batch_num_correct, batch_num_pred = compute_accuracy(pred, targets, example_weight)\n",
        "        \n",
        "        # Update the total number of correct predictions\n",
        "        # by adding the number of correct predictions from this batch\n",
        "        total_num_correct += batch_num_correct\n",
        "        \n",
        "        # Update the total number of predictions \n",
        "        # by adding the number of predictions made for the batch\n",
        "        total_num_pred += batch_num_pred\n",
        "\n",
        "    # Calculate accuracy over all examples\n",
        "    accuracy = total_num_correct / total_num_pred\n",
        "    \n",
        "    return accuracy"
      ]
    },
    {
      "cell_type": "code",
      "execution_count": null,
      "id": "1Rm_k21XgrhQ",
      "metadata": {
        "colab": {
          "base_uri": "https://localhost:8080/"
        },
        "id": "1Rm_k21XgrhQ",
        "outputId": "061fdcd8-39c3-4555-af74-be651b9754f3"
      },
      "outputs": [],
      "source": [
        "model = training_loop.eval_model\n",
        "accuracy = test_model(test_generator(16, val_pos\n",
        "                    , val_neg, Vocab, loop=False\n",
        "                    , shuffle = False), model)\n",
        "\n",
        "print(f'The accuracy of your model on the validation set is {accuracy:.4f}', )"
      ]
    },
    {
      "cell_type": "code",
      "execution_count": null,
      "id": "SUq5cw-xgrhU",
      "metadata": {
        "id": "SUq5cw-xgrhU"
      },
      "outputs": [],
      "source": [
        "# this is used to predict on your own sentnece\n",
        "def predict(sentence):\n",
        "    inputs = tnp.array(tweet_to_tensor(sentence, vocab_dict=Vocab))\n",
        "    \n",
        "    # Batch size 1, add dimension for batch, to work with the model\n",
        "    inputs = inputs[None, :]  \n",
        "    \n",
        "    # predict with the model\n",
        "    preds_probs = model(inputs)\n",
        "    \n",
        "    # Turn probabilities into categories\n",
        "    preds = int(preds_probs[0, 1] > preds_probs[0, 0])\n",
        "    \n",
        "    sentiment = \"negative\"\n",
        "    if preds == 1:\n",
        "        sentiment = 'positive'\n",
        "\n",
        "    return preds, sentiment"
      ]
    },
    {
      "cell_type": "code",
      "execution_count": null,
      "id": "3RJntC57grhX",
      "metadata": {
        "colab": {
          "base_uri": "https://localhost:8080/"
        },
        "id": "3RJntC57grhX",
        "outputId": "d216b756-dd06-4d73-b909-4e8c6256cc2a"
      },
      "outputs": [],
      "source": [
        "# try a positive sentence\n",
        "sentence = \"It's such a nice day, I think I'll be taking Sid to Ramsgate for lunch and then to the beach maybe.\"\n",
        "tmp_pred, tmp_sentiment = predict(sentence)\n",
        "print(f\"The sentiment of the sentence \\n***\\n\\\"{sentence}\\\"\\n***\\nis {tmp_sentiment}.\")\n",
        "\n",
        "print()\n",
        "# try a negative sentence\n",
        "sentence = \"I hated my day, it was the worst, I'm so sad.\"\n",
        "tmp_pred, tmp_sentiment = predict(sentence)\n",
        "print(f\"The sentiment of the sentence \\n***\\n\\\"{sentence}\\\"\\n***\\nis {tmp_sentiment}.\")"
      ]
    },
    {
      "cell_type": "code",
      "execution_count": null,
      "id": "TWIROB9u5_j2",
      "metadata": {
        "id": "TWIROB9u5_j2"
      },
      "outputs": [],
      "source": [
        "embeddings = model.weights[0]"
      ]
    },
    {
      "cell_type": "code",
      "execution_count": null,
      "id": "NJ4wpAVO5_j3",
      "metadata": {
        "colab": {
          "base_uri": "https://localhost:8080/"
        },
        "id": "NJ4wpAVO5_j3",
        "outputId": "3f65ce4a-44e2-41ca-d19e-d96ac6705aba"
      },
      "outputs": [],
      "source": [
        "embeddings.shape"
      ]
    },
    {
      "cell_type": "code",
      "execution_count": null,
      "id": "Khl55SDN5_j3",
      "metadata": {
        "id": "Khl55SDN5_j3"
      },
      "outputs": [],
      "source": [
        "from sklearn.decomposition import PCA #Import PCA from scikit-learn\n",
        "pca = PCA(n_components=2) #PCA with two dimensions\n",
        "\n",
        "emb_2dim = pca.fit_transform(embeddings) #Dimensionality reduction of the word embeddings"
      ]
    },
    {
      "cell_type": "code",
      "execution_count": null,
      "id": "psj9vgr75_j4",
      "metadata": {
        "colab": {
          "base_uri": "https://localhost:8080/",
          "height": 281
        },
        "id": "psj9vgr75_j4",
        "outputId": "9b1b4ebc-d443-44b9-aba4-052f11dfff20"
      },
      "outputs": [],
      "source": [
        "%matplotlib inline\n",
        "import matplotlib.pyplot as plt\n",
        "\n",
        "#Selection of negative and positive words\n",
        "neg_words = ['worst', 'bad', 'hurt', 'sad', 'hate']\n",
        "pos_words = ['best', 'good', 'nice', 'better', 'love']\n",
        "\n",
        "#Index of each selected word\n",
        "neg_n = [Vocab[w] for w in neg_words]\n",
        "pos_n = [Vocab[w] for w in pos_words]\n",
        "\n",
        "plt.figure()\n",
        "\n",
        "#Scatter plot for negative words\n",
        "plt.scatter(emb_2dim[neg_n][:,0],emb_2dim[neg_n][:,1], color = 'r')\n",
        "for i, txt in enumerate(neg_words): \n",
        "    plt.annotate(txt, (emb_2dim[neg_n][i,0],emb_2dim[neg_n][i,1]))\n",
        "\n",
        "#Scatter plot for positive words\n",
        "plt.scatter(emb_2dim[pos_n][:,0],emb_2dim[pos_n][:,1], color = 'g')\n",
        "for i, txt in enumerate(pos_words): \n",
        "    plt.annotate(txt,(emb_2dim[pos_n][i,0],emb_2dim[pos_n][i,1]))\n",
        "\n",
        "plt.title('Word embeddings in 2d')\n",
        "\n",
        "plt.show()"
      ]
    }
  ],
  "metadata": {
    "colab": {
      "provenance": []
    },
    "jupytext": {
      "encoding": "# -*- coding: utf-8 -*-"
    },
    "kernelspec": {
      "display_name": "Python 3",
      "language": "python",
      "name": "python3"
    },
    "language_info": {
      "codemirror_mode": {
        "name": "ipython",
        "version": 3
      },
      "file_extension": ".py",
      "mimetype": "text/x-python",
      "name": "python",
      "nbconvert_exporter": "python",
      "pygments_lexer": "ipython3",
      "version": "3.7.6"
    }
  },
  "nbformat": 4,
  "nbformat_minor": 5
}
